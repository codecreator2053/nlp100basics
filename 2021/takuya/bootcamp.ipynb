{
 "cells": [
  {
   "cell_type": "code",
   "execution_count": 2,
   "id": "f49a3430",
   "metadata": {},
   "outputs": [
    {
     "name": "stdout",
     "output_type": "stream",
     "text": [
      "[('I', 'am'), ('am', 'an'), ('an', 'NLPer')]\n",
      "[('I', 'a'), ('a', 'm'), ('m', 'a'), ('a', 'n'), ('n', 'N'), ('N', 'L'), ('L', 'P'), ('P', 'e'), ('e', 'r')]\n"
     ]
    }
   ],
   "source": [
    "# Question 5\n",
    "\n",
    "t1 = \"I am an NLPer\"\n",
    "\n",
    "def bigram(text, type=None):\n",
    "  bg = []\n",
    "  txt = text.split()\n",
    "  if type == \"v\":\n",
    "    for i in range(len(txt)-1):\n",
    "      w = (txt[i], txt[i+1])\n",
    "      bg.append(w)\n",
    "  elif type == \"ch\":\n",
    "    t = \"\".join(txt)\n",
    "    #print(t)\n",
    "    for x in range(len(t)-1):\n",
    "        a = (t[x], t[x+1])\n",
    "        bg.append(a)\n",
    "  return bg\n",
    "\n",
    "print(bigram(t1, type=\"v\"))\n",
    "print(bigram(t1, type=\"ch\"))"
   ]
  },
  {
   "cell_type": "code",
   "execution_count": 3,
   "id": "51e7026d",
   "metadata": {},
   "outputs": [
    {
     "name": "stdout",
     "output_type": "stream",
     "text": [
      "{('i', 's'), ('r', 'a'), ('a', 'r'), ('p', 'a'), ('a', 'g'), ('a', 'p'), ('g', 'r'), ('s', 'e'), ('d', 'i'), ('a', 'd'), ('p', 'h')}\n",
      "{('a', 'p'), ('r', 'a'), ('a', 'r'), ('p', 'a')}\n",
      "{('i', 's'), ('a', 'd'), ('s', 'e'), ('d', 'i')}\n",
      "True\n",
      "False\n"
     ]
    }
   ],
   "source": [
    "# Question 6\n",
    "\n",
    "t1 = \"paraparaparadise\"\n",
    "t2 = \"paragraph\"\n",
    "\n",
    "x = set(bigram(t1, type=\"ch\"))\n",
    "y = set(bigram(t2, type=\"ch\"))\n",
    "\n",
    "# Union\n",
    "print(x.union(y))\n",
    "# Intersection\n",
    "print(x.intersection(y))\n",
    "# Difference\n",
    "print(x.difference(y))\n",
    "\n",
    "if ('s', 'e') in x:\n",
    "  print(\"True\")\n",
    "else:\n",
    "  print(\"False\")\n",
    "\n",
    "if ('s', 'e') in y:\n",
    "  print(\"True\")\n",
    "else:\n",
    "  print(\"False\")"
   ]
  },
  {
   "cell_type": "code",
   "execution_count": 5,
   "id": "9f170614",
   "metadata": {},
   "outputs": [
    {
     "name": "stdout",
     "output_type": "stream",
     "text": [
      "Answer for Q8: \t I xlfowm'g yvorvev gszg I xlfow zxgfzoob fmwvihgzmw dszg I dzh ivzwrmt\n"
     ]
    }
   ],
   "source": [
    "# Question 8 \n",
    "\n",
    "#import string\n",
    "\n",
    "a = [chr(i) for i in range(97, 123)]\n",
    "\n",
    "d = {}\n",
    "for i in range(0, len(a)):\n",
    "\td[a[i]] = 97 + i\n",
    "#print(d)\n",
    "\n",
    "def cipher(text):\n",
    "\tr = []\n",
    "\tfor i in range(len(text)):\n",
    "\t\tif text[i].islower() == True:\n",
    "\t\t\tif text[i].isalpha():\n",
    "\t\t\t\t#print(t[i])\n",
    "\t\t\t\tfor ch in text[i]:\n",
    "\t\t\t\t\tc = 219 - d[ch]\n",
    "\t\t\t\t\tr.append(chr(c))\n",
    "\t\telse:\n",
    "\t\t\tr.append(text[i])\n",
    "\treturn ''.join(r)\n",
    "\n",
    "sent = \"I couldn't believe that I could actually understand what I was reading\"\n",
    "print(\"Answer for Q8: \\t\", cipher(sent))"
   ]
  },
  {
   "cell_type": "code",
   "execution_count": 7,
   "id": "a69f67b1",
   "metadata": {},
   "outputs": [
    {
     "name": "stdout",
     "output_type": "stream",
     "text": [
      "Answer for Q9: \t I c'onludt bieevle that I colud alcluaty utsnandred what I was rediang : the pmnaoneehl pewor of the huamn mind\n"
     ]
    }
   ],
   "source": [
    "import random\n",
    "\n",
    "s = \"I couldn't believe that I could actually understand what I was reading : the phenomenal power of the human mind .\"\n",
    "\n",
    "\n",
    "def rr(text):\n",
    "    t = text.split()\n",
    "\n",
    "    r = []\n",
    "\n",
    "    for i in range(0, len(t)-1):\n",
    "        l = len(t[i])\n",
    "        if l > 4:\n",
    "            #print(t[i][1:l-1])\n",
    "            s = random.sample(t[i][1:l-1], l-2)\n",
    "            a = t[i][0] + ''.join(s) + t[i][l-1]\n",
    "            r.append(a)\n",
    "        else:\n",
    "            r.append(t[i])\n",
    "    return r\n",
    "\n",
    "print(\"Answer for Q9: \\t\", ' '.join(rr(s)))"
   ]
  },
  {
   "cell_type": "code",
   "execution_count": null,
   "id": "ea31e2c0",
   "metadata": {},
   "outputs": [],
   "source": []
  }
 ],
 "metadata": {
  "kernelspec": {
   "display_name": "Python 3",
   "language": "python",
   "name": "python3"
  },
  "language_info": {
   "codemirror_mode": {
    "name": "ipython",
    "version": 3
   },
   "file_extension": ".py",
   "mimetype": "text/x-python",
   "name": "python",
   "nbconvert_exporter": "python",
   "pygments_lexer": "ipython3",
   "version": "3.9.1"
  }
 },
 "nbformat": 4,
 "nbformat_minor": 5
}
