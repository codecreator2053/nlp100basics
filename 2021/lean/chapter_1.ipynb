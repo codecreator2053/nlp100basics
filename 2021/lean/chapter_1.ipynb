{
 "metadata": {
  "language_info": {
   "codemirror_mode": {
    "name": "ipython",
    "version": 3
   },
   "file_extension": ".py",
   "mimetype": "text/x-python",
   "name": "python",
   "nbconvert_exporter": "python",
   "pygments_lexer": "ipython3",
   "version": "3.8.5"
  },
  "orig_nbformat": 2,
  "kernelspec": {
   "name": "python3",
   "display_name": "Python 3.8.5 64-bit ('base': conda)",
   "metadata": {
    "interpreter": {
     "hash": "ae02e1abcabc2c4ce1e3ca3b661be3d5ecdf8aaddc1905d584ea166852281736"
    }
   }
  }
 },
 "nbformat": 4,
 "nbformat_minor": 2,
 "cells": [
  {
   "source": [
    "# Chapter 1 Exercises https://nlp100.github.io/en/ch01.html"
   ],
   "cell_type": "markdown",
   "metadata": {}
  },
  {
   "source": [
    "## 05. n-gram\n",
    "Implement a function that obtains n-grams from a given sequence object (e.g., string and list). Use this function to obtain word bi-grams and letter bi-grams from the sentence “I am an NLPer”\n",
    "\n"
   ],
   "cell_type": "markdown",
   "metadata": {}
  },
  {
   "cell_type": "code",
   "execution_count": 191,
   "metadata": {},
   "outputs": [],
   "source": [
    "def n_grammer(text, n, kind = 'word'):\n",
    "    # assert(type not in ['letter', 'word'])\n",
    "    if type(kind) != str:\n",
    "        raise TypeError(\"'type' should be a string\")\n",
    "\n",
    "    if kind not in ['letter', 'word']:\n",
    "        raise ValueError(\"Please set type as either 'letter' or 'word'.\")    \n",
    "        \n",
    "    output = []\n",
    "\n",
    "    if kind == 'letter':\n",
    "        # text_concatenated = text.replace(' ', '')\n",
    "        if n > len(text):\n",
    "            return(text)\n",
    "        else:\n",
    "            for i in range(len(text)):\n",
    "                if i > len(text) - n:\n",
    "                    break\n",
    "                else:\n",
    "                    output.append(text[i:i+n])\n",
    "            return output\n",
    "            \n",
    "    elif kind == 'word':\n",
    "        words = text.split()\n",
    "        if n > len(words):\n",
    "            return text\n",
    "        else:\n",
    "            for i in range(len(words)):\n",
    "                if i > len(words) - n:\n",
    "                    break\n",
    "                else:\n",
    "                    output.append(words[i:i+n])\n",
    "            return output"
   ]
  },
  {
   "cell_type": "code",
   "execution_count": 192,
   "metadata": {},
   "outputs": [
    {
     "output_type": "execute_result",
     "data": {
      "text/plain": [
       "[['I', 'am'], ['am', 'an'], ['an', 'NLPer']]"
      ]
     },
     "metadata": {},
     "execution_count": 192
    }
   ],
   "source": [
    "n_grammer('I am an NLPer', 2, 'word')"
   ]
  },
  {
   "cell_type": "code",
   "execution_count": 193,
   "metadata": {},
   "outputs": [
    {
     "output_type": "execute_result",
     "data": {
      "text/plain": [
       "['I ', ' a', 'am', 'm ', ' a', 'an', 'n ', ' N', 'NL', 'LP', 'Pe', 'er']"
      ]
     },
     "metadata": {},
     "execution_count": 193
    }
   ],
   "source": [
    "n_grammer('I am an NLPer', 2, 'letter')"
   ]
  },
  {
   "source": [
    "## 06. SetPermalink\n",
    "Let the sets of letter bi-grams from the words “paraparaparadise” and “paragraph” $X$ and $Y$, respectively. Obtain the union, intersection, difference of the two sets. In addition, check whether the bigram “se” is included in the sets $X$ and $Y$"
   ],
   "cell_type": "markdown",
   "metadata": {}
  },
  {
   "cell_type": "code",
   "execution_count": 147,
   "metadata": {},
   "outputs": [],
   "source": [
    "# Obtaining the sets\n",
    "X = n_grammer('paraparaparadise', 2, 'letter')\n",
    "Y = n_grammer('paragraph', 2, 'letter')\n",
    "\n",
    "X = set(X)\n",
    "Y = set(Y)"
   ]
  },
  {
   "cell_type": "code",
   "execution_count": 148,
   "metadata": {},
   "outputs": [
    {
     "output_type": "execute_result",
     "data": {
      "text/plain": [
       "{'ad', 'ag', 'ap', 'ar', 'di', 'gr', 'is', 'pa', 'ph', 'ra', 'se'}"
      ]
     },
     "metadata": {},
     "execution_count": 148
    }
   ],
   "source": [
    "X.union(Y)"
   ]
  },
  {
   "cell_type": "code",
   "execution_count": 149,
   "metadata": {},
   "outputs": [
    {
     "output_type": "execute_result",
     "data": {
      "text/plain": [
       "{'ap', 'ar', 'pa', 'ra'}"
      ]
     },
     "metadata": {},
     "execution_count": 149
    }
   ],
   "source": [
    "X.intersection(Y)"
   ]
  },
  {
   "cell_type": "code",
   "execution_count": 150,
   "metadata": {},
   "outputs": [
    {
     "output_type": "execute_result",
     "data": {
      "text/plain": [
       "{'ad', 'di', 'is', 'se'}"
      ]
     },
     "metadata": {},
     "execution_count": 150
    }
   ],
   "source": [
    "X.difference(Y)"
   ]
  },
  {
   "cell_type": "code",
   "execution_count": 151,
   "metadata": {},
   "outputs": [
    {
     "output_type": "execute_result",
     "data": {
      "text/plain": [
       "False"
      ]
     },
     "metadata": {},
     "execution_count": 151
    }
   ],
   "source": [
    "'se' in X.intersection(Y)"
   ]
  },
  {
   "source": [
    "## 07. Template-based sentence generation\n",
    "Implement a function that receives arguments, x, y, and z and returns a string “$\\{y\\}$ is $\\{z\\}$ at $\\{x\\}$”, where “$\\{x\\}$”, “$\\{y\\}$”, and “$\\{z\\}$” denote the values of $x$, $y$, and $z$, respectively. In addition, confirm the return string by giving the arguments $x=12$, $y=``\\text{temperature}''$, and $z=22.4$.\n",
    "\n"
   ],
   "cell_type": "markdown",
   "metadata": {}
  },
  {
   "cell_type": "code",
   "execution_count": 48,
   "metadata": {},
   "outputs": [],
   "source": [
    "def sentence_generator(x, y, z):\n",
    "    output = '{} is {} at {}'.format(y, z ,x)\n",
    "    return output"
   ]
  },
  {
   "cell_type": "code",
   "execution_count": 49,
   "metadata": {},
   "outputs": [
    {
     "output_type": "execute_result",
     "data": {
      "text/plain": [
       "'temperature is 22.4 at 12'"
      ]
     },
     "metadata": {},
     "execution_count": 49
    }
   ],
   "source": [
    "sentence_generator(12, 'temperature', 22.4)"
   ]
  },
  {
   "source": [
    "## 08. cipher text\n",
    " Implement a function $\\texttt{cipher}$ that converts a given string with the specification:\n",
    "* Every alphabetical lowercase letter c is converted to a letter whose ASCII code is (219 - [the ASCII code of c])\n",
    "* Keep other letters unchanged\n",
    "\n",
    "Use this function to cipher and decipher an English message.\n"
   ],
   "cell_type": "markdown",
   "metadata": {}
  },
  {
   "cell_type": "code",
   "execution_count": 79,
   "metadata": {},
   "outputs": [
    {
     "output_type": "execute_result",
     "data": {
      "text/plain": [
       "32"
      ]
     },
     "metadata": {},
     "execution_count": 79
    }
   ],
   "source": [
    "ord(' ')\n",
    "# chr(219)"
   ]
  },
  {
   "cell_type": "code",
   "execution_count": 85,
   "metadata": {},
   "outputs": [
    {
     "output_type": "stream",
     "name": "stdout",
     "text": [
      "This Quick Brown Fox Jumps over the Lazy Dog\n"
     ]
    }
   ],
   "source": [
    "# text = 'This Quick Brown Fox Jumps over the Lazy Dog'\n"
   ]
  },
  {
   "cell_type": "code",
   "execution_count": 87,
   "metadata": {},
   "outputs": [],
   "source": [
    "def cipher(message):\n",
    "    idx_lower = [c.islower() for c in message]\n",
    "    output = ''\n",
    "    for i, character in enumerate(message):\n",
    "        if idx_lower[i]:\n",
    "            character = chr(219 - ord(character))\n",
    "        output += character\n",
    "    return output"
   ]
  },
  {
   "cell_type": "code",
   "execution_count": 88,
   "metadata": {},
   "outputs": [
    {
     "output_type": "execute_result",
     "data": {
      "text/plain": [
       "'Lzozoz Lzwrwz'"
      ]
     },
     "metadata": {},
     "execution_count": 88
    }
   ],
   "source": [
    "cipher('Lalala Ladida')"
   ]
  },
  {
   "cell_type": "code",
   "execution_count": 90,
   "metadata": {},
   "outputs": [
    {
     "output_type": "execute_result",
     "data": {
      "text/plain": [
       "'Lalala Ladida'"
      ]
     },
     "metadata": {},
     "execution_count": 90
    }
   ],
   "source": [
    "cipher(cipher('Lalala Ladida'))"
   ]
  },
  {
   "source": [
    "## 09. Typoglycemia \n",
    "Write a program with the specification:\n",
    "\n",
    "* Receive a word sequence separated by space\n",
    "* For each word in the sequence:\n",
    "    * If the word is no longer than four letters, keep the word unchanged\n",
    "    * Otherwise,\n",
    "        * Keep the first and last letters unchanged\n",
    "        * Shuffle other letters in other positions (in the middle of the word)\n",
    "\n",
    "Observe the result by giving a sentence, e.g., “I couldn’t believe that I could actually understand what I was reading : the phenomenal power of the human mind“.\n",
    "\n"
   ],
   "cell_type": "markdown",
   "metadata": {}
  },
  {
   "cell_type": "code",
   "execution_count": 106,
   "metadata": {},
   "outputs": [],
   "source": [
    "import random\n",
    "def typoglycemia(word_seq):\n",
    "    words = word_seq.split()\n",
    "    new_words = []\n",
    "    for word in words:\n",
    "        if len(word) <= 4:\n",
    "            new_word = word\n",
    "        else:\n",
    "            first_letter = word[0]\n",
    "            last_letter = word[-1]\n",
    "            word = word[1:-1]\n",
    "            word = ''.join(random.sample(word, len(word)))\n",
    "            new_word = first_letter + word + last_letter\n",
    "        new_words.append(new_word)\n",
    "    output = ' '.join(new_words)\n",
    "    return output"
   ]
  },
  {
   "cell_type": "code",
   "execution_count": 188,
   "metadata": {},
   "outputs": [
    {
     "output_type": "execute_result",
     "data": {
      "text/plain": [
       "'I col’ndut bevliee that I culod aatlculy utnadnresd what I was radieng : the phnnaeeoml pweor of the hamun mndi.'"
      ]
     },
     "metadata": {},
     "execution_count": 188
    }
   ],
   "source": [
    "typoglycemia('I couldn’t believe that I could actually understand what I was reading : the phenomenal power of the human mind.')"
   ]
  }
 ]
}