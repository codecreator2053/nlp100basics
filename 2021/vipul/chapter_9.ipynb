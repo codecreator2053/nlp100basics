{
 "cells": [
  {
   "cell_type": "markdown",
   "metadata": {},
   "source": [
    "## Problem 80\n",
    "### Clean, Preprocess data"
   ]
  },
  {
   "cell_type": "code",
   "execution_count": 26,
   "metadata": {},
   "outputs": [],
   "source": [
    "import re\n",
    "from collections import Counter\n",
    "import string\n",
    "import os\n",
    "import time\n",
    "\n",
    "import pandas as pd\n",
    "from sklearn.model_selection import train_test_split\n",
    "import torch, torch.optim as optim\n",
    "import torch.nn as nn\n",
    "import torch.nn.functional as F\n",
    "from torch.utils.data import DataLoader, Dataset\n",
    "# from torchvision import datasets\n",
    "# from torchvision.transforms import ToTensor, Lambda, Compose\n",
    "import matplotlib.pyplot as plt\n",
    "import numpy as np\n",
    "import gensim\n",
    "\n",
    "valid_publishers = ['Reuters', 'Huffington Post', 'Businessweek', 'Contactmusic.com','Daily Mail']\n",
    "columns = ['ID', 'TITLE', 'URL', 'PUBLISHER', 'CATEGORY', 'STORY', 'HOSTNAME', 'TIMESTAMP']\n",
    "# files = ['train', 'valid', 'test']\n",
    "label_map = {'b':0, 'e': 1, 'm':2, 't':3}\n",
    "categs = ['busi.', 'enter.', 'health', 'science']\n",
    "translator = str.maketrans(string.punctuation, ' '*len(string.punctuation)) #map punctuation to space\n",
    "device = torch.device('cuda')"
   ]
  },
  {
   "cell_type": "code",
   "execution_count": 27,
   "metadata": {},
   "outputs": [],
   "source": [
    "df = pd.read_csv('NewsAggregatorDataset/newsCorpora.csv', sep='\\t', quoting=3, names=columns)\n",
    "df = df[df.PUBLISHER.isin(valid_publishers)]"
   ]
  },
  {
   "cell_type": "code",
   "execution_count": 28,
   "metadata": {},
   "outputs": [],
   "source": [
    "def sent_tokenizer(title):\n",
    "    title = re.sub(\n",
    "        r'[!@#$%^&*()_+\\-=\\[\\]\\\\;\\':\\\",./<>?]+',\n",
    "        ' ',\n",
    "        title)\n",
    "    title = title.split()\n",
    "    if '' in title:\n",
    "        print(title)\n",
    "    title = [word.lower().strip() for word in title if len(word)>=1]\n",
    "    return title\n",
    "\n",
    "df['LABELS'] = df['CATEGORY'].apply(lambda x: label_map[x])\n",
    "X = df['TITLE'].copy().tolist()\n",
    "y = df['LABELS'].copy().to_numpy()\n",
    "X_train, X_rem, y_train, y_rem = train_test_split(X, y, train_size=0.8, random_state=4, stratify=y)\n",
    "X_valid, X_test, y_valid, y_test = train_test_split(X_rem, y_rem, train_size=0.5, random_state=4, stratify=y_rem)\n",
    "# all_data = {'X_train': X_train, 'y_train': y_train, 'X_valid': X_valid, \\\n",
    "#             'y_valid': y_valid, 'X_test': X_test, 'y_test': y_test}\n",
    "tokens = []\n",
    "for title in df['TITLE']:\n",
    "    title = sent_tokenizer(title)\n",
    "    tokens.extend(title)\n",
    "\n",
    "token_count = Counter(tokens)\n",
    "token_count = sorted(token_count.items(), key=lambda x: x[1], reverse=True)\n",
    "token_index = {token:idx for idx, (token, count) in enumerate(token_count, 1) if count > 1}"
   ]
  },
  {
   "cell_type": "code",
   "execution_count": 29,
   "metadata": {},
   "outputs": [],
   "source": [
    "def title_vectorizer(title, token_index=token_index, N=len(token_index)):\n",
    "    title_tokens = sent_tokenizer(title)\n",
    "    title_tokens = [token_index.get(token, 0) for token in title_tokens]\n",
    "    return title_tokens"
   ]
  },
  {
   "cell_type": "code",
   "execution_count": 30,
   "metadata": {},
   "outputs": [
    {
     "name": "stdout",
     "output_type": "stream",
     "text": [
      "テキスト: ECB FOCUS-Stronger euro drowns out ECB's message to keep rates low for  ...\n",
      "ID列: [38, 635, 1686, 33, 0, 49, 38, 2, 1571, 1, 788, 220, 70, 6]\n"
     ]
    }
   ],
   "source": [
    "text = df.iloc[1, df.columns.get_loc('TITLE')]\n",
    "print(f'テキスト: {text}')\n",
    "print(f'ID列: {title_vectorizer(text)}')"
   ]
  },
  {
   "cell_type": "markdown",
   "metadata": {},
   "source": [
    "## Problem 81\n",
    "### Implementing a RNN Classifier"
   ]
  },
  {
   "cell_type": "code",
   "execution_count": 31,
   "metadata": {},
   "outputs": [],
   "source": [
    "class CreateDataset(Dataset):\n",
    "    def __init__(self, data, label, to_vector=None, transform=None):\n",
    "        self.transform = transform\n",
    "        self.data = data\n",
    "        self.label = label\n",
    "        self.datanum = label.shape[0]\n",
    "        self.to_vector = to_vector\n",
    "\n",
    "    def __len__(self):\n",
    "        return self.datanum\n",
    "\n",
    "    def __getitem__(self, idx):\n",
    "        out_data = self.data[idx]\n",
    "        out_label = self.label[idx]\n",
    "        out_data = self.to_vector(out_data)\n",
    "        \n",
    "        if self.transform:\n",
    "            out_data = self.transform(out_data)\n",
    "            out_label = self.transform(out_label)\n",
    "            \n",
    "        return [out_data, out_label]"
   ]
  },
  {
   "cell_type": "code",
   "execution_count": 32,
   "metadata": {},
   "outputs": [],
   "source": [
    "train_set = CreateDataset(X_train, y_train, to_vector=title_vectorizer, transform=torch.as_tensor)\n",
    "valid_set = CreateDataset(X_valid, y_valid, to_vector=title_vectorizer, transform=torch.as_tensor)\n",
    "test_set = CreateDataset(X_test, y_test, to_vector=title_vectorizer, transform=torch.as_tensor)\n",
    "all_sets = {'train': train_set, 'valid': valid_set, 'test': test_set}"
   ]
  },
  {
   "cell_type": "code",
   "execution_count": 33,
   "metadata": {},
   "outputs": [],
   "source": [
    "class SimplestRNNModel(nn.Module):\n",
    "    def __init__(self, vocab_size, emb_size, output_size, hidden_size, device=None):\n",
    "        super(SimplestRNNModel, self).__init__()\n",
    "        self.hidden_size = hidden_size\n",
    "        self.device = device\n",
    "        self.embedding = nn.Embedding(vocab_size+1, emb_size, padding_idx=vocab_size)\n",
    "        self.rnn = nn.RNN(emb_size, hidden_size, nonlinearity='tanh', batch_first=True)\n",
    "        self.fc = nn.Linear(hidden_size, output_size)\n",
    "    \n",
    "    def forward(self, x):\n",
    "        self.batch_size = x.size()[0]\n",
    "        \n",
    "        #1 * batch_size * hidden\n",
    "        hidden = self.init_hidden()\n",
    "        \n",
    "        #batch_size * seq_leng * emb_size\n",
    "        x = self.embedding(x) \n",
    "        \n",
    "        # batch_size * seq_leng * (1 * hidden)\n",
    "        output, hidden = self.rnn(x, hidden) \n",
    "        \n",
    "        output = self.fc(output[:, -1 ,: ])\n",
    "        \n",
    "        return output\n",
    "         \n",
    "    def init_hidden(self):\n",
    "        hidden =  torch.zeros(1, self.batch_size, self.hidden_size).to(self.device)\n",
    "        return hidden"
   ]
  },
  {
   "cell_type": "code",
   "execution_count": 143,
   "metadata": {},
   "outputs": [
    {
     "name": "stdout",
     "output_type": "stream",
     "text": [
      "tensor([[0.2926, 0.1782, 0.1543, 0.3749]], grad_fn=<SoftmaxBackward>)\n",
      "tensor([[0.4267, 0.1318, 0.1747, 0.2669]], grad_fn=<SoftmaxBackward>)\n",
      "tensor([[0.3832, 0.1982, 0.1969, 0.2217]], grad_fn=<SoftmaxBackward>)\n",
      "tensor([[0.1068, 0.2367, 0.2443, 0.4122]], grad_fn=<SoftmaxBackward>)\n",
      "tensor([[0.1943, 0.1553, 0.2889, 0.3614]], grad_fn=<SoftmaxBackward>)\n",
      "tensor([[0.3411, 0.2640, 0.1756, 0.2194]], grad_fn=<SoftmaxBackward>)\n",
      "tensor([[0.2009, 0.2799, 0.2748, 0.2443]], grad_fn=<SoftmaxBackward>)\n",
      "tensor([[0.3451, 0.1707, 0.3803, 0.1039]], grad_fn=<SoftmaxBackward>)\n",
      "tensor([[0.3151, 0.2601, 0.1692, 0.2556]], grad_fn=<SoftmaxBackward>)\n",
      "tensor([[0.4021, 0.1701, 0.2691, 0.1586]], grad_fn=<SoftmaxBackward>)\n"
     ]
    }
   ],
   "source": [
    "VOCAB_SIZE = len(token_index)\n",
    "EMBED_SIZE = 300\n",
    "OUTPUT_SIZE = 4\n",
    "HIDDEN_SIZE = 50\n",
    "\n",
    "model = SimplestRNNModel(VOCAB_SIZE, EMBED_SIZE, OUTPUT_SIZE, HIDDEN_SIZE)\n",
    "for idx in range(10):\n",
    "    features, labels = train_set[idx]\n",
    "#     print(features)\n",
    "    preds = model(features.unsqueeze(0))\n",
    "    out = F.softmax(preds, dim=-1)\n",
    "    print(out)"
   ]
  },
  {
   "cell_type": "markdown",
   "metadata": {},
   "source": [
    "## Problem 82\n",
    "### Training an RNN classifier using SGD"
   ]
  },
  {
   "cell_type": "code",
   "execution_count": 34,
   "metadata": {},
   "outputs": [],
   "source": [
    "def get_accuracy_batchless(model, split):\n",
    "    data_loader = DataLoader(all_sets[split], batch_size=1)\n",
    "    correct = 0\n",
    "    for batch in data_loader:\n",
    "        feature, label = batch\n",
    "        correct += get_correct_response(model, feature, label)\n",
    "    return correct/len(all_sets[split])"
   ]
  },
  {
   "cell_type": "code",
   "execution_count": 35,
   "metadata": {},
   "outputs": [],
   "source": [
    "@torch.no_grad()\n",
    "def get_correct_response(model, features, labels):\n",
    "    preds = model(features)\n",
    "    return F.softmax(preds, dim=-1).argmax(dim=-1).eq(labels).sum().item()"
   ]
  },
  {
   "cell_type": "code",
   "execution_count": 36,
   "metadata": {},
   "outputs": [],
   "source": [
    "@torch.no_grad()\n",
    "def get_valid_loss_batchless(model, criterion=None):\n",
    "    eval_loader = DataLoader(all_sets['valid'], batch_size=1)\n",
    "#     batch_nums = 0\n",
    "    all_loss = 0\n",
    "    for idx, batch in enumerate(eval_loader, 1):\n",
    "        feature, label = batch\n",
    "        out = model(feature)\n",
    "        loss = F.cross_entropy(out, label)\n",
    "        all_loss += loss\n",
    "#         batch_nums = idx\n",
    "    return all_loss/idx"
   ]
  },
  {
   "cell_type": "code",
   "execution_count": 37,
   "metadata": {},
   "outputs": [],
   "source": [
    "def plot_graphs(losses, accs):\n",
    "    train_losses, valid_losses = zip(*losses)\n",
    "    plt.figure(figsize=(10, 4))\n",
    "    plt.title('Avg batch loss per epoch')\n",
    "    plt.plot(range(len(train_losses)), train_losses, label='training loss')\n",
    "    plt.plot(range(len(valid_losses)), valid_losses, label='valid loss')\n",
    "    plt.legend()\n",
    "    \n",
    "    train_accs, valid_accs = zip(*accs)\n",
    "    plt.figure(figsize=(10, 4))\n",
    "    plt.title('Accuracy after each epoch')\n",
    "    plt.plot(range(len(train_accs)), train_accs, label='training acc')\n",
    "    plt.plot(range(len(valid_accs)), valid_accs, label='valid acc')\n",
    "    plt.legend()"
   ]
  },
  {
   "cell_type": "code",
   "execution_count": 38,
   "metadata": {},
   "outputs": [],
   "source": [
    "def train_simple_rnn(model, num_epoch, b_size, l_rate, pad_seq=None, verbose=True):\n",
    "    optimizer  = optim.SGD(model.parameters(), lr=l_rate)\n",
    "    train_loader = DataLoader(train_set, batch_size=b_size)\n",
    "    criterion = nn.CrossEntropyLoss()\n",
    "    losses = []\n",
    "    accuracies = []\n",
    "    for epoch in range(num_epoch):\n",
    "        epoch_loss = 0\n",
    "        batch_nums = 0\n",
    "        for idx, batch in enumerate(train_loader, 1):\n",
    "            feature, label = batch\n",
    "            out = model(feature)\n",
    "            loss = F.cross_entropy(out, label)\n",
    "            epoch_loss += loss\n",
    "            batch_nums = idx\n",
    "\n",
    "            #training\n",
    "            optimizer.zero_grad()\n",
    "            loss.backward()\n",
    "            optimizer.step()\n",
    "        train_loss = epoch_loss/batch_nums\n",
    "        valid_loss = get_valid_loss_batchless(model, criterion=criterion)\n",
    "        train_acc = get_accuracy_batchless(model, 'train')\n",
    "        valid_acc = get_accuracy_batchless(model, 'valid')\n",
    "        losses.append([train_loss, train_loss])\n",
    "        accuracies.append([train_acc, valid_acc])\n",
    "        if verbose:\n",
    "            print(f'epoch: {epoch+1}, training loss: {train_loss.item()}, valid loss: {valid_loss.item()}')\n",
    "            print(f'training accuracy: {train_acc}, valid accuracy: {valid_acc}')\n",
    "    \n",
    "    return losses, accuracies"
   ]
  },
  {
   "cell_type": "code",
   "execution_count": 156,
   "metadata": {
    "scrolled": true
   },
   "outputs": [
    {
     "name": "stdout",
     "output_type": "stream",
     "text": [
      "epoch: 1, training loss: 1.1932892799377441, valid loss: 1.1316261291503906\n",
      "training accuracy: 0.525926619243729, valid accuracy: 0.48502994011976047\n",
      "epoch: 2, training loss: 1.0735007524490356, valid loss: 1.0711191892623901\n",
      "training accuracy: 0.592661924372894, valid accuracy: 0.5494011976047904\n",
      "epoch: 3, training loss: 0.9877458810806274, valid loss: 0.9801419377326965\n",
      "training accuracy: 0.6590228378884313, valid accuracy: 0.6182634730538922\n",
      "epoch: 4, training loss: 0.8327471017837524, valid loss: 0.7909700274467468\n",
      "training accuracy: 0.7487832272557094, valid accuracy: 0.7200598802395209\n",
      "epoch: 5, training loss: 0.6743304133415222, valid loss: 0.6996287107467651\n",
      "training accuracy: 0.7931486334706103, valid accuracy: 0.7440119760479041\n",
      "epoch: 6, training loss: 0.566768229007721, valid loss: 0.6475796699523926\n",
      "training accuracy: 0.8185136652938975, valid accuracy: 0.7589820359281437\n",
      "epoch: 7, training loss: 0.48700016736984253, valid loss: 0.620070219039917\n",
      "training accuracy: 0.8438786971171846, valid accuracy: 0.7649700598802395\n",
      "epoch: 8, training loss: 0.4208073616027832, valid loss: 0.6076722741127014\n",
      "training accuracy: 0.8598839385997754, valid accuracy: 0.7724550898203593\n",
      "epoch: 9, training loss: 0.3731776177883148, valid loss: 0.6253651976585388\n",
      "training accuracy: 0.873736428304006, valid accuracy: 0.7717065868263473\n",
      "epoch: 10, training loss: 0.33972063660621643, valid loss: 0.6296931505203247\n",
      "training accuracy: 0.8811306626731561, valid accuracy: 0.7784431137724551\n"
     ]
    },
    {
     "data": {
      "image/png": "[encoded data removed]",
      "text/plain": [
       "<Figure size 720x288 with 1 Axes>"
      ]
     },
     "metadata": {
      "needs_background": "light"
     },
     "output_type": "display_data"
    },
    {
     "data": {
      "image/png": "[encoded data removed]",
      "text/plain": [
       "<Figure size 720x288 with 1 Axes>"
      ]
     },
     "metadata": {
      "needs_background": "light"
     },
     "output_type": "display_data"
    }
   ],
   "source": [
    "VOCAB_SIZE = len(token_index)\n",
    "EMBED_SIZE = 300\n",
    "OUTPUT_SIZE = 4\n",
    "HIDDEN_SIZE = 50\n",
    "NUM_EPOCH = 10\n",
    "BATCH_SIZE = 1\n",
    "L_RATE = 0.001\n",
    "\n",
    "model = SimplestRNNModel(VOCAB_SIZE, EMBED_SIZE, OUTPUT_SIZE, HIDDEN_SIZE)\n",
    "losses, accs = train_simple_rnn(model, NUM_EPOCH, BATCH_SIZE, L_RATE)\n",
    "plot_graphs(losses, accs)"
   ]
  },
  {
   "cell_type": "markdown",
   "metadata": {},
   "source": [
    "## Problem 83\n",
    "### Minibatch and GPU_USE"
   ]
  },
  {
   "cell_type": "code",
   "execution_count": 39,
   "metadata": {},
   "outputs": [],
   "source": [
    "class PadSequence:\n",
    "    def __call__(self, batch, pad_idx=len(token_index)):\n",
    "        # Let's assume that each element in \"batch\" is a tuple (data, label).\n",
    "        # Sort the batch in the descending order\n",
    "        sorted_batch = sorted(batch, key=lambda x: x[0].shape[0], reverse=True)\n",
    "        # Get each sequence and pad it\n",
    "        sequences = [x[0] for x in sorted_batch]\n",
    "        sequences_padded = torch.nn.utils.rnn.pad_sequence(sequences, batch_first=True, padding_value=pad_idx)\n",
    "        # Also need to store the length of each sequence\n",
    "        # This is later needed in order to unpad the sequences\n",
    "        lengths = torch.LongTensor([len(x) for x in sequences])\n",
    "        # Don't forget to grab the labels of the *sorted* batch\n",
    "        labels = torch.LongTensor(list(map(lambda x: x[1], sorted_batch)))\n",
    "        return sequences_padded, lengths, labels"
   ]
  },
  {
   "cell_type": "code",
   "execution_count": 40,
   "metadata": {},
   "outputs": [],
   "source": [
    "def get_accuracy(model, split, device=None, pad_seq=None, datasets=all_sets):\n",
    "    data_loader = DataLoader(datasets[split], batch_size=len(datasets[split]), collate_fn=pad_seq)\n",
    "    correct = 0\n",
    "    for batch in data_loader:\n",
    "        features, lengths, labels = batch\n",
    "        features = features.to(device)\n",
    "        labels = labels.to(device)\n",
    "        correct += get_correct_response(model, features, labels)\n",
    "    return correct/len(datasets[split])"
   ]
  },
  {
   "cell_type": "code",
   "execution_count": 41,
   "metadata": {},
   "outputs": [],
   "source": [
    "@torch.no_grad()\n",
    "def get_valid_loss(model, bsize, device=None, pad_seq=None, datasets=all_sets):\n",
    "    eval_loader = DataLoader(datasets['valid'], batch_size=bsize, collate_fn=pad_seq)\n",
    "    batch_nums = 0\n",
    "    all_loss = 0\n",
    "    for idx, batch in enumerate(eval_loader, 1):\n",
    "        features, lengths, labels = batch\n",
    "        features = features.to(device)\n",
    "        labels = labels.to(device)\n",
    "        out = model(features)\n",
    "        loss = F.cross_entropy(out, labels)\n",
    "        all_loss += loss\n",
    "        batch_nums = idx\n",
    "    return all_loss/batch_nums"
   ]
  },
  {
   "cell_type": "code",
   "execution_count": 42,
   "metadata": {},
   "outputs": [],
   "source": [
    "def train_batch(model, num_epoch, b_size, l_rate, pad_seq=None, device=None, verbose=True):\n",
    "    optimizer  = optim.SGD(model.parameters(), lr=l_rate)\n",
    "    train_loader = DataLoader(train_set, batch_size=b_size, collate_fn=pad_seq)\n",
    "    model = model.to(device)\n",
    "#     print(next(model.parameters()).device)\n",
    "    losses = []\n",
    "    accuracies = []\n",
    "    for epoch in range(num_epoch):\n",
    "        epoch_loss = 0\n",
    "        batch_nums = 0\n",
    "        for idx, batch in enumerate(train_loader, 1):\n",
    "#             print(idx)\n",
    "            features, lengths, labels = batch\n",
    "            features = features.to(device)\n",
    "            labels = labels.to(device)\n",
    "#             print(features.get_device() ,labels.get_device(), next(model.parameters()).device)\n",
    "            out = model(features)\n",
    "            loss = F.cross_entropy(out, labels)\n",
    "            epoch_loss += loss\n",
    "            batch_nums = idx\n",
    "            \n",
    "            #training\n",
    "            optimizer.zero_grad()\n",
    "            loss.backward()\n",
    "            optimizer.step()\n",
    "            \n",
    "        train_loss = epoch_loss/batch_nums\n",
    "        valid_loss = get_valid_loss(model, b_size, device=device, pad_seq=pad_seq)\n",
    "        train_acc = get_accuracy(model, 'train', device=device, pad_seq=pad_seq)\n",
    "        valid_acc = get_accuracy(model, 'valid', device=device, pad_seq=pad_seq)\n",
    "        losses.append([train_loss, valid_loss])\n",
    "        accuracies.append([train_acc, valid_acc])\n",
    "        if verbose:\n",
    "            print(f'epoch: {epoch+1}, training loss: {train_loss.item():.3f}, valid loss: {valid_loss.item():.3f}')\n",
    "            print(f'training accuracy: {train_acc:.3f}, valid accuracy: {valid_acc:.3f}')\n",
    "    return losses, accuracies\n",
    "    "
   ]
  },
  {
   "cell_type": "code",
   "execution_count": 155,
   "metadata": {},
   "outputs": [
    {
     "name": "stdout",
     "output_type": "stream",
     "text": [
      "epoch: 1, training loss: 1.171, valid loss: 1.146\n",
      "training accuracy: 0.448, valid accuracy: 0.473\n",
      "epoch: 2, training loss: 1.097, valid loss: 1.050\n",
      "training accuracy: 0.621, valid accuracy: 0.592\n",
      "epoch: 3, training loss: 0.995, valid loss: 0.981\n",
      "training accuracy: 0.683, valid accuracy: 0.663\n",
      "epoch: 4, training loss: 0.976, valid loss: 0.973\n",
      "training accuracy: 0.684, valid accuracy: 0.660\n",
      "epoch: 5, training loss: 0.958, valid loss: 0.980\n",
      "training accuracy: 0.674, valid accuracy: 0.660\n",
      "epoch: 6, training loss: 0.906, valid loss: 0.906\n",
      "training accuracy: 0.708, valid accuracy: 0.686\n",
      "epoch: 7, training loss: 0.866, valid loss: 0.907\n",
      "training accuracy: 0.725, valid accuracy: 0.683\n",
      "epoch: 8, training loss: 0.815, valid loss: 0.825\n",
      "training accuracy: 0.715, valid accuracy: 0.685\n",
      "epoch: 9, training loss: 1.009, valid loss: 1.094\n",
      "training accuracy: 0.598, valid accuracy: 0.570\n",
      "epoch: 10, training loss: 0.965, valid loss: 0.935\n",
      "training accuracy: 0.691, valid accuracy: 0.667\n"
     ]
    },
    {
     "data": {
      "image/png": "[encoded data removed]",
      "text/plain": [
       "<Figure size 720x288 with 1 Axes>"
      ]
     },
     "metadata": {
      "needs_background": "light"
     },
     "output_type": "display_data"
    },
    {
     "data": {
      "image/png": "[encoded data removed]",
      "text/plain": [
       "<Figure size 720x288 with 1 Axes>"
      ]
     },
     "metadata": {
      "needs_background": "light"
     },
     "output_type": "display_data"
    }
   ],
   "source": [
    "VOCAB_SIZE = len(token_index)\n",
    "EMBED_SIZE = 300\n",
    "OUTPUT_SIZE = 4\n",
    "HIDDEN_SIZE = 50\n",
    "NUM_EPOCH = 10\n",
    "BATCH_SIZE = 32\n",
    "L_RATE = 0.005\n",
    "\n",
    "model = SimplestRNNModel(VOCAB_SIZE, EMBED_SIZE, OUTPUT_SIZE, HIDDEN_SIZE, device=device)\n",
    "losses, accs = train_batch(model, NUM_EPOCH, BATCH_SIZE, L_RATE, pad_seq=PadSequence(), device=device)\n",
    "plot_graphs(losses, accs)"
   ]
  },
  {
   "cell_type": "markdown",
   "metadata": {},
   "source": [
    "## Problem-84\n",
    "### Initialize embedding layer with w2v"
   ]
  },
  {
   "cell_type": "code",
   "execution_count": 43,
   "metadata": {},
   "outputs": [],
   "source": [
    "#pretrained word2vec model trained by google on wikipedia corpus\n",
    "w2vmodel = gensim.models.KeyedVectors.load_word2vec_format('GoogleNews-vectors-negative300.bin', binary=True)"
   ]
  },
  {
   "cell_type": "code",
   "execution_count": 44,
   "metadata": {},
   "outputs": [
    {
     "name": "stdout",
     "output_type": "stream",
     "text": [
      "1035\n",
      "torch.Size([8614, 300])\n"
     ]
    }
   ],
   "source": [
    "emb_dim = 300\n",
    "not_in_dict = 0\n",
    "initial_weights = [np.zeros(emb_dim)]\n",
    "# print(len(token_index.keys()))\n",
    "for idx, item in enumerate(token_index.items()):\n",
    "    key, val = item\n",
    "    if key in w2vmodel:\n",
    "        initial_weights.append(w2vmodel[key])\n",
    "    else:\n",
    "        initial_weights.append(np.zeros(emb_dim))\n",
    "        not_in_dict+=1\n",
    "initial_weights.append(np.zeros(emb_dim))\n",
    "initial_embeddings = torch.stack([torch.tensor(i, dtype=torch.float32) for i in initial_weights])\n",
    "print(not_in_dict)\n",
    "print(initial_embeddings.shape)"
   ]
  },
  {
   "cell_type": "code",
   "execution_count": 45,
   "metadata": {},
   "outputs": [],
   "source": [
    "class RNNModel(nn.Module):\n",
    "    def __init__(self, vocab_size, emb_size, output_size, hidden_size, num_layers=1, bidirec=False, embeddings=None, device=None):\n",
    "        super(RNNModel, self).__init__()\n",
    "        self.hidden_size = hidden_size\n",
    "        self.device = device\n",
    "        self.num_layers = num_layers\n",
    "        self.D = 2 if bidirec else 1\n",
    "        if embeddings is not None:\n",
    "            self.embedding = nn.Embedding.from_pretrained(embeddings)\n",
    "        else:\n",
    "            self.embedding = nn.Embedding(vocab_size+1, emb_size, padding_idx=vocab_size)\n",
    "        self.rec_layer = nn.RNN(emb_size, hidden_size, num_layers=self.num_layers, nonlinearity='tanh', batch_first=True, bidirectional=bidirec)\n",
    "        self.fc = nn.Linear(hidden_size*self.D, output_size)\n",
    "    \n",
    "    def forward(self, x):\n",
    "        self.batch_size = x.size()[0]\n",
    "        hidden = self.init_hidden()\n",
    "        x = self.embedding(x) #batch_size * seq_leng * emb_size\n",
    "        output, hidden = self.rec_layer(x, hidden) # batch_size * seq_leng * (1 * hidden), 1 * batch_size * hidden\n",
    "        output = self.fc(output[:, -1 ,: ])\n",
    "        return output #batch_size * 1 * output_classes\n",
    "        \n",
    "    def init_hidden(self):  \n",
    "        hidden =  torch.zeros(self.num_layers*self.D, self.batch_size, self.hidden_size).to(self.device)\n",
    "        return hidden"
   ]
  },
  {
   "cell_type": "code",
   "execution_count": 19,
   "metadata": {},
   "outputs": [
    {
     "name": "stdout",
     "output_type": "stream",
     "text": [
      "epoch: 1, training loss: 0.982, valid loss: 1.014\n",
      "training accuracy: 0.655, valid accuracy: 0.618\n",
      "epoch: 2, training loss: 0.929, valid loss: 0.960\n",
      "training accuracy: 0.688, valid accuracy: 0.657\n",
      "epoch: 3, training loss: 0.864, valid loss: 0.960\n",
      "training accuracy: 0.691, valid accuracy: 0.668\n",
      "epoch: 4, training loss: 0.794, valid loss: 0.825\n",
      "training accuracy: 0.751, valid accuracy: 0.721\n",
      "epoch: 5, training loss: 0.727, valid loss: 0.773\n",
      "training accuracy: 0.762, valid accuracy: 0.729\n",
      "epoch: 6, training loss: 0.676, valid loss: 0.787\n",
      "training accuracy: 0.758, valid accuracy: 0.718\n",
      "epoch: 7, training loss: 0.623, valid loss: 0.722\n",
      "training accuracy: 0.794, valid accuracy: 0.748\n",
      "epoch: 8, training loss: 0.572, valid loss: 0.708\n",
      "training accuracy: 0.805, valid accuracy: 0.749\n",
      "epoch: 9, training loss: 0.537, valid loss: 0.703\n",
      "training accuracy: 0.807, valid accuracy: 0.759\n",
      "epoch: 10, training loss: 0.499, valid loss: 0.746\n",
      "training accuracy: 0.801, valid accuracy: 0.743\n"
     ]
    },
    {
     "data": {
      "image/png": "[encoded data removed]",
      "text/plain": [
       "<Figure size 720x288 with 1 Axes>"
      ]
     },
     "metadata": {
      "needs_background": "light"
     },
     "output_type": "display_data"
    },
    {
     "data": {
      "image/png": "[encoded data removed]",
      "text/plain": [
       "<Figure size 720x288 with 1 Axes>"
      ]
     },
     "metadata": {
      "needs_background": "light"
     },
     "output_type": "display_data"
    }
   ],
   "source": [
    "VOCAB_SIZE = len(token_index)\n",
    "EMBED_SIZE = 300\n",
    "OUTPUT_SIZE = 4\n",
    "HIDDEN_SIZE = 50\n",
    "NUM_EPOCH = 10\n",
    "BATCH_SIZE = 32\n",
    "L_RATE = 0.01\n",
    "\n",
    "model = RNNModel(VOCAB_SIZE, EMBED_SIZE, OUTPUT_SIZE, HIDDEN_SIZE, num_layers=2, bidirec=True, \\\n",
    "                 embeddings=None, device=device)\n",
    "losses, accs = train_batch(model, NUM_EPOCH, BATCH_SIZE, L_RATE, pad_seq=PadSequence(), device=device)\n",
    "plot_graphs(losses, accs)"
   ]
  },
  {
   "cell_type": "markdown",
   "metadata": {},
   "source": [
    "## Problem-86\n",
    "### Implementing a CNN model\n",
    "\n",
    "#### might be good to use activation after pooling and adding dropout to this and subsequent models"
   ]
  },
  {
   "cell_type": "code",
   "execution_count": 46,
   "metadata": {},
   "outputs": [],
   "source": [
    "class CNNModel(nn.Module):\n",
    "    def __init__(self, vocab_size, emb_size, output_size, hidden_size, filter_size, stride, padding, embeddings=None):\n",
    "        super(CNNModel, self).__init__()\n",
    "        if embeddings is not None:\n",
    "            self.embedding = nn.Embedding.from_pretrained(embeddings, padding_idx=vocab_size)\n",
    "        else:\n",
    "            self.embedding = nn.Embedding(vocab_size+1, emb_size, padding_idx=vocab_size)\n",
    "        self.conv1 = nn.Conv2d(in_channels=1, out_channels=hidden_size, kernel_size=(filter_size, emb_size), stride=stride, padding=(padding, 0))\n",
    "        self.fc1 = nn.Linear(in_features=hidden_size, out_features=output_size, )\n",
    "        \n",
    "        \n",
    "    def forward(self, x):\n",
    "        x = self.embedding(x.unsqueeze(1))\n",
    "        x = self.conv1(x)\n",
    "        x = F.max_pool1d(x.squeeze(3), x.shape[2])\n",
    "        x = self.fc1(x.squeeze(2))\n",
    "        return x"
   ]
  },
  {
   "cell_type": "code",
   "execution_count": 22,
   "metadata": {},
   "outputs": [
    {
     "name": "stdout",
     "output_type": "stream",
     "text": [
      "tensor([[0.0867, 0.2957, 0.4979, 0.1197]], grad_fn=<SoftmaxBackward>)\n",
      "tensor([[0.0842, 0.1762, 0.5507, 0.1889]], grad_fn=<SoftmaxBackward>)\n",
      "tensor([[0.1020, 0.1819, 0.5988, 0.1172]], grad_fn=<SoftmaxBackward>)\n",
      "tensor([[0.1006, 0.2290, 0.4581, 0.2123]], grad_fn=<SoftmaxBackward>)\n",
      "tensor([[0.1295, 0.2941, 0.3939, 0.1825]], grad_fn=<SoftmaxBackward>)\n",
      "tensor([[0.1181, 0.2571, 0.3572, 0.2675]], grad_fn=<SoftmaxBackward>)\n",
      "tensor([[0.1074, 0.2537, 0.5182, 0.1207]], grad_fn=<SoftmaxBackward>)\n",
      "tensor([[0.1033, 0.1581, 0.5829, 0.1557]], grad_fn=<SoftmaxBackward>)\n",
      "tensor([[0.1306, 0.2126, 0.4763, 0.1805]], grad_fn=<SoftmaxBackward>)\n",
      "tensor([[0.1088, 0.2347, 0.4549, 0.2016]], grad_fn=<SoftmaxBackward>)\n"
     ]
    },
    {
     "name": "stderr",
     "output_type": "stream",
     "text": [
      "/home/is/vipul-mi/anaconda3/lib/python3.8/site-packages/torch/nn/functional.py:652: UserWarning: Named tensors and all their associated APIs are an experimental feature and subject to change. Please do not use them for anything important until they are released as stable. (Triggered internally at  /pytorch/c10/core/TensorImpl.h:1156.)\n",
      "  return torch.max_pool1d(input, kernel_size, stride, padding, dilation, ceil_mode)\n"
     ]
    }
   ],
   "source": [
    "VOCAB_SIZE = len(token_index)\n",
    "EMB_SIZE = 300\n",
    "HIDDEN_SIZE = 50\n",
    "OUTPUT_SIZE = 4 \n",
    "STRIDE = 1\n",
    "PADDING = 1\n",
    "FILTER_SIZE = 3\n",
    "\n",
    "\n",
    "\n",
    "model = CNNModel(VOCAB_SIZE, EMB_SIZE, OUTPUT_SIZE, HIDDEN_SIZE, FILTER_SIZE, STRIDE, PADDING)\n",
    "for idx in range(10):\n",
    "    feature, label = train_set[idx]\n",
    "    pred = F.softmax(model(feature.unsqueeze(0)), dim=-1)\n",
    "    print(pred)"
   ]
  },
  {
   "cell_type": "markdown",
   "metadata": {},
   "source": [
    "## Problem 87\n",
    "### Training a CNN Classifier with SGD"
   ]
  },
  {
   "cell_type": "code",
   "execution_count": 76,
   "metadata": {},
   "outputs": [
    {
     "name": "stdout",
     "output_type": "stream",
     "text": [
      "epoch: 1, training loss: 1.085, valid loss: 0.969\n",
      "training accuracy: 0.674, valid accuracy: 0.674\n",
      "epoch: 2, training loss: 0.899, valid loss: 0.839\n",
      "training accuracy: 0.721, valid accuracy: 0.704\n",
      "epoch: 3, training loss: 0.777, valid loss: 0.751\n",
      "training accuracy: 0.753, valid accuracy: 0.730\n",
      "epoch: 4, training loss: 0.677, valid loss: 0.683\n",
      "training accuracy: 0.786, valid accuracy: 0.751\n",
      "epoch: 5, training loss: 0.592, valid loss: 0.628\n",
      "training accuracy: 0.818, valid accuracy: 0.769\n",
      "epoch: 6, training loss: 0.518, valid loss: 0.583\n",
      "training accuracy: 0.851, valid accuracy: 0.787\n",
      "epoch: 7, training loss: 0.452, valid loss: 0.546\n",
      "training accuracy: 0.877, valid accuracy: 0.803\n",
      "epoch: 8, training loss: 0.396, valid loss: 0.516\n",
      "training accuracy: 0.899, valid accuracy: 0.812\n",
      "epoch: 9, training loss: 0.347, valid loss: 0.492\n",
      "training accuracy: 0.917, valid accuracy: 0.820\n",
      "epoch: 10, training loss: 0.304, valid loss: 0.473\n",
      "training accuracy: 0.932, valid accuracy: 0.827\n"
     ]
    },
    {
     "data": {
      "text/plain": [
       "([[tensor(1.0854, device='cuda:0', grad_fn=<DivBackward0>),\n",
       "   tensor(0.9686, device='cuda:0')],\n",
       "  [tensor(0.8994, device='cuda:0', grad_fn=<DivBackward0>),\n",
       "   tensor(0.8395, device='cuda:0')],\n",
       "  [tensor(0.7771, device='cuda:0', grad_fn=<DivBackward0>),\n",
       "   tensor(0.7506, device='cuda:0')],\n",
       "  [tensor(0.6774, device='cuda:0', grad_fn=<DivBackward0>),\n",
       "   tensor(0.6827, device='cuda:0')],\n",
       "  [tensor(0.5921, device='cuda:0', grad_fn=<DivBackward0>),\n",
       "   tensor(0.6284, device='cuda:0')],\n",
       "  [tensor(0.5177, device='cuda:0', grad_fn=<DivBackward0>),\n",
       "   tensor(0.5833, device='cuda:0')],\n",
       "  [tensor(0.4525, device='cuda:0', grad_fn=<DivBackward0>),\n",
       "   tensor(0.5456, device='cuda:0')],\n",
       "  [tensor(0.3957, device='cuda:0', grad_fn=<DivBackward0>),\n",
       "   tensor(0.5156, device='cuda:0')],\n",
       "  [tensor(0.3466, device='cuda:0', grad_fn=<DivBackward0>),\n",
       "   tensor(0.4917, device='cuda:0')],\n",
       "  [tensor(0.3043, device='cuda:0', grad_fn=<DivBackward0>),\n",
       "   tensor(0.4729, device='cuda:0')]],\n",
       " [[0.6738113066267316, 0.6744011976047904],\n",
       "  [0.7206102583302134, 0.7035928143712575],\n",
       "  [0.7527143391988019, 0.7297904191616766],\n",
       "  [0.786128790715088, 0.7514970059880239],\n",
       "  [0.8179520778734556, 0.7694610778443114],\n",
       "  [0.850617746162486, 0.7874251497005988],\n",
       "  [0.8773867465368775, 0.8031437125748503],\n",
       "  [0.8990078622238862, 0.812125748502994],\n",
       "  [0.917353051291651, 0.8196107784431138],\n",
       "  [0.9323287158367652, 0.8270958083832335]])"
      ]
     },
     "execution_count": 76,
     "metadata": {},
     "output_type": "execute_result"
    }
   ],
   "source": [
    "NUM_EPOCH = 10\n",
    "BATCH_SIZE = 32\n",
    "L_RATE = 0.005\n",
    "train_batch(model, NUM_EPOCH, BATCH_SIZE, L_RATE, pad_seq=PadSequence(), device=device)"
   ]
  },
  {
   "cell_type": "markdown",
   "metadata": {},
   "source": [
    "## Problem 88\n",
    "### Hyperparameter tuning of CNN and RNN models\n",
    "#### Using optuna is another alternative"
   ]
  },
  {
   "cell_type": "code",
   "execution_count": 47,
   "metadata": {},
   "outputs": [],
   "source": [
    "from collections import OrderedDict, namedtuple\n",
    "from itertools import product"
   ]
  },
  {
   "cell_type": "code",
   "execution_count": 48,
   "metadata": {},
   "outputs": [],
   "source": [
    "class RunBuilder():\n",
    "    @staticmethod\n",
    "    def get_runs(params):\n",
    "\n",
    "        Run = namedtuple('Run', params.keys())\n",
    "\n",
    "        runs = []\n",
    "        for v in product(*params.values()):\n",
    "            runs.append(Run(*v))\n",
    "        return runs"
   ]
  },
  {
   "cell_type": "code",
   "execution_count": 49,
   "metadata": {},
   "outputs": [],
   "source": [
    "cnn_params = OrderedDict(\n",
    "    L_RATE = [.01, .005, 0.001],\n",
    "    BATCH_SIZE = [16, 32, 64, 128],\n",
    "    FILTER_SIZE = [2, 3, 4],\n",
    "    HIDDEN_SIZE = [50, 100, 200]\n",
    ")\n",
    "cnn_results = pd.DataFrame(columns =['Batch Size', 'Learning Rate', 'Hidden Dim', 'Filter Size', 'Max Train Acc.',\\\n",
    "                                 'Max Valid Acc.', 'Final Train Acc.', 'Final Valid Acc.', 'Time_taken'])"
   ]
  },
  {
   "cell_type": "code",
   "execution_count": 81,
   "metadata": {
    "scrolled": false
   },
   "outputs": [
    {
     "name": "stdout",
     "output_type": "stream",
     "text": [
      "0 done Run(L_RATE=0.01, BATCH_SIZE=16, FILTER_SIZE=2, HIDDEN_SIZE=50)\n",
      "1 done Run(L_RATE=0.01, BATCH_SIZE=16, FILTER_SIZE=2, HIDDEN_SIZE=100)\n",
      "2 done Run(L_RATE=0.01, BATCH_SIZE=16, FILTER_SIZE=2, HIDDEN_SIZE=200)\n",
      "3 done Run(L_RATE=0.01, BATCH_SIZE=16, FILTER_SIZE=3, HIDDEN_SIZE=50)\n",
      "4 done Run(L_RATE=0.01, BATCH_SIZE=16, FILTER_SIZE=3, HIDDEN_SIZE=100)\n",
      "5 done Run(L_RATE=0.01, BATCH_SIZE=16, FILTER_SIZE=3, HIDDEN_SIZE=200)\n",
      "6 done Run(L_RATE=0.01, BATCH_SIZE=16, FILTER_SIZE=4, HIDDEN_SIZE=50)\n",
      "7 done Run(L_RATE=0.01, BATCH_SIZE=16, FILTER_SIZE=4, HIDDEN_SIZE=100)\n",
      "8 done Run(L_RATE=0.01, BATCH_SIZE=16, FILTER_SIZE=4, HIDDEN_SIZE=200)\n",
      "9 done Run(L_RATE=0.01, BATCH_SIZE=32, FILTER_SIZE=2, HIDDEN_SIZE=50)\n",
      "10 done Run(L_RATE=0.01, BATCH_SIZE=32, FILTER_SIZE=2, HIDDEN_SIZE=100)\n",
      "11 done Run(L_RATE=0.01, BATCH_SIZE=32, FILTER_SIZE=2, HIDDEN_SIZE=200)\n",
      "12 done Run(L_RATE=0.01, BATCH_SIZE=32, FILTER_SIZE=3, HIDDEN_SIZE=50)\n",
      "13 done Run(L_RATE=0.01, BATCH_SIZE=32, FILTER_SIZE=3, HIDDEN_SIZE=100)\n",
      "14 done Run(L_RATE=0.01, BATCH_SIZE=32, FILTER_SIZE=3, HIDDEN_SIZE=200)\n",
      "15 done Run(L_RATE=0.01, BATCH_SIZE=32, FILTER_SIZE=4, HIDDEN_SIZE=50)\n",
      "16 done Run(L_RATE=0.01, BATCH_SIZE=32, FILTER_SIZE=4, HIDDEN_SIZE=100)\n",
      "17 done Run(L_RATE=0.01, BATCH_SIZE=32, FILTER_SIZE=4, HIDDEN_SIZE=200)\n",
      "18 done Run(L_RATE=0.01, BATCH_SIZE=64, FILTER_SIZE=2, HIDDEN_SIZE=50)\n",
      "19 done Run(L_RATE=0.01, BATCH_SIZE=64, FILTER_SIZE=2, HIDDEN_SIZE=100)\n",
      "20 done Run(L_RATE=0.01, BATCH_SIZE=64, FILTER_SIZE=2, HIDDEN_SIZE=200)\n",
      "21 done Run(L_RATE=0.01, BATCH_SIZE=64, FILTER_SIZE=3, HIDDEN_SIZE=50)\n",
      "22 done Run(L_RATE=0.01, BATCH_SIZE=64, FILTER_SIZE=3, HIDDEN_SIZE=100)\n",
      "23 done Run(L_RATE=0.01, BATCH_SIZE=64, FILTER_SIZE=3, HIDDEN_SIZE=200)\n",
      "24 done Run(L_RATE=0.01, BATCH_SIZE=64, FILTER_SIZE=4, HIDDEN_SIZE=50)\n",
      "25 done Run(L_RATE=0.01, BATCH_SIZE=64, FILTER_SIZE=4, HIDDEN_SIZE=100)\n",
      "26 done Run(L_RATE=0.01, BATCH_SIZE=64, FILTER_SIZE=4, HIDDEN_SIZE=200)\n",
      "27 done Run(L_RATE=0.01, BATCH_SIZE=128, FILTER_SIZE=2, HIDDEN_SIZE=50)\n",
      "28 done Run(L_RATE=0.01, BATCH_SIZE=128, FILTER_SIZE=2, HIDDEN_SIZE=100)\n",
      "29 done Run(L_RATE=0.01, BATCH_SIZE=128, FILTER_SIZE=2, HIDDEN_SIZE=200)\n",
      "30 done Run(L_RATE=0.01, BATCH_SIZE=128, FILTER_SIZE=3, HIDDEN_SIZE=50)\n",
      "31 done Run(L_RATE=0.01, BATCH_SIZE=128, FILTER_SIZE=3, HIDDEN_SIZE=100)\n",
      "32 done Run(L_RATE=0.01, BATCH_SIZE=128, FILTER_SIZE=3, HIDDEN_SIZE=200)\n",
      "33 done Run(L_RATE=0.01, BATCH_SIZE=128, FILTER_SIZE=4, HIDDEN_SIZE=50)\n",
      "34 done Run(L_RATE=0.01, BATCH_SIZE=128, FILTER_SIZE=4, HIDDEN_SIZE=100)\n",
      "35 done Run(L_RATE=0.01, BATCH_SIZE=128, FILTER_SIZE=4, HIDDEN_SIZE=200)\n",
      "36 done Run(L_RATE=0.005, BATCH_SIZE=16, FILTER_SIZE=2, HIDDEN_SIZE=50)\n",
      "37 done Run(L_RATE=0.005, BATCH_SIZE=16, FILTER_SIZE=2, HIDDEN_SIZE=100)\n",
      "38 done Run(L_RATE=0.005, BATCH_SIZE=16, FILTER_SIZE=2, HIDDEN_SIZE=200)\n",
      "39 done Run(L_RATE=0.005, BATCH_SIZE=16, FILTER_SIZE=3, HIDDEN_SIZE=50)\n",
      "40 done Run(L_RATE=0.005, BATCH_SIZE=16, FILTER_SIZE=3, HIDDEN_SIZE=100)\n",
      "41 done Run(L_RATE=0.005, BATCH_SIZE=16, FILTER_SIZE=3, HIDDEN_SIZE=200)\n",
      "42 done Run(L_RATE=0.005, BATCH_SIZE=16, FILTER_SIZE=4, HIDDEN_SIZE=50)\n",
      "43 done Run(L_RATE=0.005, BATCH_SIZE=16, FILTER_SIZE=4, HIDDEN_SIZE=100)\n",
      "44 done Run(L_RATE=0.005, BATCH_SIZE=16, FILTER_SIZE=4, HIDDEN_SIZE=200)\n",
      "45 done Run(L_RATE=0.005, BATCH_SIZE=32, FILTER_SIZE=2, HIDDEN_SIZE=50)\n",
      "46 done Run(L_RATE=0.005, BATCH_SIZE=32, FILTER_SIZE=2, HIDDEN_SIZE=100)\n",
      "47 done Run(L_RATE=0.005, BATCH_SIZE=32, FILTER_SIZE=2, HIDDEN_SIZE=200)\n",
      "48 done Run(L_RATE=0.005, BATCH_SIZE=32, FILTER_SIZE=3, HIDDEN_SIZE=50)\n",
      "49 done Run(L_RATE=0.005, BATCH_SIZE=32, FILTER_SIZE=3, HIDDEN_SIZE=100)\n",
      "50 done Run(L_RATE=0.005, BATCH_SIZE=32, FILTER_SIZE=3, HIDDEN_SIZE=200)\n",
      "51 done Run(L_RATE=0.005, BATCH_SIZE=32, FILTER_SIZE=4, HIDDEN_SIZE=50)\n",
      "52 done Run(L_RATE=0.005, BATCH_SIZE=32, FILTER_SIZE=4, HIDDEN_SIZE=100)\n",
      "53 done Run(L_RATE=0.005, BATCH_SIZE=32, FILTER_SIZE=4, HIDDEN_SIZE=200)\n",
      "54 done Run(L_RATE=0.005, BATCH_SIZE=64, FILTER_SIZE=2, HIDDEN_SIZE=50)\n",
      "55 done Run(L_RATE=0.005, BATCH_SIZE=64, FILTER_SIZE=2, HIDDEN_SIZE=100)\n",
      "56 done Run(L_RATE=0.005, BATCH_SIZE=64, FILTER_SIZE=2, HIDDEN_SIZE=200)\n",
      "57 done Run(L_RATE=0.005, BATCH_SIZE=64, FILTER_SIZE=3, HIDDEN_SIZE=50)\n",
      "58 done Run(L_RATE=0.005, BATCH_SIZE=64, FILTER_SIZE=3, HIDDEN_SIZE=100)\n",
      "59 done Run(L_RATE=0.005, BATCH_SIZE=64, FILTER_SIZE=3, HIDDEN_SIZE=200)\n",
      "60 done Run(L_RATE=0.005, BATCH_SIZE=64, FILTER_SIZE=4, HIDDEN_SIZE=50)\n",
      "61 done Run(L_RATE=0.005, BATCH_SIZE=64, FILTER_SIZE=4, HIDDEN_SIZE=100)\n",
      "62 done Run(L_RATE=0.005, BATCH_SIZE=64, FILTER_SIZE=4, HIDDEN_SIZE=200)\n",
      "63 done Run(L_RATE=0.005, BATCH_SIZE=128, FILTER_SIZE=2, HIDDEN_SIZE=50)\n",
      "64 done Run(L_RATE=0.005, BATCH_SIZE=128, FILTER_SIZE=2, HIDDEN_SIZE=100)\n",
      "65 done Run(L_RATE=0.005, BATCH_SIZE=128, FILTER_SIZE=2, HIDDEN_SIZE=200)\n",
      "66 done Run(L_RATE=0.005, BATCH_SIZE=128, FILTER_SIZE=3, HIDDEN_SIZE=50)\n",
      "67 done Run(L_RATE=0.005, BATCH_SIZE=128, FILTER_SIZE=3, HIDDEN_SIZE=100)\n",
      "68 done Run(L_RATE=0.005, BATCH_SIZE=128, FILTER_SIZE=3, HIDDEN_SIZE=200)\n",
      "69 done Run(L_RATE=0.005, BATCH_SIZE=128, FILTER_SIZE=4, HIDDEN_SIZE=50)\n",
      "70 done Run(L_RATE=0.005, BATCH_SIZE=128, FILTER_SIZE=4, HIDDEN_SIZE=100)\n",
      "71 done Run(L_RATE=0.005, BATCH_SIZE=128, FILTER_SIZE=4, HIDDEN_SIZE=200)\n",
      "72 done Run(L_RATE=0.001, BATCH_SIZE=16, FILTER_SIZE=2, HIDDEN_SIZE=50)\n",
      "73 done Run(L_RATE=0.001, BATCH_SIZE=16, FILTER_SIZE=2, HIDDEN_SIZE=100)\n",
      "74 done Run(L_RATE=0.001, BATCH_SIZE=16, FILTER_SIZE=2, HIDDEN_SIZE=200)\n",
      "75 done Run(L_RATE=0.001, BATCH_SIZE=16, FILTER_SIZE=3, HIDDEN_SIZE=50)\n",
      "76 done Run(L_RATE=0.001, BATCH_SIZE=16, FILTER_SIZE=3, HIDDEN_SIZE=100)\n",
      "77 done Run(L_RATE=0.001, BATCH_SIZE=16, FILTER_SIZE=3, HIDDEN_SIZE=200)\n",
      "78 done Run(L_RATE=0.001, BATCH_SIZE=16, FILTER_SIZE=4, HIDDEN_SIZE=50)\n",
      "79 done Run(L_RATE=0.001, BATCH_SIZE=16, FILTER_SIZE=4, HIDDEN_SIZE=100)\n",
      "80 done Run(L_RATE=0.001, BATCH_SIZE=16, FILTER_SIZE=4, HIDDEN_SIZE=200)\n",
      "81 done Run(L_RATE=0.001, BATCH_SIZE=32, FILTER_SIZE=2, HIDDEN_SIZE=50)\n",
      "82 done Run(L_RATE=0.001, BATCH_SIZE=32, FILTER_SIZE=2, HIDDEN_SIZE=100)\n",
      "83 done Run(L_RATE=0.001, BATCH_SIZE=32, FILTER_SIZE=2, HIDDEN_SIZE=200)\n",
      "84 done Run(L_RATE=0.001, BATCH_SIZE=32, FILTER_SIZE=3, HIDDEN_SIZE=50)\n",
      "85 done Run(L_RATE=0.001, BATCH_SIZE=32, FILTER_SIZE=3, HIDDEN_SIZE=100)\n",
      "86 done Run(L_RATE=0.001, BATCH_SIZE=32, FILTER_SIZE=3, HIDDEN_SIZE=200)\n",
      "87 done Run(L_RATE=0.001, BATCH_SIZE=32, FILTER_SIZE=4, HIDDEN_SIZE=50)\n",
      "88 done Run(L_RATE=0.001, BATCH_SIZE=32, FILTER_SIZE=4, HIDDEN_SIZE=100)\n",
      "89 done Run(L_RATE=0.001, BATCH_SIZE=32, FILTER_SIZE=4, HIDDEN_SIZE=200)\n",
      "90 done Run(L_RATE=0.001, BATCH_SIZE=64, FILTER_SIZE=2, HIDDEN_SIZE=50)\n",
      "91 done Run(L_RATE=0.001, BATCH_SIZE=64, FILTER_SIZE=2, HIDDEN_SIZE=100)\n",
      "92 done Run(L_RATE=0.001, BATCH_SIZE=64, FILTER_SIZE=2, HIDDEN_SIZE=200)\n",
      "93 done Run(L_RATE=0.001, BATCH_SIZE=64, FILTER_SIZE=3, HIDDEN_SIZE=50)\n",
      "94 done Run(L_RATE=0.001, BATCH_SIZE=64, FILTER_SIZE=3, HIDDEN_SIZE=100)\n",
      "95 done Run(L_RATE=0.001, BATCH_SIZE=64, FILTER_SIZE=3, HIDDEN_SIZE=200)\n",
      "96 done Run(L_RATE=0.001, BATCH_SIZE=64, FILTER_SIZE=4, HIDDEN_SIZE=50)\n",
      "97 done Run(L_RATE=0.001, BATCH_SIZE=64, FILTER_SIZE=4, HIDDEN_SIZE=100)\n",
      "98 done Run(L_RATE=0.001, BATCH_SIZE=64, FILTER_SIZE=4, HIDDEN_SIZE=200)\n",
      "99 done Run(L_RATE=0.001, BATCH_SIZE=128, FILTER_SIZE=2, HIDDEN_SIZE=50)\n",
      "100 done Run(L_RATE=0.001, BATCH_SIZE=128, FILTER_SIZE=2, HIDDEN_SIZE=100)\n",
      "101 done Run(L_RATE=0.001, BATCH_SIZE=128, FILTER_SIZE=2, HIDDEN_SIZE=200)\n",
      "102 done Run(L_RATE=0.001, BATCH_SIZE=128, FILTER_SIZE=3, HIDDEN_SIZE=50)\n",
      "103 done Run(L_RATE=0.001, BATCH_SIZE=128, FILTER_SIZE=3, HIDDEN_SIZE=100)\n",
      "104 done Run(L_RATE=0.001, BATCH_SIZE=128, FILTER_SIZE=3, HIDDEN_SIZE=200)\n",
      "105 done Run(L_RATE=0.001, BATCH_SIZE=128, FILTER_SIZE=4, HIDDEN_SIZE=50)\n",
      "106 done Run(L_RATE=0.001, BATCH_SIZE=128, FILTER_SIZE=4, HIDDEN_SIZE=100)\n",
      "107 done Run(L_RATE=0.001, BATCH_SIZE=128, FILTER_SIZE=4, HIDDEN_SIZE=200)\n"
     ]
    }
   ],
   "source": [
    "VOCAB_SIZE = len(token_index)\n",
    "EMB_SIZE = 300\n",
    "OUTPUT_SIZE = 4 \n",
    "STRIDE = 1\n",
    "padding_map = {2:0, 3:1, 4:2}\n",
    "NUM_EPOCH = 10\n",
    "\n",
    "\n",
    "for idx, run in enumerate(RunBuilder.get_runs(cnn_params)):\n",
    "    start = time.time()\n",
    "    model = CNNModel(VOCAB_SIZE, EMB_SIZE, OUTPUT_SIZE, run.HIDDEN_SIZE, run.FILTER_SIZE, STRIDE,\\\n",
    "                     padding_map[run.FILTER_SIZE], embeddings=initial_embeddings)\n",
    "    losses, accs = train_batch(model, NUM_EPOCH, run.BATCH_SIZE, run.L_RATE, pad_seq=PadSequence(),\\\n",
    "                               device=device, verbose=False)\n",
    "    train_accs, valid_accs  = zip(*accs)\n",
    "#     print([idx+1, run.BATCH_SIZE, run.L_RATE, run.HIDDEN_SIZE, run.FILTER_SIZE, max(train_accs),\\\n",
    "#                  max(valid_accs), time.time()-start])\n",
    "    results.loc[idx] = [run.BATCH_SIZE, run.L_RATE, run.HIDDEN_SIZE, run.FILTER_SIZE, max(train_accs),\\\n",
    "                 max(valid_accs), train_accs[-1], valid_accs[-1], time.time()-start]\n",
    "    print(idx, 'done', run)"
   ]
  },
  {
   "cell_type": "code",
   "execution_count": null,
   "metadata": {},
   "outputs": [],
   "source": [
    "cnn_results.to_csv('CNN_hyperparam_tuning.csv')"
   ]
  },
  {
   "cell_type": "code",
   "execution_count": 50,
   "metadata": {},
   "outputs": [],
   "source": [
    "cnn_params = OrderedDict(\n",
    "    L_RATE = [.01, .005, 0.001],\n",
    "    BATCH_SIZE = [16, 32, 64],\n",
    "    NUM_LAYERS = [2, 3, 4],\n",
    "    BIDIREC = [True, False],\n",
    "    HIDDEN_SIZE = [50, 100, 200]\n",
    ")\n",
    "rnn_results =  pd.DataFrame(columns =['Batch Size', 'Learning Rate', 'Hidden Dim', 'Num Layers', 'Bidirec',\\\n",
    "                            'Max Train Acc.', 'Max Valid Acc.', 'Final Train Acc.', 'Final Valid Acc.', 'Time_taken'])"
   ]
  },
  {
   "cell_type": "code",
   "execution_count": 52,
   "metadata": {},
   "outputs": [
    {
     "name": "stdout",
     "output_type": "stream",
     "text": [
      "0 done Run(L_RATE=0.01, BATCH_SIZE=16, NUM_LAYERS=2, BIDIREC=True, HIDDEN_SIZE=50)\n",
      "1 done Run(L_RATE=0.01, BATCH_SIZE=16, NUM_LAYERS=2, BIDIREC=True, HIDDEN_SIZE=100)\n",
      "2 done Run(L_RATE=0.01, BATCH_SIZE=16, NUM_LAYERS=2, BIDIREC=True, HIDDEN_SIZE=200)\n",
      "3 done Run(L_RATE=0.01, BATCH_SIZE=16, NUM_LAYERS=2, BIDIREC=False, HIDDEN_SIZE=50)\n",
      "4 done Run(L_RATE=0.01, BATCH_SIZE=16, NUM_LAYERS=2, BIDIREC=False, HIDDEN_SIZE=100)\n"
     ]
    },
    {
     "ename": "KeyboardInterrupt",
     "evalue": "",
     "output_type": "error",
     "traceback": [
      "\u001b[0;31m---------------------------------------------------------------------------\u001b[0m",
      "\u001b[0;31mKeyboardInterrupt\u001b[0m                         Traceback (most recent call last)",
      "\u001b[0;32m<ipython-input-52-58cce7f2c410>\u001b[0m in \u001b[0;36m<module>\u001b[0;34m\u001b[0m\n\u001b[1;32m     11\u001b[0m     model = RNNModel(VOCAB_SIZE, EMB_SIZE, OUTPUT_SIZE, run.HIDDEN_SIZE, num_layers=run.NUM_LAYERS, \\\n\u001b[1;32m     12\u001b[0m                      bidirec=run.BIDIREC, embeddings=initial_embeddings, device=device)\n\u001b[0;32m---> 13\u001b[0;31m     losses, accs = train_batch(model, NUM_EPOCH, run.BATCH_SIZE, run.L_RATE, pad_seq=PadSequence(),\\\n\u001b[0m\u001b[1;32m     14\u001b[0m                                device=device, verbose=False)\n\u001b[1;32m     15\u001b[0m     \u001b[0mtrain_accs\u001b[0m\u001b[0;34m,\u001b[0m \u001b[0mvalid_accs\u001b[0m  \u001b[0;34m=\u001b[0m \u001b[0mzip\u001b[0m\u001b[0;34m(\u001b[0m\u001b[0;34m*\u001b[0m\u001b[0maccs\u001b[0m\u001b[0;34m)\u001b[0m\u001b[0;34m\u001b[0m\u001b[0;34m\u001b[0m\u001b[0m\n",
      "\u001b[0;32m<ipython-input-42-323ee80fb073>\u001b[0m in \u001b[0;36mtrain_batch\u001b[0;34m(model, num_epoch, b_size, l_rate, pad_seq, device, verbose)\u001b[0m\n\u001b[1;32m     22\u001b[0m             \u001b[0;31m#training\u001b[0m\u001b[0;34m\u001b[0m\u001b[0;34m\u001b[0m\u001b[0;34m\u001b[0m\u001b[0m\n\u001b[1;32m     23\u001b[0m             \u001b[0moptimizer\u001b[0m\u001b[0;34m.\u001b[0m\u001b[0mzero_grad\u001b[0m\u001b[0;34m(\u001b[0m\u001b[0;34m)\u001b[0m\u001b[0;34m\u001b[0m\u001b[0;34m\u001b[0m\u001b[0m\n\u001b[0;32m---> 24\u001b[0;31m             \u001b[0mloss\u001b[0m\u001b[0;34m.\u001b[0m\u001b[0mbackward\u001b[0m\u001b[0;34m(\u001b[0m\u001b[0;34m)\u001b[0m\u001b[0;34m\u001b[0m\u001b[0;34m\u001b[0m\u001b[0m\n\u001b[0m\u001b[1;32m     25\u001b[0m             \u001b[0moptimizer\u001b[0m\u001b[0;34m.\u001b[0m\u001b[0mstep\u001b[0m\u001b[0;34m(\u001b[0m\u001b[0;34m)\u001b[0m\u001b[0;34m\u001b[0m\u001b[0;34m\u001b[0m\u001b[0m\n\u001b[1;32m     26\u001b[0m \u001b[0;34m\u001b[0m\u001b[0m\n",
      "\u001b[0;32m~/anaconda3/lib/python3.8/site-packages/torch/_tensor.py\u001b[0m in \u001b[0;36mbackward\u001b[0;34m(self, gradient, retain_graph, create_graph, inputs)\u001b[0m\n\u001b[1;32m    253\u001b[0m                 \u001b[0mcreate_graph\u001b[0m\u001b[0;34m=\u001b[0m\u001b[0mcreate_graph\u001b[0m\u001b[0;34m,\u001b[0m\u001b[0;34m\u001b[0m\u001b[0;34m\u001b[0m\u001b[0m\n\u001b[1;32m    254\u001b[0m                 inputs=inputs)\n\u001b[0;32m--> 255\u001b[0;31m         \u001b[0mtorch\u001b[0m\u001b[0;34m.\u001b[0m\u001b[0mautograd\u001b[0m\u001b[0;34m.\u001b[0m\u001b[0mbackward\u001b[0m\u001b[0;34m(\u001b[0m\u001b[0mself\u001b[0m\u001b[0;34m,\u001b[0m \u001b[0mgradient\u001b[0m\u001b[0;34m,\u001b[0m \u001b[0mretain_graph\u001b[0m\u001b[0;34m,\u001b[0m \u001b[0mcreate_graph\u001b[0m\u001b[0;34m,\u001b[0m \u001b[0minputs\u001b[0m\u001b[0;34m=\u001b[0m\u001b[0minputs\u001b[0m\u001b[0;34m)\u001b[0m\u001b[0;34m\u001b[0m\u001b[0;34m\u001b[0m\u001b[0m\n\u001b[0m\u001b[1;32m    256\u001b[0m \u001b[0;34m\u001b[0m\u001b[0m\n\u001b[1;32m    257\u001b[0m     \u001b[0;32mdef\u001b[0m \u001b[0mregister_hook\u001b[0m\u001b[0;34m(\u001b[0m\u001b[0mself\u001b[0m\u001b[0;34m,\u001b[0m \u001b[0mhook\u001b[0m\u001b[0;34m)\u001b[0m\u001b[0;34m:\u001b[0m\u001b[0;34m\u001b[0m\u001b[0;34m\u001b[0m\u001b[0m\n",
      "\u001b[0;32m~/anaconda3/lib/python3.8/site-packages/torch/autograd/__init__.py\u001b[0m in \u001b[0;36mbackward\u001b[0;34m(tensors, grad_tensors, retain_graph, create_graph, grad_variables, inputs)\u001b[0m\n\u001b[1;32m    145\u001b[0m         \u001b[0mretain_graph\u001b[0m \u001b[0;34m=\u001b[0m \u001b[0mcreate_graph\u001b[0m\u001b[0;34m\u001b[0m\u001b[0;34m\u001b[0m\u001b[0m\n\u001b[1;32m    146\u001b[0m \u001b[0;34m\u001b[0m\u001b[0m\n\u001b[0;32m--> 147\u001b[0;31m     Variable._execution_engine.run_backward(\n\u001b[0m\u001b[1;32m    148\u001b[0m         \u001b[0mtensors\u001b[0m\u001b[0;34m,\u001b[0m \u001b[0mgrad_tensors_\u001b[0m\u001b[0;34m,\u001b[0m \u001b[0mretain_graph\u001b[0m\u001b[0;34m,\u001b[0m \u001b[0mcreate_graph\u001b[0m\u001b[0;34m,\u001b[0m \u001b[0minputs\u001b[0m\u001b[0;34m,\u001b[0m\u001b[0;34m\u001b[0m\u001b[0;34m\u001b[0m\u001b[0m\n\u001b[1;32m    149\u001b[0m         allow_unreachable=True, accumulate_grad=True)  # allow_unreachable flag\n",
      "\u001b[0;31mKeyboardInterrupt\u001b[0m: "
     ]
    }
   ],
   "source": [
    "VOCAB_SIZE = len(token_index)\n",
    "EMB_SIZE = 300\n",
    "OUTPUT_SIZE = 4 \n",
    "STRIDE = 1\n",
    "padding_map = {2:0, 3:1, 4:2}\n",
    "NUM_EPOCH = 10\n",
    "\n",
    "\n",
    "for idx, run in enumerate(RunBuilder.get_runs(cnn_params)):\n",
    "    start = time.time()\n",
    "    model = RNNModel(VOCAB_SIZE, EMB_SIZE, OUTPUT_SIZE, run.HIDDEN_SIZE, num_layers=run.NUM_LAYERS, \\\n",
    "                     bidirec=run.BIDIREC, embeddings=initial_embeddings, device=device)\n",
    "    losses, accs = train_batch(model, NUM_EPOCH, run.BATCH_SIZE, run.L_RATE, pad_seq=PadSequence(),\\\n",
    "                               device=device, verbose=False)\n",
    "    train_accs, valid_accs  = zip(*accs)\n",
    "    rnn_results.loc[idx] = [run.BATCH_SIZE, run.L_RATE, run.HIDDEN_SIZE, run.NUM_LAYERS, run.BIDIREC, max(train_accs),\\\n",
    "                 max(valid_accs), train_accs[-1], valid_accs[-1], time.time()-start]\n",
    "    print(idx, 'done', run)"
   ]
  },
  {
   "cell_type": "code",
   "execution_count": 82,
   "metadata": {},
   "outputs": [],
   "source": [
    "rnn_results.to_csv('RNN_hyperparam_tuning.csv')"
   ]
  },
  {
   "cell_type": "markdown",
   "metadata": {},
   "source": [
    "## Problem 89\n",
    "### Training a Classifier with inputs obtained from BERT pretrained model"
   ]
  },
  {
   "cell_type": "code",
   "execution_count": 53,
   "metadata": {},
   "outputs": [],
   "source": [
    "from transformers import BertTokenizer, BertModel\n",
    "tokenizer = BertTokenizer.from_pretrained('bert-base-uncased')"
   ]
  },
  {
   "cell_type": "code",
   "execution_count": 58,
   "metadata": {},
   "outputs": [],
   "source": [
    "class BertClassifier(nn.Module):\n",
    "    def __init__(self, bert_embed_size, output_size):\n",
    "        super(BertClassifier, self).__init__()\n",
    "        self.bert = BertModel.from_pretrained('bert-base-uncased')\n",
    "        self.fc1 = nn.Linear(bert_embed_size, 200)\n",
    "        self.fc2 = nn.Linear(200, output_size)\n",
    "        \n",
    "    def forward(self, x):\n",
    "        x = self.bert(x)[1]\n",
    "        x = F.relu(self.fc1(x))\n",
    "        x = self.fc2(x)\n",
    "        return x"
   ]
  },
  {
   "cell_type": "code",
   "execution_count": 59,
   "metadata": {},
   "outputs": [],
   "source": [
    "train_set_bert = CreateDataset(X_train, y_train, to_vector=tokenizer.encode, transform=torch.as_tensor)\n",
    "valid_set_bert = CreateDataset(X_valid, y_valid, to_vector=tokenizer.encode, transform=torch.as_tensor)\n",
    "test_set_bert = CreateDataset(X_test, y_test, to_vector=tokenizer.encode, transform=torch.as_tensor)\n",
    "all_sets_bert = {'train': train_set_bert, 'valid': valid_set_bert, 'test': test_set_bert}"
   ]
  },
  {
   "cell_type": "code",
   "execution_count": 60,
   "metadata": {},
   "outputs": [],
   "source": [
    "def train_batch(model, num_epoch, b_size, l_rate, pad_seq=None, device=None, verbose=True):\n",
    "    optimizer  = optim.SGD(model.parameters(), lr=l_rate)\n",
    "    train_loader = DataLoader(train_set_bert, batch_size=b_size, collate_fn=pad_seq)\n",
    "    model = model.to(device)\n",
    "#     print(next(model.parameters()).device)\n",
    "    losses = []\n",
    "    accuracies = []\n",
    "    for epoch in range(num_epoch):\n",
    "        epoch_loss = 0\n",
    "        batch_nums = 0\n",
    "        for idx, batch in enumerate(train_loader, 1):\n",
    "#             print(idx)\n",
    "            features, lengths, labels = batch\n",
    "            features = features.to(device)\n",
    "            labels = labels.to(device)\n",
    "#             print(features.get_device() ,labels.get_device(), next(model.parameters()).device)\n",
    "            out = model(features)\n",
    "            loss = F.cross_entropy(out, labels)\n",
    "            epoch_loss += loss\n",
    "            batch_nums = idx\n",
    "            \n",
    "            #training\n",
    "            optimizer.zero_grad()\n",
    "            loss.backward()\n",
    "            optimizer.step()\n",
    "            \n",
    "        train_loss = epoch_loss/batch_nums\n",
    "        valid_loss = get_valid_loss(model, b_size, device=device, pad_seq=pad_seq, datasets=all_sets_bert)\n",
    "        train_acc = get_accuracy(model, 'train', device=device, pad_seq=pad_seq, datasets=all_sets_bert)\n",
    "        valid_acc = get_accuracy(model, 'valid', device=device, pad_seq=pad_seq, datasets=all_sets_bert)\n",
    "        losses.append([train_loss, valid_loss])\n",
    "        accuracies.append([train_acc, valid_acc])\n",
    "        if verbose:\n",
    "            print(f'epoch: {epoch+1}, training loss: {train_loss.item():.3f}, valid loss: {valid_loss.item():.3f}')\n",
    "            print(f'training accuracy: {train_acc:.3f}, valid accuracy: {valid_acc:.3f}')\n",
    "    return losses, accuracies"
   ]
  },
  {
   "cell_type": "code",
   "execution_count": 61,
   "metadata": {},
   "outputs": [
    {
     "name": "stderr",
     "output_type": "stream",
     "text": [
      "Some weights of the model checkpoint at bert-base-uncased were not used when initializing BertModel: ['cls.seq_relationship.bias', 'cls.predictions.bias', 'cls.predictions.transform.dense.bias', 'cls.seq_relationship.weight', 'cls.predictions.transform.LayerNorm.bias', 'cls.predictions.transform.dense.weight', 'cls.predictions.transform.LayerNorm.weight', 'cls.predictions.decoder.weight']\n",
      "- This IS expected if you are initializing BertModel from the checkpoint of a model trained on another task or with another architecture (e.g. initializing a BertForSequenceClassification model from a BertForPreTraining model).\n",
      "- This IS NOT expected if you are initializing BertModel from the checkpoint of a model that you expect to be exactly identical (initializing a BertForSequenceClassification model from a BertForSequenceClassification model).\n"
     ]
    },
    {
     "name": "stdout",
     "output_type": "stream",
     "text": [
      "epoch: 1, training loss: 0.510, valid loss: 0.305\n",
      "training accuracy: 0.908, valid accuracy: 0.891\n",
      "epoch: 2, training loss: 0.219, valid loss: 0.198\n",
      "training accuracy: 0.959, valid accuracy: 0.937\n",
      "epoch: 3, training loss: 0.136, valid loss: 0.194\n",
      "training accuracy: 0.972, valid accuracy: 0.938\n",
      "epoch: 4, training loss: 0.093, valid loss: 0.234\n",
      "training accuracy: 0.979, valid accuracy: 0.933\n",
      "epoch: 5, training loss: 0.053, valid loss: 0.268\n",
      "training accuracy: 0.978, valid accuracy: 0.928\n",
      "epoch: 6, training loss: 0.046, valid loss: 0.241\n",
      "training accuracy: 0.988, valid accuracy: 0.938\n",
      "epoch: 7, training loss: 0.026, valid loss: 0.244\n",
      "training accuracy: 0.993, valid accuracy: 0.941\n",
      "epoch: 8, training loss: 0.039, valid loss: 0.263\n",
      "training accuracy: 0.985, valid accuracy: 0.931\n",
      "epoch: 9, training loss: 0.065, valid loss: 0.273\n",
      "training accuracy: 0.961, valid accuracy: 0.922\n",
      "epoch: 10, training loss: 0.038, valid loss: 0.265\n",
      "training accuracy: 0.993, valid accuracy: 0.933\n"
     ]
    },
    {
     "data": {
      "image/png": "[encoded data removed]",
      "text/plain": [
       "<Figure size 720x288 with 1 Axes>"
      ]
     },
     "metadata": {
      "needs_background": "light"
     },
     "output_type": "display_data"
    },
    {
     "data": {
      "image/png": "[encoded data removed]",
      "text/plain": [
       "<Figure size 720x288 with 1 Axes>"
      ]
     },
     "metadata": {
      "needs_background": "light"
     },
     "output_type": "display_data"
    }
   ],
   "source": [
    "OUTPUT_SIZE = 4 \n",
    "NUM_EPOCH = 10\n",
    "EMB_SIZE = 768\n",
    "BATCH_SIZE = 32\n",
    "L_RATE = 0.01\n",
    "\n",
    "model_bert = BertClassifier(EMB_SIZE, OUTPUT_SIZE)\n",
    "losses, accs = train_batch(model_bert, NUM_EPOCH, BATCH_SIZE, L_RATE, pad_seq=PadSequence(), device=device)\n",
    "plot_graphs(losses, accs)"
   ]
  },
  {
   "cell_type": "code",
   "execution_count": null,
   "metadata": {},
   "outputs": [],
   "source": []
  }
 ],
 "metadata": {
  "kernelspec": {
   "display_name": "Python 3",
   "language": "python",
   "name": "python3"
  },
  "language_info": {
   "codemirror_mode": {
    "name": "ipython",
    "version": 3
   },
   "file_extension": ".py",
   "mimetype": "text/x-python",
   "name": "python",
   "nbconvert_exporter": "python",
   "pygments_lexer": "ipython3",
   "version": "3.8.3"
  }
 },
 "nbformat": 4,
 "nbformat_minor": 4
}
