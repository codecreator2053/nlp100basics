{
 "cells": [
  {
   "cell_type": "markdown",
   "metadata": {},
   "source": [
    "# Exercise-5"
   ]
  },
  {
   "cell_type": "code",
   "execution_count": 63,
   "metadata": {},
   "outputs": [
    {
     "data": {
      "text/plain": [
       "([('I', 'am', 'a', 'NLPer', 'and', 'I'),\n",
       "  ('am', 'a', 'NLPer', 'and', 'I', 'am'),\n",
       "  ('a', 'NLPer', 'and', 'I', 'am', 'cool')],\n",
       " [('I', ' ', 'a', 'm', ' ', 'a'),\n",
       "  (' ', 'a', 'm', ' ', 'a', ' '),\n",
       "  ('a', 'm', ' ', 'a', ' ', 'N'),\n",
       "  ('m', ' ', 'a', ' ', 'N', 'L'),\n",
       "  (' ', 'a', ' ', 'N', 'L', 'P'),\n",
       "  ('a', ' ', 'N', 'L', 'P', 'e'),\n",
       "  (' ', 'N', 'L', 'P', 'e', 'r'),\n",
       "  ('N', 'L', 'P', 'e', 'r', ' '),\n",
       "  ('L', 'P', 'e', 'r', ' ', 'a'),\n",
       "  ('P', 'e', 'r', ' ', 'a', 'n'),\n",
       "  ('e', 'r', ' ', 'a', 'n', 'd'),\n",
       "  ('r', ' ', 'a', 'n', 'd', ' '),\n",
       "  (' ', 'a', 'n', 'd', ' ', 'I'),\n",
       "  ('a', 'n', 'd', ' ', 'I', ' '),\n",
       "  ('n', 'd', ' ', 'I', ' ', 'a'),\n",
       "  ('d', ' ', 'I', ' ', 'a', 'm'),\n",
       "  (' ', 'I', ' ', 'a', 'm', ' '),\n",
       "  ('I', ' ', 'a', 'm', ' ', 'c'),\n",
       "  (' ', 'a', 'm', ' ', 'c', 'o'),\n",
       "  ('a', 'm', ' ', 'c', 'o', 'o'),\n",
       "  ('m', ' ', 'c', 'o', 'o', 'l')])"
      ]
     },
     "execution_count": 63,
     "metadata": {},
     "output_type": "execute_result"
    }
   ],
   "source": [
    "def get_ngram(seq, n):\n",
    "    words = seq.split()\n",
    "    wn_gram = [tuple(words[i:i+n]) for i in range(len(words)-n+1)]\n",
    "    n_gram = [tuple(seq[i:i+n]) for i in range(len(seq)-n+1)]\n",
    "#     for i in range(len(words)-n+1):\n",
    "#         n_words.append(words[i:i+n])\n",
    "#     for j in range(len(seq)-n+1):\n",
    "#         bi_letters.append(seq[i:i+n])\n",
    "    return wn_gram, n_gram\n",
    "\n",
    "def get_ngram2(seq, n):\n",
    "    words = seq.split()\n",
    "    return list(zip(*[words[i:] for i in range(n)])), list(zip(*[seq[i:] for i in range(n)]))\n",
    "\n",
    "get_ngram('I am a NLPer and I am cool', 6)"
   ]
  },
  {
   "cell_type": "markdown",
   "metadata": {},
   "source": [
    "\n",
    "# Exercise-6"
   ]
  },
  {
   "cell_type": "code",
   "execution_count": 92,
   "metadata": {},
   "outputs": [
    {
     "name": "stdout",
     "output_type": "stream",
     "text": [
      "True\n",
      "False\n",
      "True\n",
      "False\n"
     ]
    }
   ],
   "source": [
    "_, a  = get_ngram('paraparaparadise', 2)\n",
    "_, b = get_ngram('paragraph', 2)\n",
    "a = set(a)\n",
    "b = set(b)\n",
    "\n",
    "Union = a.union(b)\n",
    "Intersection = a.intersection(b)\n",
    "Difference = a.difference(b)\n",
    "print(('s', 'e') in a)\n",
    "print(('s', 'e') in b)\n",
    "\n",
    "# Union = X | Y\n",
    "# Intersection = X & Y\n",
    "# Difference = X - Y\n",
    "# print({('s', 'e')} <= a)\n",
    "# print({('s', 'e')} <= b)"
   ]
  },
  {
   "cell_type": "markdown",
   "metadata": {},
   "source": [
    "# Exercies-8"
   ]
  },
  {
   "cell_type": "code",
   "execution_count": 98,
   "metadata": {},
   "outputs": [
    {
     "name": "stdout",
     "output_type": "stream",
     "text": [
      "A jfrxp yildm ulc qfnkh levi z ozab wlt.\n",
      "A quick brown fox jumps over a lazy dog.\n"
     ]
    }
   ],
   "source": [
    "def cipher(seq):\n",
    "    ciph =  [chr(219 - ord(x)) if x.islower() else x for x in seq]\n",
    "    return ''.join(ciph)\n",
    "\n",
    "message = 'A quick brown fox jumps over a lazy dog.'\n",
    "encrypted = cipher(message)\n",
    "print(encrypted)\n",
    "decrypted = cipher(encrypted)\n",
    "print(decrypted)"
   ]
  },
  {
   "cell_type": "markdown",
   "metadata": {},
   "source": [
    "# Exercise-9"
   ]
  },
  {
   "cell_type": "code",
   "execution_count": 144,
   "metadata": {},
   "outputs": [
    {
     "data": {
      "text/plain": [
       "'I cdun’olt blieeve that I could atulalcy unnatdserd what I was rnediag : the pnaheeonml pweor of the hmaun mind'"
      ]
     },
     "execution_count": 144,
     "metadata": {},
     "output_type": "execute_result"
    }
   ],
   "source": [
    "import random\n",
    "def rearrange(seq):\n",
    "    result = []\n",
    "    for x in seq.split():\n",
    "        if len(x) > 4:\n",
    "            x = x[:1] + ''.join(random.sample(x[1:-1], len(x) - 2)) + x[-1:]\n",
    "        result.append(x)\n",
    "    return ' '.join(result)\n",
    "\n",
    "line = 'I couldn’t believe that I could actually understand what I was reading : the phenomenal power of the human mind'\n",
    "rearrange(line)"
   ]
  },
  {
   "cell_type": "code",
   "execution_count": null,
   "metadata": {},
   "outputs": [],
   "source": []
  }
 ],
 "metadata": {
  "kernelspec": {
   "display_name": "Python 3",
   "language": "python",
   "name": "python3"
  },
  "language_info": {
   "codemirror_mode": {
    "name": "ipython",
    "version": 3
   },
   "file_extension": ".py",
   "mimetype": "text/x-python",
   "name": "python",
   "nbconvert_exporter": "python",
   "pygments_lexer": "ipython3",
   "version": "3.8.3"
  }
 },
 "nbformat": 4,
 "nbformat_minor": 4
}
