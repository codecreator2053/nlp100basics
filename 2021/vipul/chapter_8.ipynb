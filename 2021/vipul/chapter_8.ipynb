{
 "cells": [
  {
   "cell_type": "code",
   "execution_count": 35,
   "metadata": {},
   "outputs": [],
   "source": [
    "import math, random\n",
    "import pandas as pd\n",
    "import sklearn\n",
    "import pickle as pkl\n",
    "import re\n",
    "\n",
    "import numpy as np\n",
    "\n",
    "import torch\n",
    "import torch.nn as nn\n",
    "import torch.nn.functional as F\n",
    "import torch.optim as optim\n",
    "from torch.utils.data import Dataset, DataLoader\n",
    "\n",
    "import gensim\n",
    "\n",
    "import matplotlib.pyplot as plt\n",
    "%matplotlib inline"
   ]
  },
  {
   "cell_type": "markdown",
   "metadata": {},
   "source": [
    "## Problem-70"
   ]
  },
  {
   "cell_type": "code",
   "execution_count": 2,
   "metadata": {},
   "outputs": [],
   "source": [
    "columns = ['ID', 'TITLE', 'URL', 'PUBLISHER', 'CATEGORY', 'STORY', 'HOSTNAME', 'TIMESTAMP']\n",
    "label_map = {'b':0, 't':1, 'e': 2, 'm':3 }\n",
    "categs = ['busi.', 'science', 'enter.', 'health']"
   ]
  },
  {
   "cell_type": "code",
   "execution_count": 3,
   "metadata": {},
   "outputs": [],
   "source": [
    "w2vmodel = gensim.models.KeyedVectors.load_word2vec_format('./GoogleNews-vectors-negative300.bin', binary=True)"
   ]
  },
  {
   "cell_type": "code",
   "execution_count": 4,
   "metadata": {},
   "outputs": [
    {
     "name": "stdout",
     "output_type": "stream",
     "text": [
      "338350 42294 42293\n"
     ]
    }
   ],
   "source": [
    "df = pd.read_csv('NewsAggregatorDataset/newsCorpora.csv', sep='\\t', quoting=3, names=columns)\n",
    "train_split = df.sample(frac=0.8, random_state=43)\n",
    "test_valid_split = df.drop(train_split.index)\n",
    "valid_split = test_valid_split.sample(frac=0.5, random_state=43)\n",
    "test_split = test_valid_split.drop(valid_split.index)\n",
    "print(len(train_split), len(valid_split), len(test_split))"
   ]
  },
  {
   "cell_type": "code",
   "execution_count": 5,
   "metadata": {},
   "outputs": [],
   "source": [
    "def title_to_embed(x):\n",
    "    title = re.sub('[^A-Za-z0-9]', ' ', x.lower())\n",
    "#     title=x\n",
    "    title_array = np.zeros(300)\n",
    "    length = 0\n",
    "    split_title = title.split()\n",
    "    for token in split_title:\n",
    "        if token in w2vmodel:\n",
    "            title_array+=w2vmodel[token.strip()]\n",
    "    return (title_array/max(length, 1))"
   ]
  },
  {
   "cell_type": "code",
   "execution_count": 128,
   "metadata": {},
   "outputs": [],
   "source": [
    "train_data = np.array(list(train_split['TITLE'].apply(title_to_embed)), dtype='float32')\n",
    "# train_data_filtered = list(filter(lambda x: np.sum(x)>0, list(train_split['TITLE'].apply(title_to_embed))))\n",
    "# train_data = np.array(train_data_filtered, dtype='float32')\n",
    "train_label = np.array(list(train_split['CATEGORY'].apply(lambda x: label_map[x])))\n",
    "valid_data = np.array(list(valid_split['TITLE'].apply(title_to_embed)), dtype='float32')\n",
    "valid_label = np.array(list(valid_split['CATEGORY'].apply(lambda x: label_map[x])))\n",
    "test_data = np.array(list(test_split['TITLE'].apply(title_to_embed)), dtype='float32')\n",
    "test_label = np.array(list(test_split['CATEGORY'].apply(lambda x: label_map[x])))\n",
    "all_splits = {'train_data': train_data, 'train_label':train_label, 'valid_data': valid_data, 'valid_label':valid_label,\\\n",
    "             'test_data': test_data, 'test_label':test_label}"
   ]
  },
  {
   "cell_type": "code",
   "execution_count": 131,
   "metadata": {},
   "outputs": [],
   "source": [
    "with open('chapter_8_splits.pkl', 'wb') as outfile:\n",
    "    pkl.dump(all_splits, outfile)"
   ]
  },
  {
   "cell_type": "markdown",
   "metadata": {},
   "source": [
    "## Problem-71"
   ]
  },
  {
   "cell_type": "code",
   "execution_count": 36,
   "metadata": {},
   "outputs": [],
   "source": [
    "all_data = None\n",
    "with open('chapter_8_splits.pkl', 'rb') as infile:\n",
    "    all_data = pkl.load(infile)\n",
    "# train_data = data['train_data']\n",
    "# train_label = data['train_label']\n",
    "# valid_data = data['valid_data']\n",
    "# valid_label = data['valid_label']\n",
    "# test_data = data['test_data']\n",
    "# test_label = data['test_label']\n",
    "# print(train_data.shape, train_label.shape)"
   ]
  },
  {
   "cell_type": "code",
   "execution_count": 37,
   "metadata": {},
   "outputs": [],
   "source": [
    "class LinearModel(nn.Module):\n",
    "    def __init__(self, input_size, output_size):\n",
    "        super(LinearModel, self).__init__()\n",
    "        self.linear1 = nn.Linear(input_size, output_size)\n",
    "            \n",
    "    def forward(self, x):\n",
    "        x = self.linear1(x)\n",
    "#         x = F.softmax(x, dim=-1)\n",
    "        return x"
   ]
  },
  {
   "cell_type": "code",
   "execution_count": 38,
   "metadata": {},
   "outputs": [],
   "source": [
    "class MyDataSet(Dataset):\n",
    "    def __init__(self, data, label, transform=None):\n",
    "        self.transform = transform\n",
    "\n",
    "        self.data = data\n",
    "        self.label = label\n",
    "\n",
    "        self.datanum = label.shape[0]\n",
    "\n",
    "    def __len__(self):\n",
    "        return self.datanum\n",
    "\n",
    "    def __getitem__(self, idx):\n",
    "        out_data = self.data[idx]\n",
    "        out_label = self.label[idx]\n",
    "\n",
    "        if self.transform:\n",
    "            out_data = self.transform(out_data)\n",
    "\n",
    "        return out_data, out_label"
   ]
  },
  {
   "cell_type": "markdown",
   "metadata": {},
   "source": [
    "## Problem-71 and Problem-72"
   ]
  },
  {
   "cell_type": "code",
   "execution_count": 39,
   "metadata": {},
   "outputs": [
    {
     "name": "stdout",
     "output_type": "stream",
     "text": [
      "softmax x1 tensor([[0.3627, 0.2798, 0.1932, 0.1642]], grad_fn=<SliceBackward>)\n",
      "softmax x1-x4 tensor([[0.3627, 0.2798, 0.1932, 0.1642],\n",
      "        [0.3154, 0.2856, 0.1401, 0.2590],\n",
      "        [0.3874, 0.1441, 0.1050, 0.3634],\n",
      "        [0.4407, 0.1940, 0.1798, 0.1856]], grad_fn=<SoftmaxBackward>)\n",
      "loss x1 tensor(1.3595, grad_fn=<NllLossBackward>)\n",
      "loss x1-x4 tensor(1.4614, grad_fn=<NllLossBackward>)\n"
     ]
    }
   ],
   "source": [
    "train_set = MyDataSet(all_data['train_data'], all_data['train_label'], transform=torch.as_tensor)\n",
    "small_loader = DataLoader(train_set, batch_size=4)\n",
    "embeds, labels = next(iter(small_loader))\n",
    "model_ = LinearModel(300, 4)\n",
    "preds = F.softmax(model_(embeds), dim=-1)\n",
    "print('softmax x1', preds[:1,:])\n",
    "print('softmax x1-x4', preds)\n",
    "loss4 = F.cross_entropy(preds, labels)\n",
    "# print(labels[0],labels[0], labels[0].dtype)\n",
    "loss1 = F.cross_entropy(preds[:1, :], labels[0].unsqueeze(0))\n",
    "print('loss x1', loss1)\n",
    "print('loss x1-x4', loss4)"
   ]
  },
  {
   "cell_type": "markdown",
   "metadata": {},
   "source": [
    "## Problem-73  (Training with batch size=1)"
   ]
  },
  {
   "cell_type": "code",
   "execution_count": 40,
   "metadata": {},
   "outputs": [],
   "source": [
    "# @torch.no_grad()\n",
    "def get_accuracy(model, split, USE_CUDA):\n",
    "    data = all_data[split + '_data']\n",
    "    labels = all_data[split + '_label']\n",
    "    dataset = MyDataSet(data, labels, transform=torch.as_tensor)\n",
    "    dataloader = DataLoader(dataset, batch_size=len(data), num_workers=0)\n",
    "    features, labels = next(iter(dataloader))\n",
    "    features = features.to(cuda) if USE_CUDA else features\n",
    "    labels = labels.to(cuda) if USE_CUDA else labels\n",
    "    num_correct = get_correct_responses(model, features, labels)\n",
    "    return num_correct/len(labels)\n",
    "    "
   ]
  },
  {
   "cell_type": "code",
   "execution_count": 41,
   "metadata": {},
   "outputs": [],
   "source": [
    "@torch.no_grad()\n",
    "def get_correct_responses(model, features, labels):\n",
    "    preds = model(features)\n",
    "    return_val = F.softmax(preds, dim=-1).argmax(dim=1).eq(labels).sum().item()\n",
    "    return return_val"
   ]
  },
  {
   "cell_type": "code",
   "execution_count": 42,
   "metadata": {},
   "outputs": [],
   "source": [
    "@torch.no_grad()\n",
    "def get_eval_loss(model, split, USE_CUDA, batch_size):\n",
    "    data = all_data[split + '_data']\n",
    "    labels = all_data[split + '_label']\n",
    "    dataset = MyDataSet(data, labels, transform=torch.as_tensor)\n",
    "    dataloader = DataLoader(dataset, batch_size=batch_size, num_workers=0)\n",
    "    num_batches = 0\n",
    "    all_loss = 0\n",
    "    for idx, batch in enumerate(dataloader):\n",
    "        features, labels = batch\n",
    "        features = features.to(cuda) if USE_CUDA else features\n",
    "        labels = labels.to(cuda) if USE_CUDA else labels\n",
    "        out = model(features)\n",
    "        loss = F.cross_entropy(out, labels)\n",
    "        all_loss += loss\n",
    "        num_batches = idx\n",
    "    return all_loss/(num_batches+1)"
   ]
  },
  {
   "cell_type": "code",
   "execution_count": 208,
   "metadata": {},
   "outputs": [],
   "source": [
    "cuda = torch.device('cuda')\n",
    "# model = LinearModel(300, 4)\n",
    "def train_model(model, USE_CUDA, num_epoch, train_set, bsize, l_rate):\n",
    "    train_loader = DataLoader(train_set, batch_size=bsize, num_workers=0)\n",
    "    model = model.to(cuda) if USE_CUDA else model\n",
    "    optimizer = optim.SGD(model.parameters(), lr=l_rate)\n",
    "    train_losses = []\n",
    "    valid_losses = []\n",
    "    train_accs = []\n",
    "    valid_accs = []\n",
    "    for epoch in range(num_epoch):\n",
    "        epoch_loss = 0\n",
    "        num_batches = 0\n",
    "        for idx, batch in enumerate(train_loader):\n",
    "    #         print(idx)\n",
    "            features, labels = batch \n",
    "            features = features.to(cuda) if USE_CUDA else features\n",
    "            labels = labels.to(cuda) if USE_CUDA else labels\n",
    "            out = model(features)\n",
    "            loss = F.cross_entropy(out, labels)\n",
    "            epoch_loss += loss\n",
    "            \n",
    "            #backpropagation\n",
    "            optimizer.zero_grad()\n",
    "            loss.backward()\n",
    "            optimizer.step()\n",
    "            num_batches = idx\n",
    "        train_loss = epoch_loss/(num_batches+1)\n",
    "        valid_loss = get_eval_loss(model, 'valid', USE_CUDA, batch_size)\n",
    "        train_acc = get_accuracy(model, 'train', USE_CUDA)\n",
    "        valid_acc = get_accuracy(model, 'valid', USE_CUDA)\n",
    "        \n",
    "        \n",
    "        train_losses.append(train_loss)\n",
    "        valid_losses.append(valid_loss)\n",
    "        train_accs.append(train_acc)\n",
    "        valid_accs.append(valid_acc)\n",
    "        print(f'epoch: {epoch+1}, training loss = {train_loss}, valid loss = {valid_loss}')\n",
    "        print(f'train accuarcy: {train_acc},  valid accuracy: {valid_acc}')\n",
    "#     plt.show()\n",
    "    return model\n",
    "\n",
    "        \n",
    "# model = train_model(model, False, 1, train_set, 1, 0.01)"
   ]
  },
  {
   "cell_type": "code",
   "execution_count": 204,
   "metadata": {},
   "outputs": [
    {
     "data": {
      "text/plain": [
       "False"
      ]
     },
     "execution_count": 204,
     "metadata": {},
     "output_type": "execute_result"
    }
   ],
   "source": [
    "next(model.parameters()).is_cuda"
   ]
  },
  {
   "cell_type": "code",
   "execution_count": null,
   "metadata": {},
   "outputs": [],
   "source": []
  },
  {
   "cell_type": "markdown",
   "metadata": {},
   "source": [
    "## Problem-74\n",
    "### Calculating the accuracy for all splits"
   ]
  },
  {
   "cell_type": "code",
   "execution_count": 205,
   "metadata": {},
   "outputs": [
    {
     "name": "stdout",
     "output_type": "stream",
     "text": [
      "train_accuracy: 0.855634697798138\n",
      "valid_accuracy: 0.8581831938336407\n",
      "test_accuracy: 0.8532854136618353\n"
     ]
    }
   ],
   "source": [
    "splits = ['train', 'valid', 'test']\n",
    "for i in splits:\n",
    "    print(f'{i}_accuracy: {get_accuracy(model, i, False)}')"
   ]
  },
  {
   "cell_type": "markdown",
   "metadata": {},
   "source": [
    "## Problem 75\n",
    "### plotting the loss and accuracy"
   ]
  },
  {
   "cell_type": "code",
   "execution_count": 61,
   "metadata": {},
   "outputs": [],
   "source": [
    "def train_model(model, USE_CUDA, num_epoch, train_set, bsize, l_rate):\n",
    "    train_loader = DataLoader(train_set, batch_size=bsize, num_workers=0)\n",
    "    model = model.to(cuda) if USE_CUDA else model\n",
    "    optimizer = optim.SGD(model.parameters(), lr=l_rate)\n",
    "    train_losses = []\n",
    "    valid_losses = []\n",
    "    train_accs = []\n",
    "    valid_accs = []\n",
    "    for epoch in range(num_epoch):\n",
    "        epoch_loss = 0\n",
    "        num_batches = 0\n",
    "        for idx, batch in enumerate(train_loader):\n",
    "            features, labels = batch \n",
    "            features = features.to(cuda) if USE_CUDA else features\n",
    "            labels = labels.to(cuda) if USE_CUDA else labels\n",
    "            out = model(features)\n",
    "            loss = F.cross_entropy(out, labels)\n",
    "            epoch_loss += loss\n",
    "            \n",
    "            #backpropagation\n",
    "            optimizer.zero_grad()\n",
    "            loss.backward()\n",
    "            optimizer.step()\n",
    "            num_batches = idx\n",
    "        train_loss = epoch_loss/(num_batches+1)\n",
    "        valid_loss = get_eval_loss(model, 'valid', USE_CUDA, bsize)\n",
    "        train_acc = get_accuracy(model, 'train', USE_CUDA)\n",
    "        valid_acc = get_accuracy(model, 'valid', USE_CUDA)\n",
    "        \n",
    "        \n",
    "        train_losses.append(train_loss)\n",
    "        valid_losses.append(valid_loss)\n",
    "        train_accs.append(train_acc)\n",
    "        valid_accs.append(valid_acc)\n",
    "        print(f'epoch: {epoch+1}, training loss = {train_loss}, valid loss = {valid_loss}')\n",
    "        print(f'train accuarcy: {train_acc},  valid accuracy: {valid_acc}')\n",
    "    \n",
    "    #plotting loss and accuarcy\n",
    "    plt.figure(figsize=(10, 4))\n",
    "    plt.title('Avg batch loss per epoch')\n",
    "    plt.plot(range(len(train_losses)), train_losses, label='training loss')\n",
    "    plt.plot(range(len(valid_losses)), valid_losses, label='valid loss')\n",
    "    plt.legend()\n",
    "    \n",
    "    plt.figure(figsize=(10, 4))\n",
    "    plt.title('Accuracy after each epoch')\n",
    "    plt.plot(range(len(train_accs)), train_accs, label='training acc.')\n",
    "    plt.plot(range(len(valid_accs)), valid_accs, label='valid acc.')\n",
    "    plt.legend()\n",
    "    return model\n",
    "\n",
    "\n",
    "\n"
   ]
  },
  {
   "cell_type": "code",
   "execution_count": null,
   "metadata": {},
   "outputs": [],
   "source": [
    "model = LinearModel(300, 4)\n",
    "model = train_model(model, False, 3, train_set, 1, 0.001)"
   ]
  },
  {
   "cell_type": "markdown",
   "metadata": {},
   "source": [
    "## Problem 76\n",
    "### saving checkpoints of a model"
   ]
  },
  {
   "cell_type": "code",
   "execution_count": 62,
   "metadata": {},
   "outputs": [],
   "source": [
    "def train_model_save_checkpoint(model, USE_CUDA, num_epoch, train_set, bsize, l_rate):\n",
    "    train_loader = DataLoader(train_set, batch_size=bsize, num_workers=0)\n",
    "    model = model.to(cuda) if USE_CUDA else model\n",
    "    optimizer = optim.SGD(model.parameters(), lr=l_rate)\n",
    "    train_losses = []\n",
    "    valid_losses = []\n",
    "    train_accs = []\n",
    "    valid_accs = []\n",
    "    for epoch in range(num_epoch):\n",
    "        epoch_loss = 0\n",
    "        num_batches = 0\n",
    "        for idx, batch in enumerate(train_loader):\n",
    "            features, labels = batch \n",
    "            features = features.to(cuda) if USE_CUDA else features\n",
    "            labels = labels.to(cuda) if USE_CUDA else labels\n",
    "            out = model(features)\n",
    "            loss = F.cross_entropy(out, labels)\n",
    "            epoch_loss += loss\n",
    "            \n",
    "            #backpropagation\n",
    "            optimizer.zero_grad()\n",
    "            loss.backward()\n",
    "            optimizer.step()\n",
    "            num_batches = idx\n",
    "        train_loss = epoch_loss/(num_batches+1)\n",
    "        valid_loss = get_eval_loss(model, 'valid', USE_CUDA, bsize)\n",
    "        train_acc = get_accuracy(model, 'train', USE_CUDA)\n",
    "        valid_acc = get_accuracy(model, 'valid', USE_CUDA)\n",
    "        \n",
    "        \n",
    "        train_losses.append(train_loss)\n",
    "        valid_losses.append(valid_loss)\n",
    "        train_accs.append(train_acc)\n",
    "        valid_accs.append(valid_acc)\n",
    "        print(f'epoch: {epoch+1}, training loss = {train_loss}, valid loss = {valid_loss}')\n",
    "        print(f'train accuarcy: {train_acc},  valid accuracy: {valid_acc}')\n",
    "        # saving checkpoints during the training\n",
    "        torch.save({'epoch': epoch + 1, 'model_state_dict': model.state_dict(), \\\n",
    "                    'optimizer_state_dict': optimizer.state_dict()}, f'checkpoint{epoch + 1}.pt')\n",
    "    plt.figure(figsize=(10, 4))\n",
    "    plt.title('Avg batch loss per epoch')\n",
    "    plt.plot(range(len(train_losses)), train_losses, label='training loss')\n",
    "    plt.plot(range(len(valid_losses)), valid_losses, label='valid loss')\n",
    "    plt.legend()\n",
    "    \n",
    "    plt.figure(figsize=(10, 4))\n",
    "    plt.title('Accuracy after each epoch')\n",
    "    plt.plot(range(len(train_accs)), train_accs, label='training acc.')\n",
    "    plt.plot(range(len(valid_accs)), valid_accs, label='valid acc.')\n",
    "    plt.legend()\n",
    "    return model"
   ]
  },
  {
   "cell_type": "code",
   "execution_count": 218,
   "metadata": {},
   "outputs": [
    {
     "name": "stdout",
     "output_type": "stream",
     "text": [
      "epoch: 1, training loss = 0.5173352956771851, valid loss = 0.44438406825065613\n",
      "train accuarcy: 0.8418176444510123,  valid accuracy: 0.8428855156759824\n",
      "epoch: 2, training loss = 0.43340742588043213, valid loss = 0.42277514934539795\n",
      "train accuarcy: 0.8483493423969263,  valid accuracy: 0.8500732964486688\n",
      "epoch: 3, training loss = 0.4201960861682892, valid loss = 0.4141823351383209\n",
      "train accuarcy: 0.8511245751440816,  valid accuracy: 0.8531943065210196\n"
     ]
    },
    {
     "data": {
      "image/png": "[encoded data removed]",
      "text/plain": [
       "<Figure size 720x288 with 1 Axes>"
      ]
     },
     "metadata": {
      "needs_background": "light"
     },
     "output_type": "display_data"
    },
    {
     "data": {
      "image/png": "[encoded data removed]",
      "text/plain": [
       "<Figure size 720x288 with 1 Axes>"
      ]
     },
     "metadata": {
      "needs_background": "light"
     },
     "output_type": "display_data"
    }
   ],
   "source": [
    "model = LinearModel(300, 4)\n",
    "model = train_model_save_checkpoint(model, False, 3, train_set, 1, 0.0001)"
   ]
  },
  {
   "cell_type": "markdown",
   "metadata": {},
   "source": [
    "## Problem 77\n",
    "### training with different batch sizes"
   ]
  },
  {
   "cell_type": "code",
   "execution_count": 48,
   "metadata": {},
   "outputs": [],
   "source": [
    "cuda = torch.device('cuda')\n",
    "def train_model_single_epoch(model, USE_CUDA, train_set, bsize, l_rate):\n",
    "    import time\n",
    "    train_loader = DataLoader(train_set, batch_size=bsize, num_workers=1)\n",
    "    model = model.to(cuda) if USE_CUDA else model\n",
    "    optimizer = optim.SGD(model.parameters(), lr=l_rate)\n",
    "    epoch_loss = 0\n",
    "    num_batches = 0\n",
    "    start_time = time.time()\n",
    "    for idx, batch in enumerate(train_loader):\n",
    "        if idx and idx%100000==0:\n",
    "            print(idx)\n",
    "        features, labels = batch \n",
    "        features = features.to(cuda) if USE_CUDA else features\n",
    "        labels = labels.to(cuda) if USE_CUDA else labels\n",
    "        out = model(features)\n",
    "        loss = F.cross_entropy(out, labels)\n",
    "        epoch_loss += loss\n",
    "\n",
    "        #backpropagation\n",
    "        optimizer.zero_grad()\n",
    "        loss.backward()\n",
    "        optimizer.step()\n",
    "        num_batches = idx\n",
    "    train_loss = epoch_loss/(num_batches+1)\n",
    "    valid_loss = get_eval_loss(model, 'valid', USE_CUDA, bsize)\n",
    "    train_acc = get_accuracy(model, 'train', USE_CUDA)\n",
    "    valid_acc = get_accuracy(model, 'valid', USE_CUDA)\n",
    "    print(f'training loss = {train_loss}, valid loss = {valid_loss}')\n",
    "    print(f'train accuarcy: {train_acc},  valid accuracy: {valid_acc}')\n",
    "    print(f'time for training 1 epoch; {time.time() - start_time}')\n",
    "    print()\n",
    "    return train_loss, valid_loss, train_acc, valid_acc"
   ]
  },
  {
   "cell_type": "code",
   "execution_count": 46,
   "metadata": {},
   "outputs": [
    {
     "name": "stdout",
     "output_type": "stream",
     "text": [
      "batch_size: 1\n",
      "100000\n",
      "200000\n",
      "300000\n",
      "training loss = 0.42851144075393677, valid loss = 0.404374361038208\n",
      "train accuarcy: 0.8538052312693956,  valid accuracy: 0.8565281127346669\n",
      "time for training 1 epoch; 423.7133972644806\n",
      "\n",
      "batch_size: 2\n",
      "100000\n",
      "training loss = 0.4416731595993042, valid loss = 0.40841177105903625\n",
      "train accuarcy: 0.8527176001182207,  valid accuracy: 0.8551094717926893\n",
      "time for training 1 epoch; 207.04342699050903\n",
      "\n",
      "batch_size: 4\n",
      "training loss = 0.46582406759262085, valid loss = 0.41833382844924927\n",
      "train accuarcy: 0.8497059258164622,  valid accuracy: 0.8519884617203386\n",
      "time for training 1 epoch; 111.71878838539124\n",
      "\n",
      "batch_size: 8\n",
      "training loss = 0.5013200640678406, valid loss = 0.4363898038864136\n",
      "train accuarcy: 0.8441022609723658,  valid accuracy: 0.8454390693715421\n",
      "time for training 1 epoch; 60.26902985572815\n",
      "\n",
      "batch_size: 16\n",
      "training loss = 0.5543324947357178, valid loss = 0.46507400274276733\n",
      "train accuarcy: 0.8362051130486183,  valid accuracy: 0.8374946800964675\n",
      "time for training 1 epoch; 42.72358417510986\n",
      "\n",
      "batch_size: 32\n",
      "training loss = 0.6284297704696655, valid loss = 0.5061259269714355\n",
      "train accuarcy: 0.8255563765331757,  valid accuracy: 0.8261691965763466\n",
      "time for training 1 epoch; 26.965633392333984\n",
      "\n"
     ]
    }
   ],
   "source": [
    "#train with different batch sizes\n",
    "for i in range(6):\n",
    "    print(f'batch_size: {2**i}')\n",
    "    model = LinearModel(300, 4)\n",
    "    train_loss, valid_loss, train_acc, valid_acc = train_model_single_epoch(model, False, train_set, 2**i, 0.001)"
   ]
  },
  {
   "cell_type": "markdown",
   "metadata": {},
   "source": [
    "## Problem 78\n",
    "### training with a gpu"
   ]
  },
  {
   "cell_type": "code",
   "execution_count": 49,
   "metadata": {},
   "outputs": [
    {
     "name": "stdout",
     "output_type": "stream",
     "text": [
      "batch_size: 1\n",
      "100000\n",
      "200000\n",
      "300000\n",
      "training loss = 0.42889371514320374, valid loss = 0.40440160036087036\n",
      "train accuarcy: 0.8539323186049949,  valid accuracy: 0.8567409088759635\n",
      "time for training 1 epoch; 461.7187411785126\n",
      "\n",
      "batch_size: 2\n",
      "100000\n",
      "training loss = 0.4423905909061432, valid loss = 0.40812355279922485\n",
      "train accuarcy: 0.8527471553125462,  valid accuracy: 0.8552276918711874\n",
      "time for training 1 epoch; 231.90143990516663\n",
      "\n",
      "batch_size: 4\n",
      "training loss = 0.46661293506622314, valid loss = 0.4186004400253296\n",
      "train accuarcy: 0.850022166395744,  valid accuracy: 0.8515155814063461\n",
      "time for training 1 epoch; 120.69118928909302\n",
      "\n",
      "batch_size: 8\n",
      "training loss = 0.5054785013198853, valid loss = 0.4366382658481598\n",
      "train accuarcy: 0.8434579577360721,  valid accuracy: 0.8446115288220551\n",
      "time for training 1 epoch; 62.307459592819214\n",
      "\n",
      "batch_size: 16\n",
      "training loss = 0.553540050983429, valid loss = 0.4646625220775604\n",
      "train accuarcy: 0.8366070636914438,  valid accuracy: 0.8369272237196765\n",
      "time for training 1 epoch; 34.45331048965454\n",
      "\n",
      "batch_size: 32\n",
      "training loss = 0.6301286220550537, valid loss = 0.5072380304336548\n",
      "train accuarcy: 0.8249120732968819,  valid accuracy: 0.825128859885563\n",
      "time for training 1 epoch; 21.507965803146362\n",
      "\n"
     ]
    }
   ],
   "source": [
    "#train with different batch sizes\n",
    "for i in range(6):\n",
    "    print(f'batch_size: {2**i}')\n",
    "    model = LinearModel(300, 4)\n",
    "    #set the USE_CUDA parameter to True to train with GPU\n",
    "    train_loss, valid_loss, train_acc, valid_acc = train_model_single_epoch(model, True, train_set, 2**i, 0.001)"
   ]
  },
  {
   "cell_type": "markdown",
   "metadata": {},
   "source": [
    "## Problem 79\n",
    "### Training multi-layer network"
   ]
  },
  {
   "cell_type": "code",
   "execution_count": 63,
   "metadata": {},
   "outputs": [],
   "source": [
    "class MultiLayerModel(nn.Module):\n",
    "    def __init__(self, input_size, output_size):\n",
    "        super(MultiLayerModel, self).__init__()\n",
    "        self.linear1 = nn.Linear(input_size, 120)\n",
    "        self.linear2 = nn.Linear(120, output_size)\n",
    "            \n",
    "    def forward(self, x):\n",
    "        x = self.linear1(x)\n",
    "        x = F.relu(x)\n",
    "        x = self.linear2(x)\n",
    "#         x = F.softmax(x, dim=-1)\n",
    "        return x"
   ]
  },
  {
   "cell_type": "code",
   "execution_count": null,
   "metadata": {},
   "outputs": [
    {
     "name": "stdout",
     "output_type": "stream",
     "text": [
      "epoch: 1, training loss = 0.14284013211727142, valid loss = 0.22224050760269165\n",
      "train accuarcy: 0.9524782030441851,  valid accuracy: 0.9262306710171656\n",
      "epoch: 2, training loss = 0.14244724810123444, valid loss = 0.22218556702136993\n",
      "train accuarcy: 0.952555046549431,  valid accuracy: 0.9264198231427626\n",
      "epoch: 3, training loss = 0.1422707587480545, valid loss = 0.2221551239490509\n",
      "train accuarcy: 0.9526348455741096,  valid accuracy: 0.9264198231427626\n",
      "epoch: 4, training loss = 0.14215311408042908, valid loss = 0.22213318943977356\n",
      "train accuarcy: 0.9527589773902764,  valid accuracy: 0.9265616872369603\n"
     ]
    }
   ],
   "source": [
    "# model = MultiLayerModel(300, 4)\n",
    "train_model(model, True, 5, train_set, 16, 0.0001)"
   ]
  },
  {
   "cell_type": "code",
   "execution_count": null,
   "metadata": {},
   "outputs": [],
   "source": []
  }
 ],
 "metadata": {
  "kernelspec": {
   "display_name": "Python 3",
   "language": "python",
   "name": "python3"
  },
  "language_info": {
   "codemirror_mode": {
    "name": "ipython",
    "version": 3
   },
   "file_extension": ".py",
   "mimetype": "text/x-python",
   "name": "python",
   "nbconvert_exporter": "python",
   "pygments_lexer": "ipython3",
   "version": "3.8.3"
  }
 },
 "nbformat": 4,
 "nbformat_minor": 4
}
