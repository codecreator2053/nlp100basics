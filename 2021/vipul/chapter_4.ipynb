{
 "cells": [
  {
   "cell_type": "markdown",
   "metadata": {},
   "source": [
    "## problem 30"
   ]
  },
  {
   "cell_type": "code",
   "execution_count": 2,
   "metadata": {},
   "outputs": [
    {
     "data": {
      "text/plain": [
       "[{'text': 'ALICE', 'lemma': 'ALICE', 'pos': 'NNP'},\n",
       " {'text': \"'S\", 'lemma': \"'s\", 'pos': 'POS'},\n",
       " {'text': 'ADVENTURES', 'lemma': 'ADVENTURES', 'pos': 'NNP'},\n",
       " {'text': 'IN', 'lemma': 'in', 'pos': 'IN'},\n",
       " {'text': 'WONDERLAND', 'lemma': 'WONDERLAND', 'pos': 'NNP'}]"
      ]
     },
     "execution_count": 2,
     "metadata": {},
     "output_type": "execute_result"
    }
   ],
   "source": [
    "data = None\n",
    "with open('alice/alice.txt.conll') as infile:\n",
    "    data = infile.readlines()\n",
    "\n",
    "tkn_fields = ['text', 'lemma', 'pos']\n",
    "\n",
    "sents = []\n",
    "sent_tokens = []\n",
    "for line in data:\n",
    "    if line.strip()=='':\n",
    "        if len(sent_tokens)>0:\n",
    "            sents.append(sent_tokens)\n",
    "            sent_tokens = []\n",
    "        continue\n",
    "    line_split = line.split('\\t')\n",
    "    token_info = {tkn_fields[i]: line_split[i+1] for i in range(3)}\n",
    "    sent_tokens.append(token_info)\n",
    "\n",
    "sents[0]"
   ]
  },
  {
   "cell_type": "markdown",
   "metadata": {},
   "source": [
    "## problem 31"
   ]
  },
  {
   "cell_type": "code",
   "execution_count": 3,
   "metadata": {},
   "outputs": [
    {
     "name": "stdout",
     "output_type": "stream",
     "text": [
      "['was', 'beginning', 'get', 'sitting', 'having'] 5722\n",
      "['be', 'begin', 'get', 'sit', 'have'] 5722\n"
     ]
    }
   ],
   "source": [
    "verb_pos = ['VB', 'VBD', 'VBG', 'VBN', 'VBP', 'VBZ']\n",
    "verbs_surface = []\n",
    "verbs_lemma = []\n",
    "\n",
    "for sent_tokens in sents:\n",
    "    for token in sent_tokens:\n",
    "        if token['pos'].strip() in verb_pos:\n",
    "            verbs_surface.append(token['text'])\n",
    "            verbs_lemma.append(token['lemma'])\n",
    "            \n",
    "print(verbs_surface[:5], len(verbs_surface))\n",
    "print(verbs_lemma[:5], len(verbs_lemma))"
   ]
  },
  {
   "cell_type": "markdown",
   "metadata": {},
   "source": [
    "## problem 32"
   ]
  },
  {
   "cell_type": "code",
   "execution_count": 4,
   "metadata": {},
   "outputs": [
    {
     "name": "stdout",
     "output_type": "stream",
     "text": [
      "111\n",
      "OUT of ITS\n",
      "plenty of time\n",
      "saucer of milk\n",
      "sort of way\n",
      "heap of sticks\n"
     ]
    }
   ],
   "source": [
    "match_phrases = []\n",
    "noun_pos = ['NN', 'NNP', 'NNPS', 'NNS']\n",
    "for i in range(len(sents)):\n",
    "    for j in range(1, len(sents[i])-1):\n",
    "        if sents[i][j]['lemma'] == 'of':\n",
    "            if not sents[i][j-1]['pos'] in noun_pos:\n",
    "                continue\n",
    "            A = sents[i][j-1]['text']\n",
    "            if not sents[i][j+1]['pos'] in noun_pos:\n",
    "                continue\n",
    "            B = sents[i][j+1]['text']\n",
    "            match_phrases.append([sents[i][j-1], sents[i][j], sents[i][j+1], A + ' of ' + B])\n",
    "\n",
    "print(len(match_phrases))\n",
    "_, _, _, d = zip(*match_phrases)\n",
    "print(*d[:5], sep='\\n')"
   ]
  },
  {
   "cell_type": "code",
   "execution_count": 5,
   "metadata": {},
   "outputs": [],
   "source": [
    "names = ['alice'+str(i) for i in range(10)]\n",
    "ids = ['202105'+str(i) for i in range(10)]\n",
    "grades = [90+i for i in range(10)]"
   ]
  },
  {
   "cell_type": "markdown",
   "metadata": {},
   "source": [
    "## problem 33"
   ]
  },
  {
   "cell_type": "code",
   "execution_count": 6,
   "metadata": {},
   "outputs": [
    {
     "name": "stdout",
     "output_type": "stream",
     "text": [
      "245\n",
      "Lewis Carroll\n",
      "MILLENNIUM FULCRUM\n",
      "FULCRUM EDITION\n",
      "CHAPTER I.\n",
      "White Rabbit\n"
     ]
    },
    {
     "data": {
      "text/plain": [
       "'ITS WAISTCOAT-POCKET'"
      ]
     },
     "execution_count": 6,
     "metadata": {},
     "output_type": "execute_result"
    }
   ],
   "source": [
    "noun_phrases = []\n",
    "longest_phrase = ''\n",
    "length = float('-inf')\n",
    "noun_pos = ['NN', 'NNP', 'NNPS', 'NNS']\n",
    "for i in range(len(sents)):\n",
    "    for j in range(len(sents[i])-1):\n",
    "            if not sents[i][j]['pos'] in noun_pos:\n",
    "                continue\n",
    "            A = sents[i][j]['text']\n",
    "            if not sents[i][j+1]['pos'] in noun_pos:\n",
    "                continue\n",
    "            B = sents[i][j+1]['text']\n",
    "            leng_phrase = len(A)+len(B)\n",
    "            if leng_phrase > length:\n",
    "                length = leng_phrase\n",
    "                longest_phrase = A + ' ' + B\n",
    "            noun_phrases.append([sents[i][j], sents[i][j+1], A + ' ' + B])\n",
    "print(len(noun_phrases))\n",
    "_, _, d = zip(*noun_phrases)\n",
    "print(*d[:5], sep='\\n')\n",
    "longest_phrase"
   ]
  },
  {
   "cell_type": "markdown",
   "metadata": {},
   "source": [
    "## problem 35"
   ]
  },
  {
   "cell_type": "code",
   "execution_count": 7,
   "metadata": {},
   "outputs": [
    {
     "name": "stdout",
     "output_type": "stream",
     "text": [
      "[('the', 1522), ('and', 796), ('to', 721), ('a', 614), ('I', 544), ('it', 527), ('she', 509), ('of', 497), ('said', 456), ('Alice', 395)]\n"
     ]
    }
   ],
   "source": [
    "from collections import Counter\n",
    "punct = [\"''\", ',', '-LRB-', '-RRB-', '.', ':', '``']\n",
    "all_words = []\n",
    "for i in sents:\n",
    "    for j in i:\n",
    "        if j['pos'] not in punct:\n",
    "            all_words.append(j['text'])\n",
    "word_count = Counter(all_words)\n",
    "print(word_count.most_common(10))"
   ]
  },
  {
   "cell_type": "code",
   "execution_count": 8,
   "metadata": {},
   "outputs": [],
   "source": [
    "from collections import defaultdict\n",
    "\n",
    "all_words = []\n",
    "dic_ = defaultdict(int)\n",
    "for i in sents:\n",
    "    for j in i:\n",
    "        if j['pos'] not in punct:\n",
    "            dic_[j['text']] += 1\n",
    "# dic_"
   ]
  },
  {
   "cell_type": "markdown",
   "metadata": {},
   "source": [
    "## problem 36"
   ]
  },
  {
   "cell_type": "code",
   "execution_count": 271,
   "metadata": {},
   "outputs": [
    {
     "name": "stdout",
     "output_type": "stream",
     "text": [
      "Counter({'the': 1522, 'and': 796, 'to': 721, 'a': 614, 'I': 544, 'it': 527, 'she': 509, 'of': 497, 'said': 456, 'Alice': 395, 'was': 363, 'in': 354, 'you': 345, 'that': 275, 'as': 246, 'her': 243, \"n't\": 216, 'at': 202, \"'s\": 194, 'on': 189, 'had': 184, 'with': 176, 'all': 173, 'be': 145, 'for': 140, 'but': 133, 'not': 130, 'they': 129, 'very': 126, 'little': 125, 'so': 124, 'do': 119, 'this': 113, 'out': 112, 'The': 108, 'is': 106, 'he': 101, 'down': 99, 'up': 96, 'about': 94, 'one': 94, 'his': 94, 'what': 93, 'them': 88, 'were': 86, 'know': 86, 'like': 84, 'went': 83, 'again': 83, 'herself': 83, 'could': 82, 'would': 82, 'have': 81, 'if': 78, 'or': 76, 'thought': 74, 'did': 74, 'Queen': 74, 'then': 72, 'no': 69, 'when': 69, 'into': 67, 'And': 67, 'see': 66, 'time': 65, 'there': 65, 'It': 64, 'off': 62, 'me': 61, 'King': 61, '*': 60, 'Turtle': 59, 'began': 58, \"'m\": 57, \"'ll\": 56, 'its': 56, 'Mock': 56, 'my': 55, 'Hatter': 55, 'Gryphon': 55, 'by': 54, 'way': 53, 'quite': 53, 'your': 53, 'an': 52, 'much': 51, 'say': 51, 'You': 51, 'think': 50, 'their': 50, 'head': 50, 'thing': 49, 'some': 48, 'who': 48, 'now': 48, 'go': 47, 'only': 47, 'more': 47, 'voice': 47, 'looked': 45, 'just': 45, 'got': 45, 'get': 44, 'Rabbit': 44, 'are': 44, 'first': 44, \"'ve\": 43, 'What': 42, 'Duchess': 42, 'never': 41, 'must': 41, 'which': 41, 'round': 41, 'over': 40, 'how': 40, 'such': 40, 'came': 40, 'other': 40, 'tone': 40, 'Dormouse': 40, 'here': 39, 'She': 39, 'great': 39, 'any': 39, 'him': 39, \"'re\": 38, 'been': 38, 'well': 37, 'But': 37, 'back': 37, 'before': 36, 'after': 36, 'Oh': 35, 'from': 34, 'March': 34, 'There': 33, 'large': 33, 'should': 32, 'last': 32, 'once': 31, 'moment': 31, 'put': 31, 'long': 31, 'two': 31, 'can': 31, 'Hare': 31, 'nothing': 30, 'made': 30, 'found': 30, 'things': 30, 'door': 30, 'heard': 30, 'Mouse': 30, 'looking': 30, 'eyes': 29, 'right': 29, 'replied': 29, 'dear': 28, 'next': 28, 'might': 28, 'So': 27, 'seemed': 27, 'look': 27, 'going': 27, 'make': 27, 'How': 27, 'Why': 27, 'tell': 27, 'ca': 27, 'That': 27, \"'d\": 27, 'Caterpillar': 27, 'without': 26, 'upon': 26, 'three': 26, 'Cat': 26, 'day': 25, 'too': 25, 'come': 25, 'rather': 25, 'away': 25, 'poor': 25, 'course': 25, 'good': 24, 'soon': 24, 'will': 24, 'wo': 24, 'shall': 23, 'took': 23, 'Well': 23, 'felt': 23, 'than': 23, 'same': 23, 'we': 23, 'added': 23, 'getting': 22, 'White': 22, 'another': 22, 'Do': 22, 'does': 22, 'words': 21, 'wish': 21, 'half': 21, 'find': 21, 'Come': 21, 'minute': 21, 'They': 21, 'yet': 21, 'Then': 21, 'sort': 20, 'No': 20, 'ever': 20, 'while': 20, 'cried': 20, 'sure': 20, 'He': 20, 'feet': 19, 'tried': 19, 'anything': 19, 'hand': 19, 'curious': 19, 'being': 19, 'till': 19, 'use': 18, 'take': 18, 'wonder': 18, 'house': 18, 'enough': 18, 'A': 17, 'even': 17, 'end': 17, 'spoke': 17, 'eat': 17, 'question': 17, 'side': 17, 'table': 17, 'sat': 17, 'As': 17, 'something': 17, 'old': 17, 'This': 17, 'asked': 17, 'jury': 17, 'court': 17, 'ran': 16, 'under': 16, 'talking': 16, 'bit': 16, 'turned': 16, 'garden': 16, 'hastily': 16, 'If': 16, 'Bill': 16, 'seen': 15, 'idea': 15, 'saying': 15, 'high': 15, 'knew': 15, 'indeed': 15, 'face': 15, 'Who': 15, 'am': 15, 'done': 15, 'YOU': 15, 'called': 15, 'beginning': 14, 'hear': 14, 'itself': 14, 'ought': 14, 'saw': 14, 'near': 14, 'air': 14, 'perhaps': 14, 'Dinah': 14, 'remember': 14, 'low': 14, 'trying': 14, 'because': 14, 'left': 14, 'anxiously': 14, 'set': 14, 'talk': 14, 'us': 14, 'better': 14, 'both': 14, 'mad': 14, 'close': 13, 'VERY': 13, 'people': 13, 'through': 13, 'mouse': 13, 'cats': 13, 'behind': 13, 'However': 13, 'For': 13, 'certainly': 13, 'THAT': 13, 'size': 13, 'gave': 13, 'grow': 13, 'speak': 13, 'far': 13, 'kept': 13, 'please': 13, 'used': 13, 'change': 13, 'sea': 13, 'why': 13, 'Dodo': 13, 'whole': 13, 'room': 13, 'gone': 13, 'baby': 13, 'cook': 13, 'tea': 13, 'Soup': 13, 'dance': 13, 'CHAPTER': 12, 'suddenly': 12, 'many': 12, 'still': 12, 'among': 12, 'else': 12, 'afraid': 12, 'Now': 12, 'every': 12, 'begin': 12, 'finished': 12, 'game': 12, 'deal': 12, 'everything': 12, 'try': 12, 'hands': 12, 'suppose': 12, 'always': 12, 'turning': 12, 'Yes': 12, 'arm': 12, 'may': 12, 'Majesty': 12, 'whether': 11, 'hurried': 11, 'In': 11, 'Let': 11, 'glad': 11, 'ask': 11, 'cat': 11, 'really': 11, 'hurry': 11, 'waited': 11, 'minutes': 11, 'hardly': 11, 'makes': 11, 'growing': 11, 'life': 11, 'gloves': 11, 'let': 11, 'these': 11, 'silence': 11, 'Of': 11, 'Here': 11, 'Pigeon': 11, 'Off': 11, 'sitting': 10, 'having': 10, 'own': 10, 'lessons': 10, 'though': 10, 'word': 10, 'name': 10, 'sight': 10, 'walked': 10, 'small': 10, 'opened': 10, 'bottle': 10, 'read': 10, 'children': 10, 'best': 10, 'tears': 10, 'child': 10, 'yourself': 10, 'pool': 10, 'fan': 10, 'queer': 10, 'thinking': 10, 'oh': 10, 'nearly': 10, 'offended': 10, 'We': 10, 'When': 10, 'creatures': 10, 'rest': 10, 'trial': 10, 'mean': 10, 'mouth': 10, 'where': 10, 'repeated': 10, 'remarked': 10, 'remark': 10, 'soldiers': 10, 'witness': 10, 'sister': 9, 'mind': 9, 'either': 9, 'Would': 9, 'heads': 9, 'answer': 9, 'matter': 9, 'hall': 9, 'glass': 9, 'key': 9, 'rate': 9, 'those': 9, 'few': 9, 'against': 9, 'want': 9, 'give': 9, 'help': 9, 'different': 9, 'tail': 9, 'foot': 9, 'Not': 9, 'conversation': 9, 'birds': 9, 'At': 9, 'continued': 9, 'believe': 9, 'IS': 9, 'angrily': 9, 'shook': 9, 'least': 9, 'reason': 9, 'together': 9, 'shouted': 9, 'keep': 9, 'timidly': 9, 'puzzled': 9, 'interrupted': 9, 'Knave': 9, 'join': 9, 'THE': 8, 'feel': 8, 'making': 8, 'slowly': 8, 'happen': 8, 'coming': 8, 'noticed': 8, 'top': 8, 'Which': 8, 'opportunity': 8, 'distance': 8, 'seem': 8, 'dry': 8, 'waiting': 8, 'fact': 8, 'followed': 8, 'lying': 8, 'work': 8, 'white': 8, 'ready': 8, 'hard': 8, 'changed': 8, 'live': 8, 'play': 8, 'eagerly': 8, 'party': 8, 'meaning': 8, 'explain': 8, 'running': 8, 'has': 8, 'window': 8, 'place': 8, 'appeared': 8, 'wood': 8, 'mushroom': 8, 'most': 8, 'nose': 8, 'beautiful': 8, 'Footman': 8, 'asleep': 8, 'gardeners': 8, 'moral': 8, 'whiting': 8, 'slates': 8, \"'S\": 7, 'tired': 7, 'book': 7, 'watch': 7, 'world': 7, 'deep': 7, 'First': 7, 'fall': 7, 'listen': 7, 'fancy': 7, 'manage': 7, 'begun': 7, 'dream': 7, 'middle': 7, 'wondering': 7, 'golden': 7, 'open': 7, 'larger': 7, 'bright': 7, 'happened': 7, 'neck': 7, 'ME': 7, 'NOT': 7, 'feeling': 7, 'however': 7, 'leave': 7, 'generally': 7, 'eye': 7, 'surprised': 7, 'kind': 7, 'Just': 7, 'hair': 7, 'goes': 7, 'learn': 7, 'frightened': 7, 'chin': 7, 'history': 7, 'beg': 7, 'our': 7, 'Lory': 7, 'important': 7, 'story': 7, 'others': 7, 'YOUR': 7, 'stood': 7, 'grown': 7, 'business': 7, 'trees': 7, 'puppy': 7, 'each': 7, 'turn': 7, 'draw': 7, 'silent': 7, 'Cheshire': 7, 'pleased': 7, 'song': 7, 'Five': 7, 'hedgehog': 7, 'lobsters': 7, 'Soo': 7, 'oop': 7, 'trouble': 6, 'late': 6, 'fell': 6, 'four': 6, 'nice': 6, 'written': 6, 'leaves': 6, 'jumped': 6, 'roof': 6, 'inches': 6, 'along': 6, 'marked': 6, 'hold': 6, 'forgotten': 6, 'almost': 6, 'After': 6, 'croquet': 6, 'English': 6, 'shoes': 6, 'myself': 6, 'nonsense': 6, 'himself': 6, 'sir': 6, 'mine': 6, 'times': 6, 'repeat': 6, 'grin': 6, 'understand': 6, 'William': 6, 'pardon': 6, 'trembling': 6, 'subject': 6, 'fetch': 6, 'sit': 6, 'politely': 6, 'WHAT': 6, 'melancholy': 6, 'One': 6, 'liked': 6, 'executed': 6, 'ARE': 6, 'broken': 6, 'chimney': 6, 'full': 6, 'Will': 6, 'loud': 6, 'sharp': 6, 'Lizard': 6, 'arms': 6, 'youth': 6, 'serpent': 6, 'sleep': 6, 'sneezing': 6, 'told': 6, 'ear': 6, 'pig': 6, 'dreadfully': 6, 'Two': 6, 'Hearts': 6, 'exclaimed': 6, 'bread-and-butter': 6, 'executioner': 6, 'e': 6, 'tarts': 6, 'evidence': 6, 'twice': 5, 'hot': 5, 'sleepy': 5, 'stupid': 5, 'across': 5, 'curiosity': 5, 'passed': 5, 'somebody': 5, 'home': 5, 'likely': 5, 'aloud': 5, 'walk': 5, 'Please': 5, 'asking': 5, 'sometimes': 5, 'walking': 5, 'ears': 5, 'sadly': 5, 'shut': 5, 'WOULD': 5, 'simple': 5, 'cut': 5, 'finger': 5, 'ten': 5, 'nervous': 5, 'altogether': 5, 'remembered': 5, 'happens': 5, 'sha': 5, 'pair': 5, 'nine': 5, 'until': 5, 'kid': 5, 'dropped': 5, 'usual': 5, 'morning': 5, 'Ah': 5, 'SHE': 5, 'wrong': 5, 'sounded': 5, 'strange': 5, 'seems': 5, 'stay': 5, 'Tell': 5, 'sudden': 5, 'case': 5, 'swam': 5, 'nearer': 5, 'speaking': 5, 'sentence': 5, 'shrill': 5, 'angry': 5, 'crowded': 5, 'means': 5, 'notice': 5, 'pocket': 5, 'exactly': 5, 'dare': 5, 'confusion': 5, 'call': 5, 'reply': 5, 'finish': 5, 'impatiently': 5, 'sighed': 5, 'temper': 5, 'young': 5, 'nobody': 5, 'moved': 5, 'Where': 5, 'Very': 5, 'doing': 5, 'direction': 5, 'stop': 5, 'interesting': 5, 'become': 5, 'write': 5, 'taking': 5, 'shriek': 5, 'An': 5, 'drew': 5, 'instantly': 5, 'surprise': 5, 'height': 5, 'quietly': 5, 'hookah': 5, 'man': 5, 'stand': 5, 'often': 5, 'eggs': 5, 'tree': 5, 'ground': 5, 'between': 5, 'pepper': 5, 'While': 5, 'everybody': 5, 'meant': 5, 'waving': 5, 'All': 5, 'sing': 5, 'twinkle': 5, 'piece': 5, 'Seven': 5, 'faces': 5, 'procession': 5, 'pack': 5, 'knee': 5, 'whispered': 5, 'flamingo': 5, 'school': 5, 'Lobster': 5, 'Beautiful': 5, 'evening': 5, 'pictures': 4, 'worth': 4, 'natural': 4, 'sides': 4, 'fear': 4, 'managed': 4, 'fallen': 4, 'earth': 4, 'several': 4, 'WAS': 4, 'sound': 4, 'girl': 4, 'mice': 4, 'bats': 4, 'passage': 4, 'corner': 4, 'except': 4, 'tiny': 4, 'second': 4, 'led': 4, 'shoulders': 4, 'paper': 4, 'taught': 4, 'deeply': 4, 'drink': 4, 'ventured': 4, 'reach': 4, 'sharply': 4, 'severely': 4, 'box': 4, 'fond': 4, 'ONE': 4, 'person': 4, 'care': 4, '_': 4, 'new': 4, 'savage': 4, 'violently': 4, 'age': 4, 'Mabel': 4, 'puzzling': 4, 'twelve': 4, 'capital': 4, 'On': 4, 'With': 4, 'alone': 4, 'CAN': 4, 'shrinking': 4, 'escape': 4, 'water': 4, 'number': 4, 'French': 4, 'paws': 4, 'Are': 4, 'says': 4, 'pale': 4, 'animals': 4, 'uncomfortable': 4, 'argument': 4, 'wanted': 4, 'frowning': 4, 'IT': 4, 'solemnly': 4, 'pointing': 4, 'confused': 4, 'thimble': 4, 'short': 4, 'bowed': 4, 'Said': 4, 'judge': 4, 'breath': 4, 'Hold': 4, 'tongue': 4, 'particular': 4, 'since': 4, 'vanished': 4, 'Mary': 4, 'Ann': 4, 'chance': 4, 'ordered': 4, 'answered': 4, 'Sure': 4, 'yer': 4, 'honour': 4, 'THIS': 4, 'COULD': 4, 'hearing': 4, 'fellow': 4, 'dead': 4, 'doubt': 4, 'lay': 4, 'crowd': 4, 'held': 4, 'guinea-pigs': 4, 'plan': 4, 'difficulty': 4, 'stick': 4, 'grass': 4, 'perfectly': 4, 'none': 4, 'questions': 4, 'decidedly': 4, 'thoughtfully': 4, 'green': 4, 'HAVE': 4, 'screamed': 4, 'indignantly': 4, 'taken': 4, 'sky': 4, 'lives': 4, 'otherwise': 4, 'fish': 4, 'dish': 4, 'days': 4, 'kitchen': 4, 'soup': 4, 'jumping': 4, 'carried': 4, 'hours': 4, 'busily': 4, 'beat': 4, 'wow': 4, 'verse': 4, 'creature': 4, 'grunted': 4, 'Call': 4, 'fast': 4, 'crumbs': 4, 'shoulder': 4, 'twinkling': 4, 'HE': 4, 'sigh': 4, 'bottom': 4, 'Take': 4, 'begins': 4, 'rule': 4, 'arches': 4, 'players': 4, 'ALL': 4, 'Never': 4, 'hers': 4, 'Quadrille': 4, 'sobs': 4, 'porpoise': 4, 'mouths': 4, 'adventures': 4, 'Beau': 4, 'ootiful': 4, 'jury-box': 4, 'jurors': 4, 'writing': 4, 'verdict': 4, 'officers': 4, 'suppressed': 4, 'jurymen': 4, 'Nothing': 4, 'verses': 4, 'ALICE': 3, 'Down': 3, 'bank': 3, 'peeped': 3, 'reading': 3, 'considering': 3, 'OF': 3, 'rabbit-hole': 3, 'dark': 3, 'filled': 3, \"'\": 3, 'stairs': 3, 'true': 3, 'miles': 3, 'knowledge': 3, 'grand': 3, 'funny': 3, 'listening': 3, 'hope': 3, 'catch': 3, 'bat': 3, 'hurt': 3, 'lost': 3, 'whiskers': 3, 'longer': 3, 'hanging': 3, 'alas': 3, 'delight': 3, 'telescope': 3, 'out-of-the-way': 3, 'impossible': 3, 'hoping': 3, 'rules': 3, 'poison': 3, 'certain': 3, 'later': 3, 'finding': 3, 'further': 3, 'candle': 3, 'decided': 3, 'possibly': 3, 'legs': 3, 'cake': 3, 'smaller': 3, 'holding': 3, 'remained': 3, 'expecting': 3, 'dull': 3, 'opening': 3, 'dears': 3, 'directions': 3, 'cry': 3, 'pattering': 3, 'muttering': 3, 'timid': 3, 'to-day': 3, 'yesterday': 3, 'night': 3, 'sorts': 3, 'crossed': 3, 'hoarse': 3, 'spread': 3, 'gently': 3, 'putting': 3, 'guess': 3, 'cause': 3, 'worse': 3, 'slipped': 3, 'Her': 3, 'general': 3, 'WILL': 3, 'O': 3, 'Perhaps': 3, 'notion': 3, 'show': 3, 'fire': 3, 'nurse': 3, 'dogs': 3, 'dog': 3, 'throw': 3, 'passion': 3, 'shore': 3, 'Duck': 3, 'Eaglet': 3, 'fur': 3, 'sulky': 3, 'Silence': 3, 'Did': 3, 'crown': 3, 'move': 3, 'pressed': 3, 'prizes': 3, 'chorus': 3, 'voices': 3, 'handed': 3, 'gravely': 3, 'Only': 3, 'speech': 3, 'cheered': 3, 'grave': 3, 'simply': 3, 'solemn': 3, 'noise': 3, 'choked': 3, 'whisper': 3, 'sad': 3, 'tale': 3, 'sighing': 3, 'met': 3, 'attending': 3, 'pleaded': 3, 'easily': 3, 'joined': 3, 'pity': 3, 'venture': 3, 'carefully': 3, 'remarking': 3, 'suit': 3, 'mentioned': 3, 'Nobody': 3, 'guessed': 3, 'hunting': 3, 'swim': 3, 'mistake': 3, 'plate': 3, 'knocking': 3, 'real': 3, 'Miss': 3, 'By': 3, 'floor': 3, 'effect': 3, 'elbow': 3, 'outside': 3, 'stopped': 3, 'forgetting': 3, 'crash': 3, 'Pat': 3, 'sounds': 3, \"'em\": 3, 'slate': 3, 'below': 3, 'master': 3, 'THINK': 3, 'kick': 3, 'above': 3, 'sense': 3, 'moving': 3, 'cakes': 3, 'paw': 3, 'hungry': 3, 'picked': 3, 'run': 3, 'edge': 3, 'immediately': 3, 'folded': 3, 'present': 3, 'confusing': 3, 'brought': 3, 'remarks': 3, 'Is': 3, 'Yet': 3, 'Pray': 3, 'stuff': 3, 'free': 3, 'shaking': 3, 'succeeded': 3, 'Serpent': 3, 'serpents': 3, 'girls': 3, 'tasted': 3, 'settled': 3, 'pieces': 3, 'nibbling': 3, 'bringing': 3, 'footman': 3, 'livery': 3, 'considered': 3, 'loudly': 3, 'letter': 3, 'order': 3, 'staring': 3, 'howling': 3, 'instance': 3, 'repeating': 3, 'nursing': 3, 'courage': 3, 'grinned': 3, 'growl': 3, 'faster': 3, 'advantage': 3, 'boy': 3, 'tossing': 3, 'caught': 3, 'proper': 3, 'sobbing': 3, 'less': 3, 'instead': 3, 'Have': 3, 'civil': 3, 'fun': 3, 'Exactly': 3, 'breathe': 3, 'butter': 3, \"o'clock\": 3, 'Time': 3, 'HIM': 3, 'cautiously': 3, 'music': 3, 'Twinkle': 3, 'fly': 3, 'lady': 3, 'Once': 3, 'lived': 3, 'treacle': 3, 'upset': 3, 'M': 3, 'muchness': 3, 'rose-tree': 3, 'roses': 3, 'beheaded': 3, 'watching': 3, 'checked': 3, 'themselves': 3, 'eager': 3, 'guests': 3, 'AND': 3, 'besides': 3, 'My': 3, 'cards': 3, 'need': 3, 'Consider': 3, 'Turn': 3, 'unfortunate': 3, 'execution': 3, 'hedgehogs': 3, 'tucked': 3, 'turns': 3, 'alive': 3, 'friend': 3, 'anxious': 3, 'Thank': 3, 'MUST': 3, 'Tortoise': 3, 'week': 3, 'advance': 3, 'figure': 3, 'toes': 3, 'mark': 3, 'snail': 3, 'tails': 3, 'obliged': 3, 'follows': 3, 'around': 3, 'Go': 3, 'Owl': 3, 'Panther': 3, 'trumpet': 3, 'spectacles': 3, 'teacup': 3, 'wrote': 3, 'Give': 3, 'list': 3, 'unimportant': 3, 'TO': 3, 'IN': 2, 'conversations': 2, 'pleasure': 2, 'picking': 2, 'remarkable': 2, 'nor': 2, 'afterwards': 2, 'occurred': 2, 'started': 2, 'rabbit': 2, 'hedge': 2, 'straight': 2, 'dipped': 2, 'falling': 2, 'cupboards': 2, 'jar': 2, 'tumbling': 2, 'NEVER': 2, 'somewhere': 2, 'thousand': 2, 'learnt': 2, 'showing': 2, 'Latitude': 2, 'Longitude': 2, 'Presently': 2, 'tea-time': 2, 'earnestly': 2, 'thump': 2, 'wind': 2, 'row': 2, 'doors': 2, 'three-legged': 2, 'locks': 2, 'longed': 2, 'flowers': 2, 'cool': 2, 'fountains': 2, 'shutting': 2, 'label': 2, 'DRINK': 2, 'beautifully': 2, 'wise': 2, 'wild': 2, 'beasts': 2, 'unpleasant': 2, 'friends': 2, 'burn': 2, 'knife': 2, 'usually': 2, 'sooner': 2, 'taste': 2, 'mixed': 2, 'brightened': 2, 'lovely': 2, 'crying': 2, 'bring': 2, 'playing': 2, 'forgot': 2, 'boots': 2, 'sending': 2, 'presents': 2, 'struck': 2, 'Poor': 2, 'ashamed': 2, 'trotting': 2, 'ringlets': 2, 'knows': 2, 'six': 2, 'Paris': 2, 'Rome': 2, 'doth': 2, 'lap': 2, 'neatly': 2, 'claws': 2, 'smiling': 2, 'jaws': 2, 'rapidly': 2, 'narrow': 2, 'declare': 2, 'bad': 2, 'salt': 2, 'railway': 2, 'conclusion': 2, 'wherever': 2, 'digging': 2, 'splashing': 2, 'Everything': 2, 'swimming': 2, 'wink': 2, 'Conqueror': 2, 'clear': 2, 'ago': 2, 'fright': 2, 'animal': 2, 'feelings': 2, 'quiet': 2, 'purring': 2, 'nicely': 2, 'washing': 2, 'catching': 2, 'brown': 2, 'dinner': 2, 'belongs': 2, 'useful': 2, 'sorrowful': 2, 'hate': 2, 'assembled': 2, 'wet': 2, 'older': 2, 'allow': 2, 'knowing': 2, 'authority': 2, 'ring': 2, 'whose': 2, 'Edwin': 2, 'Morcar': 2, 'earls': 2, 'Mercia': 2, 'Northumbria': 2, 'Ugh': 2, 'proceed': 2, 'archbishop': 2, 'advisable': 2, 'Found': 2, 'frog': 2, 'hurriedly': 2, 'meet': 2, 'offer': 2, 'Speak': 2, 'smile': 2, 'Caucus-race': 2, 'easy': 2, 'race': 2, 'hour': 2, 'panting': 2, 'won': 2, 'forehead': 2, 'position': 2, 'Prizes': 2, 'comfits': 2, 'absurd': 2, 'caused': 2, 'Fury': 2, 'law': 2, 'wasting': 2, 'humbly': 2, 'bend': 2, 'knot': 2, 'Crab': 2, 'bird': 2, 'sensation': 2, 'Some': 2, 'throat': 2, 'lonely': 2, 'footsteps': 2, 'ferrets': 2, 'nowhere': 2, 'messages': 2, 'directly': 2, 'ordering': 2, 'drunk': 2, 'stoop': 2, 'curled': 2, 'whatever': 2, 'unhappy': 2, 'fancied': 2, 'woman': 2, 'trembled': 2, 'proved': 2, 'snatch': 2, 'concluded': 2, 'Next': 2, 'Digging': 2, 'apples': 2, 'goose': 2, 'TWO': 2, 'bear': 2, 'Mind': 2, 'feeble': 2, 'squeaking': 2, 'comes': 2, 'barrowful': 2, 'shower': 2, 'pebbles': 2, 'rattling': 2, 'hit': 2, 'delighted': 2, 'giving': 2, 'rush': 2, 'safe': 2, 'wandered': 2, 'excellent': 2, 'smallest': 2, 'bark': 2, 'coaxing': 2, 'thistle': 2, 'stretched': 2, 'tiptoe': 2, 'smoking': 2, 'addressed': 2, 'encouraging': 2, 'Explain': 2, 'contemptuously': 2, 'Keep': 2, 'anger': 2, 'unfolded': 2, 'LITTLE': 2, 'OLD': 2, 'FATHER': 2, 'WILLIAM': 2, 'Father': 2, 'sell': 2, 'weak': 2, 'father': 2, 'lasted': 2, 'clever': 2, 'Be': 2, 'QUITE': 2, 'changing': 2, 'wretched': 2, 'patiently': 2, 'chose': 2, 'yawned': 2, 'merely': 2, 'taller': 2, 'shorter': 2, 'difficult': 2, 'broke': 2, 'nibbled': 2, 'violent': 2, 'blow': 2, 'lefthand': 2, 'alarm': 2, 'follow': 2, 'distant': 2, 'wandering': 2, 'beating': 2, 'doubtfully': 2, 'changes': 2, 'telling': 2, 'matters': 2, 'entangled': 2, 'branches': 2, 'Pig': 2, 'Pepper': 2, 'Fish-Footman': 2, 'invitation': 2, 'laughed': 2, 'secondly': 2, 'extraordinary': 2, 'within': 2, 'constant': 2, \"'till\": 2, 'dreadful': 2, 'muttered': 2, 'leaning': 2, 'stirring': 2, 'cauldron': 2, 'pause': 2, 'sneeze': 2, 'introduce': 2, 'throwing': 2, 'plates': 2, 'dishes': 2, 'already': 2, 'takes': 2, 'hint': 2, 'singing': 2, 'line': 2, 'sneezes': 2, 'CHORUS': 2, 'Wow': 2, 'sang': 2, 'thoroughly': 2, 'threw': 2, 'missed': 2, 'twist': 2, 'IF': 2, 'also': 2, 'extremely': 2, 'neither': 2, 'ugly': 2, 'pigs': 2, 'startled': 2, 'explanation': 2, 'denied': 2, 'invited': 2, 'became': 2, 'appear': 2, 'May': 2, 'raving': 2, 'giddy': 2, 'shaped': 2, 'raised': 2, 'Suppose': 2, 'front': 2, 'using': 2, 'cushion': 2, 'resting': 2, 'wine': 2, 'laid': 2, 'Your': 2, 'wants': 2, 'personal': 2, 'rude': 2, 'wide': 2, 'SAID': 2, 'riddles': 2, 'break': 2, 'month': 2, 'uneasily': 2, 'BEST': 2, 'meekly': 2, 'cup': 2, 'tells': 2, 'Does': 2, 'year': 2, 'MINE': 2, 'clock': 2, 'spoon': 2, 'concert': 2, 'Up': 2, 'wash': 2, 'yawning': 2, 'Wake': 2, 'pinched': 2, 'sisters': 2, 'names': 2, 'ill': 2, 'living': 2, 'MORE': 2, 'triumphantly': 2, 'treacle-well': 2, 'sulkily': 2, 'learning': 2, 'Treacle': 2, 'interrupting': 2, 'rubbing': 2, 'manner': 2, 'closed': 2, 'Really': 2, 'painting': 2, 'flat': 2, 'carrying': 2, 'courtiers': 2, 'ornamented': 2, 'royal': 2, 'mostly': 2, 'crimson': 2, 'doubtful': 2, 'lie': 2, 'smiled': 2, 'Get': 2, 'fine': 2, 'Hush': 2, 'scream': 2, 'places': 2, 'croquet-ground': 2, 'flamingoes': 2, 'body': 2, 'unrolled': 2, 'quarrelling': 2, 'stamping': 2, 'shouting': 2, 'dispute': 2, 'removed': 2, 'fight': 2, 'collected': 2, 'unless': 2, 'HER': 2, 'entirely': 2, 'disappeared': 2, 'wildly': 2, \"'M\": 2, 'forget': 2, 'keeping': 2, 'Tis': 2, \"'t\": 2, 'love': 2, 'Shall': 2, 'experiment': 2, 'bite': 2, 'mustard': 2, 'agree': 2, 'yours': 2, 'choice': 2, 'custody': 2, 'executions': 2, 'sun': 2, 'watched': 2, 'Everybody': 2, 'heart': 2, 'sorrow': 2, 'These': 2, 'heavy': 2, 'proud': 2, 'relief': 2, 'regular': 2, 'Uglification': 2, 'Mystery': 2, 'Drawling': 2, 'recovered': 2, 'lobster': 2, 'delightful': 2, 'turtles': 2, 'dancing': 2, 'treading': 2, 'kindly': 2, 'thoughts': 2, 'part': 2, 'editions': 2, 'tones': 2, 'persisted': 2, 'pie': 2, 'cares': 2, 'Pennyworth': 2, 'scroll': 2, 'parchment': 2, 'wig': 2, 'quickly': 2, 'blew': 2, 'blasts': 2, 'summer': 2, 'sent': 2, 'fashion': 2, 'singers': 2, 'deny': 2, 'miserable': 2, 'guinea-pig': 2, 'cross-examine': 2, 'undertone': 2, 'goldfish': 2, 'accident': 2, 'UNimportant': 2, 'note-book': 2, 'prisoner': 2, 'directed': 2, 'signed': 2, 'atom': 2, 'GAVE': 2, 'THEY': 2, 'FIT': 2, 'Adventures': 2, 'wonderful': 2, 'teacups': 2, 'Wonderland': 2, 'ADVENTURES': 1, 'WONDERLAND': 1, 'Lewis': 1, 'Carroll': 1, 'MILLENNIUM': 1, 'FULCRUM': 1, 'EDITION': 1, '3.0': 1, 'I.': 1, 'Rabbit-Hole': 1, 'daisy-chain': 1, 'daisies': 1, 'pink': 1, 'wondered': 1, 'actually': 1, 'TOOK': 1, 'WATCH': 1, 'OUT': 1, 'ITS': 1, 'WAISTCOAT-POCKET': 1, 'flashed': 1, 'waistcoat-pocket': 1, 'burning': 1, 'field': 1, 'fortunately': 1, 'pop': 1, 'tunnel': 1, 'stopping': 1, 'Either': 1, 'plenty': 1, 'book-shelves': 1, 'maps': 1, 'hung': 1, 'pegs': 1, 'shelves': 1, 'labelled': 1, 'ORANGE': 1, 'MARMALADE': 1, 'disappointment': 1, 'empty': 1, 'drop': 1, 'killing': 1, 'past': 1, 'brave': 1, 'centre': 1, 'schoolroom': 1, 'practice': 1, 'yes': 1, 'THROUGH': 1, 'downward': 1, 'Antipathies': 1, 'country': 1, \"Ma'am\": 1, 'New': 1, 'Zealand': 1, 'Australia': 1, 'curtsey': 1, 'CURTSEYING': 1, 'ignorant': 1, 'miss': 1, 'to-night': 1, 'saucer': 1, 'milk': 1, 'dreamy': 1, 'dozing': 1, 'truth': 1, 'heap': 1, 'sticks': 1, 'overhead': 1, 'hurrying': 1, 'lit': 1, 'lamps': 1, 'locked': 1, 'Suddenly': 1, 'solid': 1, 'belong': 1, 'curtain': 1, 'fifteen': 1, 'lock': 1, 'fitted': 1, 'rat-hole': 1, 'knelt': 1, 'loveliest': 1, 'wander': 1, 'beds': 1, 'doorway': 1, 'lately': 1, 'telescopes': 1, 'printed': 1, 'letters': 1, 'Drink': 1, 'histories': 1, 'burnt': 1, 'eaten': 1, 'red-hot': 1, 'poker': 1, 'bleeds': 1, 'disagree': 1, 'flavour': 1, 'cherry-tart': 1, 'custard': 1, 'pine-apple': 1, 'roast': 1, 'turkey': 1, 'toffee': 1, 'buttered': 1, 'toast': 1, 'shrink': 1, 'flame': 1, 'blown': 1, 'plainly': 1, 'climb': 1, 'slippery': 1, 'advise': 1, 'advice': 1, 'seldom': 1, 'scolded': 1, 'cheated': 1, 'pretending': 1, 'pretend': 1, 'respectable': 1, 'Soon': 1, 'EAT': 1, 'currants': 1, 'creep': 1, 'ate': 1, 'eats': 1, 'common': 1, 'II': 1, 'Pool': 1, 'Tears': 1, 'Curiouser': 1, 'curiouser': 1, 'largest': 1, 'Good-bye': 1, 'stockings': 1, 'able': 1, 'Christmas': 1, 'planning': 1, 'carrier': 1, 'odd': 1, 'RIGHT': 1, 'FOOT': 1, 'ESQ.': 1, 'HEARTHRUG': 1, 'NEAR': 1, 'FENDER': 1, 'WITH': 1, 'LOVE': 1, 'hopeless': 1, 'Stop': 1, 'shedding': 1, 'gallons': 1, 'reaching': 1, 'dried': 1, 'returning': 1, 'splendidly': 1, 'dressed': 1, 'desperate': 1, 'skurried': 1, 'darkness': 1, 'fanning': 1, 'Dear': 1, 'puzzle': 1, 'Ada': 1, 'Besides': 1, 'five': 1, 'thirteen': 1, 'seven': 1, 'twenty': 1, 'Multiplication': 1, 'Table': 1, 'signify': 1, 'Geography': 1, 'London': 1, 'crocodile': 1, 'Improve': 1, 'shining': 1, 'pour': 1, 'waters': 1, 'Nile': 1, 'scale': 1, 'cheerfully': 1, 'welcome': 1, 'fishes': 1, 'poky': 1, 'toys': 1, 'burst': 1, 'measure': 1, 'avoid': 1, 'existence': 1, 'speed': 1, 'splash': 1, 'somehow': 1, 'seaside': 1, 'coast': 1, 'bathing': 1, 'machines': 1, 'sand': 1, 'wooden': 1, 'spades': 1, 'lodging': 1, 'houses': 1, 'station': 1, 'wept': 1, 'punished': 1, 'drowned': 1, 'walrus': 1, 'hippopotamus': 1, 'harm': 1, 'brother': 1, 'Latin': 1, 'Grammar': 1, 'inquisitively': 1, 'daresay': 1, 'Ou': 1, 'est': 1, 'ma': 1, 'chatte': 1, 'lesson-book': 1, 'leap': 1, 'quiver': 1, 'passionate': 1, 'soothing': 1, 'lazily': 1, 'sits': 1, 'licking': 1, 'soft': 1, 'bristling': 1, 'Our': 1, 'family': 1, 'HATED': 1, 'nasty': 1, 'vulgar': 1, 'bright-eyed': 1, 'terrier': 1, 'curly': 1, 'farmer': 1, 'hundred': 1, 'pounds': 1, 'kills': 1, 'rats': 1, 'commotion': 1, 'softly': 1, 'III': 1, 'Caucus-Race': 1, 'Long': 1, 'Tale': 1, 'queer-looking': 1, 'draggled': 1, 'feathers': 1, 'clinging': 1, 'dripping': 1, 'cross': 1, 'consultation': 1, 'familiarly': 1, 'known': 1, 'Indeed': 1, 'positively': 1, 'refused': 1, 'Sit': 1, \"'LL\": 1, 'fixed': 1, 'cold': 1, 'Ahem': 1, 'driest': 1, 'favoured': 1, 'pope': 1, 'submitted': 1, 'leaders': 1, 'accustomed': 1, 'usurpation': 1, 'conquest': 1, 'shiver': 1, 'declared': 1, 'Stigand': 1, 'patriotic': 1, 'Canterbury': 1, 'crossly': 1, 'worm': 1, 'Edgar': 1, 'Atheling': 1, 'conduct': 1, 'moderate': 1, 'insolence': 1, 'Normans': 1, 'rising': 1, 'meeting': 1, 'adjourn': 1, 'immediate': 1, 'adoption': 1, 'energetic': 1, 'remedies': 1, 'bent': 1, 'hide': 1, 'tittered': 1, 'audibly': 1, 'paused': 1, 'SOMEBODY': 1, 'inclined': 1, 'winter': 1, 'race-course': 1, 'circle': 1, 'exact': 1, 'shape': 1, 'placed': 1, 'Shakespeare': 1, 'EVERYBODY': 1, 'calling': 1, 'despair': 1, 'pulled': 1, 'luckily': 1, 'a-piece': 1, 'prize': 1, 'Hand': 1, 'presented': 1, 'acceptance': 1, 'elegant': 1, 'laugh': 1, 'complained': 1, 'theirs': 1, 'ones': 1, 'patted': 1, 'begged': 1, 'promised': 1, 'C': 1, 'D': 1, 'Mine': 1, 'prosecute': 1, 'denial': 1, 'cur': 1, 'Such': 1, 'Sir': 1, 'cunning': 1, 'condemn': 1, 'death': 1, 'fifth': 1, 'undo': 1, 'insult': 1, 'growled': 1, 'quicker': 1, 'daughter': 1, 'lesson': 1, 'lose': 1, 'Ma': 1, 'snappishly': 1, 'patience': 1, 'oyster': 1, 'addressing': 1, 'pet': 1, 'Magpie': 1, 'wrapping': 1, 'night-air': 1, 'Canary': 1, 'bed': 1, 'various': 1, 'pretexts': 1, 'low-spirited': 1, 'IV': 1, 'Sends': 1, 'Little': 1, 'good-naturedly': 1, 'completely': 1, 'Run': 1, 'Quick': 1, 'pointed': 1, 'housemaid': 1, 'finds': 1, 'neat': 1, 'brass': 1, 'W.': 1, 'RABBIT': 1, 'engraved': 1, 'upstairs': 1, 'lest': 1, 'fancying': 1, 'Coming': 1, 'tidy': 1, 'hoped': 1, 'pairs': 1, 'looking-glass': 1, 'nevertheless': 1, 'uncorked': 1, 'lips': 1, 'SOMETHING': 1, 'whenever': 1, 'expected': 1, 'pressing': 1, 'ceiling': 1, 'save': 1, 'Alas': 1, 'kneel': 1, 'Still': 1, 'resource': 1, 'Luckily': 1, 'magic': 1, 'grew': 1, 'pleasanter': 1, 'rabbits': 1, 'fairy-tales': 1, 'HERE': 1, 'comfort': 1, 'foolish': 1, 'lesson-books': 1, 'Fetch': 1, 'inwards': 1, 'attempt': 1, 'failure': 1, 'possible': 1, 'cucumber-frame': 1, 'Sounds': 1, 'pronounced': 1, 'arrum': 1, 'fills': 1, 'whispers': 1, 'coward': 1, 'shrieks': 1, 'cucumber-frames': 1, 'pulling': 1, 'rumbling': 1, 'cartwheels': 1, 'ladder': 1, 'lad': 1, 'tie': 1, 'rope': 1, 'loose': 1, 'Heads': 1, 'Nay': 1, 'Shy': 1, 'fireplace': 1, 'scratching': 1, 'scrambling': 1, 'Catch': 1, 'Brandy': 1, 'choke': 1, 'Last': 1, 'thank': 1, 'ye': 1, 'flustered': 1, 'Jack-in-the-box': 1, 'sky-rocket': 1, 'produced': 1, 'SOME': 1, 'swallowed': 1, 'thick': 1, 'arranged': 1, 'peering': 1, 'enormous': 1, 'feebly': 1, 'stretching': 1, 'touch': 1, 'whistle': 1, 'terribly': 1, 'spite': 1, 'Hardly': 1, 'whereupon': 1, 'yelp': 1, 'rushed': 1, 'worry': 1, 'dodged': 1, 'tumbled': 1, 'heels': 1, 'cart-horse': 1, 'trampled': 1, 'series': 1, 'charges': 1, 'forwards': 1, 'barking': 1, 'hoarsely': 1, 'faint': 1, 'leant': 1, 'buttercup': 1, 'fanned': 1, 'teaching': 1, 'tricks': 1, 'blades': 1, 'circumstances': 1, 'caterpillar': 1, 'V.': 1, 'Advice': 1, 'languid': 1, 'shyly': 1, 'sternly': 1, 'MYSELF': 1, 'clearly': 1, 'sizes': 1, 'chrysalis': 1, 'butterfly': 1, 'irritated': 1, 'state': 1, 'promising': 1, 'swallowing': 1, 'wait': 1, 'puffed': 1, 'Ca': 1, 'HOW': 1, 'DOTH': 1, 'BUSY': 1, 'BEE': 1, 'Repeat': 1, 'incessantly': 1, 'son': 1, 'feared': 1, 'injure': 1, 'brain': 1, 'uncommonly': 1, 'fat': 1, 'back-somersault': 1, 'sage': 1, 'grey': 1, 'limbs': 1, 'supple': 1, 'ointment': 1, 'shilling': 1, 'Allow': 1, 'couple': 1, 'tougher': 1, 'suet': 1, 'bones': 1, 'beak': 1, 'argued': 1, 'wife': 1, 'muscular': 1, 'strength': 1, 'jaw': 1, 'Has': 1, 'steady': 1, 'balanced': 1, 'eel': 1, 'awfully': 1, 'airs': 1, 'altered': 1, 'DO': 1, \"N'T\": 1, 'contradicted': 1, 'losing': 1, 'content': 1, 'rearing': 1, 'upright': 1, 'piteous': 1, 'crawled': 1, 'right-hand': 1, 'underneath': 1, 'closely': 1, 'swallow': 1, 'morsel': 1, 'immense': 1, 'length': 1, 'rise': 1, 'stalk': 1, 'result': 1, 'curving': 1, 'graceful': 1, 'zigzag': 1, 'dive': 1, 'tops': 1, 'hiss': 1, 'pigeon': 1, 'flown': 1, 'wings': 1, 'subdued': 1, 'sob': 1, 'roots': 1, 'banks': 1, 'hedges': 1, 'pleasing': 1, 'hatching': 1, 'look-out': 1, 'weeks': 1, 'sorry': 1, 'annoyed': 1, 'highest': 1, 'raising': 1, 'needs': 1, 'wriggling': 1, 'invent': 1, 'deepest': 1, 'contempt': 1, 'denying': 1, 'egg': 1, 'truthful': 1, 'adding': 1, 'YOURS': 1, 'raw': 1, 'nest': 1, 'crouched': 1, 'untwist': 1, 'Whoever': 1, 'frighten': 1, 'wits': 1, 'righthand': 1, 'VI': 1, 'judging': 1, 'rapped': 1, 'knuckles': 1, 'footmen': 1, 'powdered': 1, 'crept': 1, 'producing': 1, 'Frog-Footman': 1, 'From': 1, 'curls': 1, 'stupidly': 1, 'knocked': 1, 'reasons': 1, 'inside': 1, 'kettle': 1, 'INSIDE': 1, 'knock': 1, 'uncivil': 1, 'tomorrow': 1, 'skimming': 1, 'grazed': 1, 'maybe': 1, 'louder': 1, 'argue': 1, 'drive': 1, 'crazy': 1, 'variations': 1, 'Anything': 1, 'whistling': 1, 'desperately': 1, 'idiotic': 1, 'smoke': 1, 'stool': 1, 'Even': 1, 'sneezed': 1, 'occasionally': 1, 'alternately': 1, 'hearth': 1, 'grinning': 1, 'manners': 1, 'grins': 1, 'violence': 1, 'fix': 1, 'fire-irons': 1, 'saucepans': 1, 'blows': 1, 'PLEASE': 1, 'agony': 1, 'terror': 1, 'PRECIOUS': 1, 'unusually': 1, 'saucepan': 1, 'flew': 1, 'minded': 1, 'twenty-four': 1, 'axis': 1, 'Talking': 1, 'axes': 1, 'chop': 1, 'glanced': 1, 'Twenty-four': 1, 'bother': 1, 'abide': 1, 'figures': 1, 'lullaby': 1, 'shake': 1, 'roughly': 1, 'annoy': 1, 'Because': 1, 'teases': 1, 'howled': 1, 'enjoy': 1, 'pleases': 1, 'flinging': 1, 'frying-pan': 1, 'queer-shaped': 1, 'star-fish': 1, 'snorting': 1, 'steam-engine': 1, 'doubling': 1, 'straightening': 1, 'tight': 1, 'prevent': 1, 'undoing': 1, 'kill': 1, 'murder': 1, 'grunt': 1, 'expressing': 1, 'turn-up': 1, 'snout': 1, 'seriously': 1, 'sobbed': 1, 'NO': 1, 'carry': 1, 'relieved': 1, 'trot': 1, 'handsome': 1, 'seeing': 1, 'bough': 1, 'yards': 1, 'good-natured': 1, 'teeth': 1, 'treated': 1, 'respect': 1, 'Puss': 1, 'wider': 1, 'depends': 1, 'SOMEWHERE': 1, 'Visit': 1, 'To': 1, 'grant': 1, 'growls': 1, 'wags': 1, 'wag': 1, 'Therefore': 1, 'growling': 1, 'happening': 1, 'By-the-bye': 1, 'hatters': 1, 'branch': 1, 'fig': 1, 'appearing': 1, 'vanishing': 1, 'ending': 1, 'farther': 1, 'chimneys': 1, 'thatched': 1, 'towards': 1, 'VII': 1, 'Mad': 1, 'Tea-Party': 1, 'elbows': 1, 'PLENTY': 1, 'arm-chair': 1, 'cutting': 1, 'severity': 1, 'raven': 1, 'writing-desk': 1, 'ravens': 1, 'writing-desks': 1, 'fourth': 1, 'works': 1, 'grumbled': 1, 'bread-knife': 1, 'gloomily': 1, 'readily': 1, 'stays': 1, 'poured': 1, 'riddle': 1, 'slightest': 1, 'Nor': 1, 'wearily': 1, 'waste': 1, 'answers': 1, 'accounts': 1, 'terms': 1, 'Half-past': 1, 'half-past': 1, 'mournfully': 1, 'quarrelled': 1, 'given': 1, 'Like': 1, 'tea-tray': 1, 'pinch': 1, 'bawled': 1, 'murdering': 1, 'mournful': 1, 'tea-things': 1, 'whiles': 1, 'vote': 1, 'alarmed': 1, 'proposal': 1, 'fellows': 1, 'quick': 1, 'Elsie': 1, 'Lacie': 1, 'Tillie': 1, 'interest': 1, 'eating': 1, 'drinking': 1, 'ways': 1, 'LESS': 1, 'opinion': 1, 'helped': 1, 'Sh': 1, 'sh': 1, 'interrupt': 1, 'consented': 1, 'promise': 1, 'clean': 1, 'unwillingly': 1, 'milk-jug': 1, 'offend': 1, 'water-well': 1, 'eh': 1, 'choosing': 1, 'doze': 1, 'woke': 1, 'mouse-traps': 1, 'moon': 1, 'memory': 1, 'drawing': 1, 'rudeness': 1, 'disgust': 1, 'teapot': 1, 'THERE': 1, 'stupidest': 1, 'tea-party': 1, 'leading': 1, 'today': 1, 'unlocking': 1, 'THEN': 1, 'flower-beds': 1, 'VIII': 1, 'Croquet-Ground': 1, 'entrance': 1, 'red': 1, 'Look': 1, 'paint': 1, 'jogged': 1, 'Always': 1, 'blame': 1, \"'D\": 1, 'deserved': 1, 'spoken': 1, 'tulip-roots': 1, 'onions': 1, 'flung': 1, 'brush': 1, 'unjust': 1, 'chanced': 1, 'RED': 1, 'afore': 1, 'clubs': 1, 'oblong': 1, 'corners': 1, 'diamonds': 1, 'merrily': 1, 'couples': 1, 'hearts': 1, 'Kings': 1, 'Queens': 1, 'recognised': 1, 'noticing': 1, 'velvet': 1, 'KING': 1, 'QUEEN': 1, 'HEARTS': 1, 'processions': 1, 'opposite': 1, 'Idiot': 1, 'THESE': 1, 'rosetree': 1, 'pattern': 1, 'backs': 1, 'fury': 1, 'glaring': 1, 'beast': 1, 'Nonsense': 1, 'bowing': 1, 'Leave': 1, 'humble': 1, 'meanwhile': 1, 'examining': 1, 'remaining': 1, 'execute': 1, 'protection': 1, 'flower-pot': 1, 'marched': 1, 'Their': 1, 'Can': 1, 'evidently': 1, 'roared': 1, 'peeping': 1, 'boxed': 1, 'laughter': 1, 'hush': 1, 'thunder': 1, 'ridges': 1, 'furrows': 1, 'balls': 1, 'mallets': 1, 'double': 1, 'chief': 1, 'managing': 1, 'comfortably': 1, 'straightened': 1, 'expression': 1, 'bursting': 1, 'laughing': 1, 'provoking': 1, 'act': 1, 'crawling': 1, 'ridge': 1, 'furrow': 1, 'send': 1, 'doubled-up': 1, 'parts': 1, 'played': 1, 'fighting': 1, 'furious': 1, 'uneasy': 1, 'beheading': 1, 'appearance': 1, 'nodded': 1, 'account': 1, 'someone': 1, 'fairly': 1, 'complaining': 1, 'quarrel': 1, 'oneself': 1, 'attends': 1, 'arch': 1, 'croqueted': 1, 'win': 1, 'finishing': 1, 'kiss': 1, 'likes': 1, 'impertinent': 1, 'king': 1, 'passing': 1, 'settling': 1, 'difficulties': 1, 'screaming': 1, 'search': 1, 'engaged': 1, 'croqueting': 1, 'helpless': 1, 'appealed': 1, 'settle': 1, 'arguments': 1, 'HIS': 1, 'prison': 1, 'arrow': 1, 'fading': 1, 'IX': 1, 'Story': 1, 'affectionately': 1, 'pleasant': 1, 'hopeful': 1, 'AT': 1, 'Maybe': 1, 'hot-tempered': 1, 'vinegar': 1, 'sour': 1, 'camomile': 1, 'bitter': 1, 'barley-sugar': 1, 'sweet-tempered': 1, 'stingy': 1, 'Tut': 1, 'tut': 1, 'squeezed': 1, 'closer': 1, 'uncomfortably': 1, 'bore': 1, 'Somebody': 1, 'minding': 1, 'morals': 1, 'waist': 1, 'Birds': 1, 'feather': 1, 'flock': 1, 'Right': 1, 'mineral': 1, 'mustard-mine': 1, 'attended': 1, 'vegetable': 1, 'imagine': 1, 'cheap': 1, 'birthday': 1, 'Thinking': 1, 'dig': 1, 'worried': 1, 'm': 1, 'died': 1, 'favourite': 1, 'linked': 1, 'tremble': 1, 'thunderstorm': 1, 'fair': 1, 'warning': 1, 'absence': 1, 'shade': 1, 'delay': 1, 'cost': 1, 'Those': 1, 'whom': 1, 'sentenced': 1, 'company': 1, 'pardoned': 1, 'picture': 1, 'lazy': 1, 'leaving': 1, 'rubbed': 1, 'chuckled': 1, 'executes': 1, 'ledge': 1, 'rock': 1, 'pitied': 1, 'hollow': 1, 'EVEN': 1, 'occasional': 1, 'exclamation': 1, 'Hjckrrh': 1, 'calmly': 1, 'sink': 1, 'Drive': 1, 'educations': 1, \"'VE\": 1, 'day-school': 1, 'extras': 1, 'learned': 1, 'Certainly': 1, 'OURS': 1, 'bill': 1, 'WASHING': 1, 'extra': 1, 'afford': 1, 'inquired': 1, 'Reeling': 1, 'Writhing': 1, 'Arithmetic': 1, 'Ambition': 1, 'Distraction': 1, 'Derision': 1, 'lifted': 1, 'uglifying': 1, 'beautify': 1, 'prettier': 1, 'uglify': 1, 'simpleton': 1, 'encouraged': 1, 'counting': 1, 'subjects': 1, 'flappers': 1, 'ancient': 1, 'modern': 1, 'Seaography': 1, 'Drawling-master': 1, 'conger-eel': 1, 'Stretching': 1, 'Fainting': 1, 'Coils': 1, 'stiff': 1, 'Had': 1, 'Classics': 1, 'crab': 1, 'Laughing': 1, 'Grief': 1, 'hid': 1, 'Ten': 1, 'lessen': 1, 'eleventh': 1, 'holiday': 1, 'twelfth': 1, 'games': 1, 'X': 1, 'flapper': 1, 'Same': 1, 'bone': 1, 'punching': 1, 'cheeks': 1, 'introduced': 1, 'form': 1, 'sea-shore': 1, 'lines': 1, 'Seals': 1, 'salmon': 1, 'cleared': 1, 'jelly-fish': 1, 'Each': 1, 'partner': 1, 'partners': 1, 'retire': 1, 'bound': 1, 'Swim': 1, 'somersault': 1, 'capering': 1, 'Change': 1, 'yelled': 1, 'Back': 1, 'land': 1, 'dropping': 1, 'pretty': 1, 'forepaws': 1, 'See': 1, 'shingle': 1, 'Too': 1, 'askance': 1, 'thanked': 1, 'scaly': 1, 'England': 1, 'France': 1, 'beloved': 1, 'dinn': 1, 'Dinn': 1, 'thrown': 1, 'DOES': 1, 'BOOTS': 1, 'SHOES': 1, 'shiny': 1, 'blacking': 1, 'Boots': 1, 'Soles': 1, 'eels': 1, 'shrimp': 1, 'anywhere': 1, 'journey': 1, 'purpose': 1, 'impatient': 1, 'explanations': 1, 'gained': 1, 'listeners': 1, 'Stand': 1, \"'T\": 1, 'VOICE': 1, 'SLUGGARD': 1, 'baked': 1, 'sugar': 1, 'duck': 1, 'eyelids': 1, 'Trims': 1, 'belt': 1, 'buttons': 1, 'sands': 1, 'gay': 1, 'lark': 1, 'contemptuous': 1, 'Shark': 1, 'tide': 1, 'rises': 1, 'sharks': 1, 'His': 1, 'tremulous': 1, 'uncommon': 1, 'EVER': 1, 'explained': 1, 'disobey': 1, 'sharing': 1, 'pie-crust': 1, 'gravy': 1, 'meat': 1, 'share': 1, 'treat': 1, 'boon': 1, 'Was': 1, 'permitted': 1, 'received': 1, 'fork': 1, 'banquet': 1, 'Or': 1, 'Hm': 1, 'accounting': 1, 'tastes': 1, 'Sing': 1, 'rich': 1, 'Waiting': 1, 'tureen': 1, 'dainties': 1, 'Game': 1, 'beauti': 1, 'FUL': 1, 'SOUP': 1, 'Chorus': 1, 'panted': 1, 'faintly': 1, 'breeze': 1, 'XI': 1, 'Stole': 1, 'Tarts': 1, 'seated': 1, 'throne': 1, 'arrived': 1, 'standing': 1, 'chains': 1, 'soldier': 1, 'guard': 1, 'refreshments': 1, 'pass': 1, 'justice': 1, 'books': 1, 'wore': 1, 'frontispiece': 1, 'comfortable': 1, 'becoming': 1, 'rightly': 1, 'jury-men': 1, 'Stupid': 1, 'indignant': 1, 'spell': 1, 'neighbour': 1, 'muddle': 1, 'pencil': 1, 'squeaked': 1, 'juror': 1, 'Herald': 1, 'accusation': 1, 'stole': 1, 'arm-in-arm': 1, 'Fourteenth': 1, 'Fifteenth': 1, 'Sixteenth': 1, 'Write': 1, 'dates': 1, 'reduced': 1, 'shillings': 1, 'pence': 1, 'hat': 1, 'Stolen': 1, 'memorandum': 1, 'hatter': 1, 'fidgeted': 1, 'spot': 1, 'encourage': 1, 'shifting': 1, 'remain': 1, 'squeeze': 1, 'boldly': 1, 'reasonable': 1, 'pace': 1, 'ridiculous': 1, 'Bring': 1, 'thin': 1, 'T': 1, 'dunce': 1, 'twinkled': 1, 'denies': 1, 'speaker': 1, 'canvas': 1, 'bag': 1, 'tied': 1, 'strings': 1, 'newspapers': 1, 'trials': 1, 'attempts': 1, 'applause': 1, 'understood': 1, 'lower': 1, 'SIT': 1, 'officer': 1, 'pepper-box': 1, 'Sha': 1, 'folding': 1, 'Collar': 1, 'shrieked': 1, 'Behead': 1, 'Suppress': 1, 'Pinch': 1, 'ache': 1, 'fumbled': 1, 'YET': 1, 'Imagine': 1, 'XII': 1, 'Evidence': 1, 'flurry': 1, 'tipped': 1, 'skirt': 1, 'upsetting': 1, 'sprawling': 1, 'reminding': 1, 'globe': 1, 'accidentally': 1, 'BEG': 1, 'dismay': 1, 'vague': 1, 'die': 1, 'emphasis': 1, 'haste': 1, 'downwards': 1, 'unable': 1, 'signifies': 1, 'shock': 1, 'pencils': 1, 'diligently': 1, 'overcome': 1, 'gazing': 1, 'WHATEVER': 1, 'respectful': 1, 'cackled': 1, 'Rule': 1, 'Forty-two': 1, 'PERSONS': 1, 'THAN': 1, 'MILE': 1, 'HIGH': 1, 'LEAVE': 1, 'COURT': 1, 'mile': 1, 'Nearly': 1, 'invented': 1, 'oldest': 1, 'Number': 1, 'OUTSIDE': 1, 'handwriting': 1, 'queerest': 1, 'imitated': 1, 'prove': 1, 'sign': 1, 'mischief': 1, 'honest': 1, 'clapping': 1, 'PROVES': 1, 'guilt': 1, 'proves': 1, 'Read': 1, 'Begin': 1, 'character': 1, 'push': 1, 'returned': 1, 'Though': 1, 'Involved': 1, 'affair': 1, 'trusts': 1, 'Before': 1, 'fit': 1, 'obstacle': 1, 'Him': 1, 'ourselves': 1, 'secret': 1, 'Between': 1, 'sixpence': 1, 'attempted': 1, 'saves': 1, 'spreading': 1, 'SWIM': 1, 'cardboard': 1, 'WE': 1, 'KNOW': 1, 'BE': 1, 'TRUE': 1, 'RETURNED': 1, 'FROM': 1, 'clearer': 1, 'BEFORE': 1, 'HAD': 1, 'fits': 1, 'furiously': 1, 'inkstand': 1, 'ink': 1, 'trickling': 1, 'pun': 1, 'consider': 1, 'twentieth': 1, 'Sentence': 1, 'Stuff': 1, 'purple': 1, 'rose': 1, 'flying': 1, 'brushing': 1, 'fluttered': 1, 'kissed': 1, 'setting': 1, 'dreaming': 1, 'dreamed': 1, 'clasped': 1, 'toss': 1, 'listened': 1, 'rustled': 1, 'splashed': 1, 'neighbouring': 1, 'rattle': 1, 'shared': 1, 'never-ending': 1, 'meal': 1, 'pig-baby': 1, 'crashed': 1, 'slate-pencil': 1, 'choking': 1, 'believed': 1, 'reality': 1, 'rustling': 1, 'rippling': 1, 'reeds': 1, 'tinkling': 1, 'sheep-bells': 1, 'cries': 1, 'shepherd': 1, 'noises': 1, 'clamour': 1, 'busy': 1, 'farm-yard': 1, 'lowing': 1, 'cattle': 1, 'Lastly': 1, 'pictured': 1, 'after-time': 1, 'riper': 1, 'years': 1, 'loving': 1, 'childhood': 1, 'gather': 1, 'THEIR': 1, 'sorrows': 1, 'joys': 1, 'remembering': 1, 'child-life': 1, 'happy': 1})\n"
     ]
    },
    {
     "data": {
      "text/plain": [
       "<BarContainer object of 10 artists>"
      ]
     },
     "execution_count": 271,
     "metadata": {},
     "output_type": "execute_result"
    },
    {
     "data": {
      "image/png": "[encoded data removed]",
      "text/plain": [
       "<Figure size 720x360 with 1 Axes>"
      ]
     },
     "metadata": {
      "needs_background": "light"
     },
     "output_type": "display_data"
    }
   ],
   "source": [
    "import matplotlib.pyplot as plt\n",
    "top_words, top_count = zip(*word_count.most_common(10))\n",
    "top_words = list(top_words)\n",
    "top_count = list(top_count)\n",
    "\n",
    "x = range(1, 11)\n",
    "plt.figure(figsize=(10, 5))\n",
    "plt.bar(x, top_count, tick_label=top_words, align=\"center\")"
   ]
  },
  {
   "cell_type": "markdown",
   "metadata": {},
   "source": [
    "## problem 37"
   ]
  },
  {
   "cell_type": "code",
   "execution_count": 258,
   "metadata": {},
   "outputs": [
    {
     "data": {
      "text/plain": [
       "<BarContainer object of 10 artists>"
      ]
     },
     "execution_count": 258,
     "metadata": {},
     "output_type": "execute_result"
    },
    {
     "data": {
      "image/png": "[encoded data removed]",
      "text/plain": [
       "<Figure size 720x360 with 1 Axes>"
      ]
     },
     "metadata": {
      "needs_background": "light"
     },
     "output_type": "display_data"
    }
   ],
   "source": [
    "query_word = 'Alice'\n",
    "co_occuring = []\n",
    "for i in sents:\n",
    "    sent_words = [w['text'] for w in i if w['pos'] not in punct]\n",
    "    if query_word in sent_words:\n",
    "        co_occuring.extend(sent_words)\n",
    "\n",
    "top_qwords, top_qcount = zip(*Counter(co_occuring).most_common(10))\n",
    "plt.figure(figsize=(10, 5))\n",
    "plt.bar(range(1, 11), top_qcount, tick_label=top_qwords, align=\"center\")"
   ]
  },
  {
   "cell_type": "markdown",
   "metadata": {},
   "source": [
    "## problem 38"
   ]
  },
  {
   "cell_type": "code",
   "execution_count": 267,
   "metadata": {},
   "outputs": [
    {
     "data": {
      "image/png": "[encoded data removed]",
      "text/plain": [
       "<Figure size 864x576 with 1 Axes>"
      ]
     },
     "metadata": {
      "needs_background": "light"
     },
     "output_type": "display_data"
    }
   ],
   "source": [
    "unique_counts = Counter(list(word_count.values()))\n",
    "highest_frequency = max(list(unique_counts))\n",
    "x, y = zip(*sorted(unique_counts.items(), key= lambda a: a[0]))\n",
    "\n",
    "\n",
    "plt.figure(figsize=(12, 8))\n",
    "plt.bar(list(x), list(y), width=5)\n",
    "plt.show()\n",
    "\n",
    "# plt.figure(figsize=(10, 8))\n",
    "# plt.hist(list(word_count.values()), bins=1500)\n",
    "# plt.show()"
   ]
  },
  {
   "cell_type": "markdown",
   "metadata": {},
   "source": [
    "## problem 39"
   ]
  },
  {
   "cell_type": "code",
   "execution_count": 270,
   "metadata": {},
   "outputs": [
    {
     "data": {
      "image/png": "[encoded data removed]",
      "text/plain": [
       "<Figure size 720x360 with 1 Axes>"
      ]
     },
     "metadata": {
      "needs_background": "light"
     },
     "output_type": "display_data"
    }
   ],
   "source": [
    "_, counts = zip(*word_count.most_common())\n",
    "counts = list(counts)\n",
    "plt.figure(figsize=(10, 5))\n",
    "plt.xscale('log')\n",
    "plt.yscale('log')\n",
    "plt.title('Zipfs Law')\n",
    "plt.scatter(range(1, len(counts)+1), counts)\n",
    "plt.xlabel('rank')\n",
    "plt.ylabel('frequency')\n",
    "plt.show()"
   ]
  },
  {
   "cell_type": "code",
   "execution_count": null,
   "metadata": {},
   "outputs": [],
   "source": []
  }
 ],
 "metadata": {
  "kernelspec": {
   "display_name": "Python 3",
   "language": "python",
   "name": "python3"
  },
  "language_info": {
   "codemirror_mode": {
    "name": "ipython",
    "version": 3
   },
   "file_extension": ".py",
   "mimetype": "text/x-python",
   "name": "python",
   "nbconvert_exporter": "python",
   "pygments_lexer": "ipython3",
   "version": "3.8.3"
  }
 },
 "nbformat": 4,
 "nbformat_minor": 4
}
