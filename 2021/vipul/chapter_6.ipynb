{
 "cells": [
  {
   "cell_type": "markdown",
   "metadata": {},
   "source": [
    "## Problem-50"
   ]
  },
  {
   "cell_type": "code",
   "execution_count": 5,
   "metadata": {},
   "outputs": [],
   "source": [
    "import pandas as pd\n",
    "import numpy as np\n",
    "import sklearn\n",
    "\n",
    "valid_publishers = ['Reuters', 'Huffington Post', 'Businessweek', 'Contactmusic.com','Daily Mail']\n",
    "columns = ['ID', 'TITLE', 'URL', 'PUBLISHER', 'CATEGORY', 'STORY', 'HOSTNAME', 'TIMESTAMP']\n",
    "files = ['train', 'valid', 'test']\n",
    "label_map = {'b':0, 'e': 1, 'm':2, 't':3}\n",
    "categs = ['busi.', 'enter.', 'health', 'science']\n",
    "no_publisher = ['4557', '14204']"
   ]
  },
  {
   "cell_type": "code",
   "execution_count": 6,
   "metadata": {},
   "outputs": [
    {
     "data": {
      "text/plain": [
       "(422937, 422937)"
      ]
     },
     "execution_count": 6,
     "metadata": {},
     "output_type": "execute_result"
    }
   ],
   "source": [
    "df = pd.read_csv('NewsAggregatorDataset/newsCorpora.csv', sep='\\t', quoting=3, names=columns)\n",
    "data = None\n",
    "with open('NewsAggregatorDataset/newsCorpora.csv', 'r') as infile:\n",
    "    data = infile.readlines()\n",
    "data = [d.split('\\t') for d in data]\n",
    "data_id = [d[0] for d in data]\n",
    "df_id = list(df.ID)\n",
    "data_id_int = [int(id_) for id_ in data_id]\n",
    "len(data_id), len(df_id)"
   ]
  },
  {
   "cell_type": "code",
   "execution_count": 7,
   "metadata": {},
   "outputs": [
    {
     "name": "stdout",
     "output_type": "stream",
     "text": [
      "PUBLISHER\n",
      "Businessweek        2395\n",
      "Contactmusic.com    2339\n",
      "Daily Mail          2260\n",
      "Huffington Post     2458\n",
      "Reuters             3904\n",
      "Name: PUBLISHER, dtype: int64\n"
     ]
    }
   ],
   "source": [
    "df = df[df.PUBLISHER.isin(valid_publishers)]\n",
    "\n",
    "print(df.groupby('PUBLISHER')['PUBLISHER'].count())\n",
    "df = df.sample(frac=1)\n",
    "train_split = df.sample(frac=0.8, random_state=43)\n",
    "test_valid_split = df.drop(train_split.index)\n",
    "valid_split = test_valid_split.sample(frac=0.5, random_state=43)\n",
    "test_split = test_valid_split.drop(valid_split.index)"
   ]
  },
  {
   "cell_type": "code",
   "execution_count": 8,
   "metadata": {},
   "outputs": [
    {
     "name": "stdout",
     "output_type": "stream",
     "text": [
      "10685 1336 1335\n",
      "13356\n"
     ]
    }
   ],
   "source": [
    "print(len(train_split), len(valid_split), len(test_split))\n",
    "print(len(df))\n",
    "# train_split.index, valid_split.index, test_split.index\n",
    "# train_split.to_csv(r'NewsAggregatorDataset/train.txt', index=None, sep='\\t', mode='a')\n",
    "# valid_split.to_csv(r'NewsAggregatorDataset/valid.txt', index=None, sep='\\t', mode='a')\n",
    "# test_split.to_csv(r'NewsAggregatorDataset/test.txt', index=None, sep='\\t', mode='a')"
   ]
  },
  {
   "cell_type": "code",
   "execution_count": 9,
   "metadata": {},
   "outputs": [
    {
     "name": "stdout",
     "output_type": "stream",
     "text": [
      "train\n",
      "CATEGORY\n",
      "b    4500\n",
      "e    4221\n",
      "m     732\n",
      "t    1219\n",
      "Name: CATEGORY, dtype: int64\n",
      "valid\n",
      "CATEGORY\n",
      "b    562\n",
      "e    542\n",
      "m     83\n",
      "t    147\n",
      "Name: CATEGORY, dtype: int64\n",
      "test\n",
      "CATEGORY\n",
      "b    565\n",
      "e    516\n",
      "m     95\n",
      "t    158\n",
      "Name: CATEGORY, dtype: int64\n"
     ]
    }
   ],
   "source": [
    "split_dfs = {split:pd.read_csv(f'NewsAggregatorDataset/{split}.txt', sep='\\t') for split in files}\n",
    "for split, df in split_dfs.items():\n",
    "    print(split)\n",
    "    print(df.groupby('CATEGORY')['CATEGORY'].count())"
   ]
  },
  {
   "cell_type": "markdown",
   "metadata": {},
   "source": [
    "## Problem-51 & Problem-52"
   ]
  },
  {
   "cell_type": "code",
   "execution_count": 10,
   "metadata": {},
   "outputs": [],
   "source": [
    "import nltk\n",
    "from collections import Counter\n",
    "import pickle as pkl\n",
    "from sklearn.feature_extraction.text import CountVectorizer\n",
    "from sklearn.feature_extraction.text import TfidfVectorizer\n",
    "from sklearn.linear_model import LogisticRegression"
   ]
  },
  {
   "cell_type": "code",
   "execution_count": 11,
   "metadata": {},
   "outputs": [],
   "source": [
    "# designing features by yourself\n",
    "all_titles = ' '.join(list(split_dfs['train']['TITLE']))\n",
    "words_in_title = Counter(all_titles.split())\n",
    "title_features = {}\n",
    "for i, j in words_in_title.items():\n",
    "    title_features[i] = 0\n",
    "# def get_feature(x):\n",
    "# words_in_title.most_common(10)"
   ]
  },
  {
   "cell_type": "code",
   "execution_count": 12,
   "metadata": {},
   "outputs": [],
   "source": [
    "vectorizer = CountVectorizer(stop_words='english')\n",
    "train_data = vectorizer.fit_transform(list(split_dfs['train']['TITLE'])).toarray()\n",
    "train_labels = np.array(split_dfs['train']['CATEGORY'].apply(lambda x: label_map[x]))\n",
    "valid_data = vectorizer.transform(list(split_dfs['valid']['TITLE'])).toarray()\n",
    "valid_labels = np.array(split_dfs['valid']['CATEGORY'].apply(lambda x: label_map[x]))\n",
    "test_data = vectorizer.transform(list(split_dfs['test']['TITLE'])).toarray()\n",
    "test_labels = np.array(split_dfs['test']['CATEGORY'].apply(lambda x: label_map[x]))\n",
    "# vectorizer.get_feature_names()"
   ]
  },
  {
   "cell_type": "code",
   "execution_count": 13,
   "metadata": {},
   "outputs": [
    {
     "data": {
      "text/plain": [
       "((10672, 12488), (10672,))"
      ]
     },
     "execution_count": 13,
     "metadata": {},
     "output_type": "execute_result"
    }
   ],
   "source": [
    "train_data.shape, train_labels.shape"
   ]
  },
  {
   "cell_type": "code",
   "execution_count": 14,
   "metadata": {},
   "outputs": [
    {
     "data": {
      "text/plain": [
       "LogisticRegression()"
      ]
     },
     "execution_count": 14,
     "metadata": {},
     "output_type": "execute_result"
    }
   ],
   "source": [
    "classifier = LogisticRegression()\n",
    "classifier.fit(train_data, train_labels)"
   ]
  },
  {
   "cell_type": "markdown",
   "metadata": {},
   "source": [
    "## Problem-53 & Problem-54"
   ]
  },
  {
   "cell_type": "code",
   "execution_count": 15,
   "metadata": {},
   "outputs": [],
   "source": [
    "from sklearn.metrics import accuracy_score\n",
    "np.set_printoptions(precision=2)\n",
    "def get_predict_and_proba(classifier_, data_):\n",
    "    return classifier_.predict(data_), classifier_.predict_proba(data_) "
   ]
  },
  {
   "cell_type": "code",
   "execution_count": 16,
   "metadata": {},
   "outputs": [
    {
     "name": "stdout",
     "output_type": "stream",
     "text": [
      "Training set accuracy: 0.996\n",
      "Test set accuracy: 0.918\n"
     ]
    }
   ],
   "source": [
    "tr_preds, tr_probs = get_predict_and_proba(classifier, train_data)\n",
    "# print(tr_preds[0:10], tr_probs[0:10])\n",
    "\n",
    "preds, probs = get_predict_and_proba(classifier, test_data)\n",
    "\n",
    "\n",
    "print(f'Training set accuracy: {round(accuracy_score(train_labels, tr_preds), 3)}')\n",
    "print(f'Test set accuracy: {round(accuracy_score(test_labels, preds), 3)}')"
   ]
  },
  {
   "cell_type": "markdown",
   "metadata": {},
   "source": [
    "## Problem-55"
   ]
  },
  {
   "cell_type": "code",
   "execution_count": 17,
   "metadata": {},
   "outputs": [
    {
     "data": {
      "text/plain": [
       "array([[4487,    6,    1,    6],\n",
       "       [   5, 4214,    0,    2],\n",
       "       [   1,    2,  729,    0],\n",
       "       [  17,    7,    0, 1195]])"
      ]
     },
     "execution_count": 17,
     "metadata": {},
     "output_type": "execute_result"
    },
    {
     "data": {
      "image/png": "[encoded data removed]",
      "text/plain": [
       "<Figure size 432x288 with 2 Axes>"
      ]
     },
     "metadata": {
      "needs_background": "light"
     },
     "output_type": "display_data"
    }
   ],
   "source": [
    "from sklearn.metrics import plot_confusion_matrix\n",
    "from sklearn.metrics import confusion_matrix\n",
    "\n",
    "import matplotlib.pyplot as plt\n",
    "#Consusion matrix for training split\n",
    "disp = plot_confusion_matrix(classifier, train_data, train_labels, display_labels=categs, cmap=plt.cm.Blues)\n",
    "disp.ax_.set_title('Training Split')\n",
    "confusion_matrix(train_labels, tr_preds)"
   ]
  },
  {
   "cell_type": "code",
   "execution_count": 18,
   "metadata": {},
   "outputs": [
    {
     "data": {
      "text/plain": [
       "array([[541,  13,   1,  10],\n",
       "       [ 11, 505,   0,   0],\n",
       "       [ 12,  17,  63,   3],\n",
       "       [ 19,  23,   1, 115]])"
      ]
     },
     "execution_count": 18,
     "metadata": {},
     "output_type": "execute_result"
    },
    {
     "data": {
      "image/png": "[encoded data removed]",
      "text/plain": [
       "<Figure size 432x288 with 2 Axes>"
      ]
     },
     "metadata": {
      "needs_background": "light"
     },
     "output_type": "display_data"
    }
   ],
   "source": [
    "#Confusion matrix for test split\n",
    "disp = plot_confusion_matrix(classifier, test_data, test_labels, display_labels=categs, cmap=plt.cm.Blues)\n",
    "disp.ax_.set_title('Test Split')\n",
    "confusion_matrix(test_labels, preds)"
   ]
  },
  {
   "cell_type": "markdown",
   "metadata": {},
   "source": [
    "## Problem-56"
   ]
  },
  {
   "cell_type": "code",
   "execution_count": 19,
   "metadata": {},
   "outputs": [],
   "source": [
    "from sklearn.metrics import precision_recall_fscore_support"
   ]
  },
  {
   "cell_type": "code",
   "execution_count": 20,
   "metadata": {},
   "outputs": [
    {
     "data": {
      "text/plain": [
       "(array([0.93, 0.91, 0.97, 0.9 ]),\n",
       " array([0.96, 0.98, 0.66, 0.73]),\n",
       " array([0.94, 0.94, 0.79, 0.8 ]),\n",
       " array([565, 516,  95, 158]))"
      ]
     },
     "execution_count": 20,
     "metadata": {},
     "output_type": "execute_result"
    }
   ],
   "source": [
    "precision_recall_fscore_support(test_labels, preds)"
   ]
  },
  {
   "cell_type": "code",
   "execution_count": 25,
   "metadata": {},
   "outputs": [
    {
     "data": {
      "text/plain": [
       "0.9447619047619047"
      ]
     },
     "execution_count": 25,
     "metadata": {},
     "output_type": "execute_result"
    }
   ],
   "source": [
    "2*0.93*0.96/ (0.93+0.96)"
   ]
  },
  {
   "cell_type": "code",
   "execution_count": 22,
   "metadata": {},
   "outputs": [
    {
     "data": {
      "text/plain": [
       "(0.9175412293853074, 0.9175412293853074, 0.9175412293853074, None)"
      ]
     },
     "execution_count": 22,
     "metadata": {},
     "output_type": "execute_result"
    }
   ],
   "source": [
    "precision_recall_fscore_support(test_labels, preds, average='micro')"
   ]
  },
  {
   "cell_type": "code",
   "execution_count": 21,
   "metadata": {},
   "outputs": [
    {
     "data": {
      "text/plain": [
       "(0.9251612559992334, 0.8318025726097764, 0.8686535496059102, None)"
      ]
     },
     "execution_count": 21,
     "metadata": {},
     "output_type": "execute_result"
    }
   ],
   "source": [
    "precision_recall_fscore_support(test_labels, preds, average='macro')"
   ]
  },
  {
   "cell_type": "markdown",
   "metadata": {},
   "source": [
    "## Problem-57"
   ]
  },
  {
   "cell_type": "code",
   "execution_count": 30,
   "metadata": {
    "scrolled": true
   },
   "outputs": [
    {
     "name": "stdout",
     "output_type": "stream",
     "text": [
      "(4, 12488)\n",
      "busi.\n",
      "Most Important\t\t\tLeast Important\n",
      "china\t\t\tactivision\n",
      "dollar\t\t\taereo\n",
      "mcdonald\t\t\tebola\n",
      "inflation\t\t\ttwitch\n",
      "buy\t\t\theartbleed\n",
      "uber\t\t\tnintendo\n",
      "india\t\t\tstar\n",
      "fitch\t\t\tsubscription\n",
      "profit\t\t\tmicrosoft\n",
      "revenue\t\t\twoman\n",
      "\n",
      "\n",
      "enter.\n",
      "Most Important\t\t\tLeast Important\n",
      "cannes\t\t\tgoogle\n",
      "film\t\t\tgm\n",
      "jay\t\t\tfacebook\n",
      "beyonce\t\t\tchina\n",
      "kim\t\t\tbillion\n",
      "met\t\t\tapple\n",
      "fans\t\t\tstudy\n",
      "george\t\t\tobamacare\n",
      "hbo\t\t\tdata\n",
      "jennifer\t\t\tebola\n",
      "\n",
      "\n",
      "health\n",
      "Most Important\t\t\tLeast Important\n",
      "brain\t\t\tgm\n",
      "aids\t\t\tfacebook\n",
      "alzheimer\t\t\tdimon\n",
      "heart\t\t\tclimate\n",
      "abortion\t\t\tapple\n",
      "cigarette\t\t\tamazon\n",
      "woman\t\t\texplain\n",
      "health\t\t\ttwitter\n",
      "children\t\t\testimates\n",
      "virus\t\t\tjobs\n",
      "\n",
      "\n",
      "science\n",
      "Most Important\t\t\tLeast Important\n",
      "fcc\t\t\tstocks\n",
      "earth\t\t\tvalued\n",
      "neutrality\t\t\tpercent\n",
      "moon\t\t\tmen\n",
      "iphone\t\t\tfed\n",
      "nintendo\t\t\tamerican\n",
      "nasa\t\t\tkids\n",
      "hackers\t\t\tdrug\n",
      "playstation\t\t\tbrand\n",
      "planet\t\t\tplane\n",
      "\n",
      "\n"
     ]
    }
   ],
   "source": [
    "importance = classifier.coef_\n",
    "print(importance.shape)\n",
    "features = vectorizer.get_feature_names()\n",
    "for i in range(importance.shape[0]):\n",
    "    print(categs[i])\n",
    "#     abs_importance = np.absolute(importance[i])\n",
    "    abs_importance = importance[i]\n",
    "#     print(abs_importance.shape)\n",
    "    top = np.argsort(abs_importance)[::-1][10:]\n",
    "    bottom = np.argsort(abs_importance)[:10]\n",
    "    print(f'Most Important\\t\\t\\tLeast Important')\n",
    "    for j, k in zip(top, bottom):\n",
    "        print(f'{features[j].strip()}\\t\\t\\t{features[k].strip()}')\n",
    "    print('\\n')\n",
    "    "
   ]
  },
  {
   "cell_type": "markdown",
   "metadata": {},
   "source": [
    "## problem 58"
   ]
  },
  {
   "cell_type": "code",
   "execution_count": 31,
   "metadata": {},
   "outputs": [
    {
     "name": "stderr",
     "output_type": "stream",
     "text": [
      " 80%|████████  | 8/10 [01:49<00:43, 21.71s/it]/Users/vipulmishra/anaconda3/lib/python3.8/site-packages/sklearn/linear_model/_logistic.py:762: ConvergenceWarning: lbfgs failed to converge (status=1):\n",
      "STOP: TOTAL NO. of ITERATIONS REACHED LIMIT.\n",
      "\n",
      "Increase the number of iterations (max_iter) or scale the data as shown in:\n",
      "    https://scikit-learn.org/stable/modules/preprocessing.html\n",
      "Please also refer to the documentation for alternative solver options:\n",
      "    https://scikit-learn.org/stable/modules/linear_model.html#logistic-regression\n",
      "  n_iter_i = _check_optimize_result(\n",
      " 90%|█████████ | 9/10 [03:25<00:43, 44.00s/it]/Users/vipulmishra/anaconda3/lib/python3.8/site-packages/sklearn/linear_model/_logistic.py:762: ConvergenceWarning: lbfgs failed to converge (status=1):\n",
      "STOP: TOTAL NO. of ITERATIONS REACHED LIMIT.\n",
      "\n",
      "Increase the number of iterations (max_iter) or scale the data as shown in:\n",
      "    https://scikit-learn.org/stable/modules/preprocessing.html\n",
      "Please also refer to the documentation for alternative solver options:\n",
      "    https://scikit-learn.org/stable/modules/linear_model.html#logistic-regression\n",
      "  n_iter_i = _check_optimize_result(\n",
      "100%|██████████| 10/10 [04:59<00:00, 29.93s/it]\n"
     ]
    }
   ],
   "source": [
    "from tqdm import tqdm\n",
    "\n",
    "tr_acc = []\n",
    "val_acc = []\n",
    "test_acc = []\n",
    "\n",
    "for i in tqdm(np.logspace(-4, 5, 10)):\n",
    "    lg = LogisticRegression(random_state=123, max_iter=1000,C = i)\n",
    "    lg.fit(train_data, train_labels)\n",
    "    tr_pred, _ = get_predict_and_proba(lg, train_data)\n",
    "    tr_acc.append(accuracy_score(train_labels, tr_pred))\n",
    "    val_pred, _ = get_predict_and_proba(lg, valid_data)\n",
    "    val_acc.append(accuracy_score(valid_labels, val_pred))\n",
    "    test_pred, _ = get_predict_and_proba(lg, test_data)\n",
    "    test_acc.append(accuracy_score(test_labels, test_pred))\n",
    "    "
   ]
  },
  {
   "cell_type": "code",
   "execution_count": 29,
   "metadata": {},
   "outputs": [
    {
     "data": {
      "text/plain": [
       "[<matplotlib.lines.Line2D at 0x7fcd60ea5130>]"
      ]
     },
     "execution_count": 29,
     "metadata": {},
     "output_type": "execute_result"
    },
    {
     "data": {
      "image/png": "[encoded data removed]",
      "text/plain": [
       "<Figure size 720x432 with 1 Axes>"
      ]
     },
     "metadata": {
      "needs_background": "light"
     },
     "output_type": "display_data"
    }
   ],
   "source": [
    "plt.figure(figsize=(10,6))\n",
    "plt.title('Effect of regularization parameter on accuracy')\n",
    "plt.xscale('log')\n",
    "plt.xlabel('regularization parameter')\n",
    "plt.ylabel('accuracy')\n",
    "plt.plot(np.logspace(-4, 5, 10), tr_acc)\n",
    "plt.plot(np.logspace(-4, 5, 10), val_acc)\n",
    "plt.plot(np.logspace(-4, 5, 10), test_acc)"
   ]
  },
  {
   "cell_type": "markdown",
   "metadata": {},
   "source": [
    "## Problem 59 (Don't run on small machines)"
   ]
  },
  {
   "cell_type": "code",
   "execution_count": 23,
   "metadata": {},
   "outputs": [
    {
     "name": "stdout",
     "output_type": "stream",
     "text": [
      "RandomForestClassifier\n",
      "train_accuracy : 1.0\n",
      "test_accuracy : 0.8620689655172413\n",
      "SGDClassifier\n",
      "train_accuracy : 0.998\n",
      "test_accuracy : 0.9137931034482759\n",
      "LinearSVC\n",
      "train_accuracy : 0.999\n",
      "test_accuracy : 0.9100449775112444\n"
     ]
    }
   ],
   "source": [
    "classifier_models = {'ensemble': 'RandomForestClassifier', 'linear_model': 'SGDClassifier', 'svm': 'LinearSVC'}\n",
    "prefix = 'sklearn.'\n",
    "import importlib\n",
    "# all_models loaded in this way\n",
    "for module_, class_ in classifier_models.items():\n",
    "    module = importlib.import_module(prefix+module_)\n",
    "    model = getattr(module, class_)\n",
    "    model = model()\n",
    "    model.fit(train_data, train_labels)\n",
    "    train_pred = model.predict(train_data)\n",
    "    test_pred = model.predict(test_data)\n",
    "    print(class_)\n",
    "    print('train_accuracy', round(accuracy_score(train_labels, train_pred),3), sep=' : ')\n",
    "    print('test_accuracy',accuracy_score(test_labels, test_pred), sep=' : ')\n",
    "    print()"
   ]
  },
  {
   "cell_type": "code",
   "execution_count": null,
   "metadata": {},
   "outputs": [],
   "source": [
    "train_hp_data = np.copy(train_data)\n",
    "train_hp_labels = np.copy(train_labels)\n",
    "valid_hp_data = np.copy(valid_data)\n",
    "valid_hp_labels = np.copy(valid_labels)\n",
    "\n",
    "print(train_hp_data.shape, valid_hp_data.shape)\n",
    "\n",
    "param_data = np.concatenate((train_hp_data, valid_hp_data), axis=0)\n",
    "param_labels = np.concatenate((train_hp_labels, valid_hp_labels), axis=0)\n",
    "param_train.shape, param_labels.shape"
   ]
  },
  {
   "cell_type": "code",
   "execution_count": 24,
   "metadata": {},
   "outputs": [
    {
     "name": "stdout",
     "output_type": "stream",
     "text": [
      "dict_keys(['C', 'class_weight', 'dual', 'fit_intercept', 'intercept_scaling', 'l1_ratio', 'max_iter', 'multi_class', 'n_jobs', 'penalty', 'random_state', 'solver', 'tol', 'verbose', 'warm_start'])\n"
     ]
    },
    {
     "data": {
      "text/plain": [
       "GridSearchCV(estimator=LogisticRegression(),\n",
       "             param_grid={'C': [0.1, 1], 'max_iter': [100, 200, 500]},\n",
       "             scoring='accuracy')"
      ]
     },
     "execution_count": 24,
     "metadata": {},
     "output_type": "execute_result"
    }
   ],
   "source": [
    "#grid searching the hyperparameters to find the optimal hyperparameters\n",
    "from sklearn.model_selection import GridSearchCV\n",
    "\n",
    "param_grid = {'C': [0.1, 1, 100, 1000],\n",
    "   'penalty': ['l2', 'l1'],\n",
    "   'tol': [0.0001, 0.001, 0.01],\n",
    "   'max_iter':[100, 200, 500]}\n",
    "\n",
    "lg_ = LogisticRegression()\n",
    "print(lg_.get_params().keys())\n",
    "\n",
    "clf = GridSearchCV(estimator=lg_, param_grid=param_grid, scoring=\"accuracy\", cv=[(np.arange(0, 10672), np.arange(10672, 12006))], verbose=2)\n",
    "clf.fit(param_data, param_labels)"
   ]
  },
  {
   "cell_type": "code",
   "execution_count": 26,
   "metadata": {},
   "outputs": [
    {
     "data": {
      "text/plain": [
       "0.9107956164167081"
      ]
     },
     "execution_count": 26,
     "metadata": {},
     "output_type": "execute_result"
    }
   ],
   "source": [
    "clf.best_score_"
   ]
  },
  {
   "cell_type": "code",
   "execution_count": null,
   "metadata": {},
   "outputs": [],
   "source": [
    "preds = clf.best_estimator_.predict(test_data)\n",
    "print(f'accuracy_score: {accuracy_score(test_labels, preds):.3f}')"
   ]
  },
  {
   "cell_type": "code",
   "execution_count": null,
   "metadata": {},
   "outputs": [],
   "source": []
  }
 ],
 "metadata": {
  "kernelspec": {
   "display_name": "Python 3",
   "language": "python",
   "name": "python3"
  },
  "language_info": {
   "codemirror_mode": {
    "name": "ipython",
    "version": 3
   },
   "file_extension": ".py",
   "mimetype": "text/x-python",
   "name": "python",
   "nbconvert_exporter": "python",
   "pygments_lexer": "ipython3",
   "version": "3.8.3"
  }
 },
 "nbformat": 4,
 "nbformat_minor": 4
}
